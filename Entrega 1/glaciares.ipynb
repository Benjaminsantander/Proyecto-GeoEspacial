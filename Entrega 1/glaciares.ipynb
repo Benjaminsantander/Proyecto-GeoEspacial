{
 "cells": [
  {
   "cell_type": "code",
   "execution_count": 1,
   "id": "89a45a7a-eba8-4921-8f83-c006aab720b3",
   "metadata": {},
   "outputs": [],
   "source": [
    "import pandas as pd\n",
    "import geopandas as gpd\n",
    "import numpy as np\n",
    "import matplotlib.pyplot as plt\n",
    "import geemap,ee\n",
    "import matplotlib.colors as colors\n",
    "from shapely.geometry import shape, box, Polygon, mapping, Point\n",
    "from shapely.ops import unary_union\n",
    "import shapely\n",
    "from matplotlib import colors\n",
    "import matplotlib.patches as mpatches\n",
    "import contextily as ctx\n",
    "import geemap.colormaps as cm\n",
    "\n",
    "from sklearn.cluster import DBSCAN, HDBSCAN\n",
    "import math"
   ]
  },
  {
   "cell_type": "code",
   "execution_count": 2,
   "id": "38a6608d-972e-4297-b1c4-568e95b1cff5",
   "metadata": {},
   "outputs": [
    {
     "data": {
      "text/html": [
       "\n",
       "            <style>\n",
       "                .geemap-dark {\n",
       "                    --jp-widgets-color: white;\n",
       "                    --jp-widgets-label-color: white;\n",
       "                    --jp-ui-font-color1: white;\n",
       "                    --jp-layout-color2: #454545;\n",
       "                    background-color: #383838;\n",
       "                }\n",
       "\n",
       "                .geemap-dark .jupyter-button {\n",
       "                    --jp-layout-color3: #383838;\n",
       "                }\n",
       "\n",
       "                .geemap-colab {\n",
       "                    background-color: var(--colab-primary-surface-color, white);\n",
       "                }\n",
       "\n",
       "                .geemap-colab .jupyter-button {\n",
       "                    --jp-layout-color3: var(--colab-primary-surface-color, white);\n",
       "                }\n",
       "            </style>\n",
       "            "
      ],
      "text/plain": [
       "<IPython.core.display.HTML object>"
      ]
     },
     "metadata": {},
     "output_type": "display_data"
    },
    {
     "data": {
      "text/plain": [
       "True"
      ]
     },
     "execution_count": 2,
     "metadata": {},
     "output_type": "execute_result"
    }
   ],
   "source": [
    "ee.Authenticate()"
   ]
  },
  {
   "cell_type": "code",
   "execution_count": 3,
   "id": "6f4ac348-97af-40f8-bcb2-604a6c438f53",
   "metadata": {},
   "outputs": [
    {
     "data": {
      "text/html": [
       "\n",
       "            <style>\n",
       "                .geemap-dark {\n",
       "                    --jp-widgets-color: white;\n",
       "                    --jp-widgets-label-color: white;\n",
       "                    --jp-ui-font-color1: white;\n",
       "                    --jp-layout-color2: #454545;\n",
       "                    background-color: #383838;\n",
       "                }\n",
       "\n",
       "                .geemap-dark .jupyter-button {\n",
       "                    --jp-layout-color3: #383838;\n",
       "                }\n",
       "\n",
       "                .geemap-colab {\n",
       "                    background-color: var(--colab-primary-surface-color, white);\n",
       "                }\n",
       "\n",
       "                .geemap-colab .jupyter-button {\n",
       "                    --jp-layout-color3: var(--colab-primary-surface-color, white);\n",
       "                }\n",
       "            </style>\n",
       "            "
      ],
      "text/plain": [
       "<IPython.core.display.HTML object>"
      ]
     },
     "metadata": {},
     "output_type": "display_data"
    }
   ],
   "source": [
    "ee.Initialize()"
   ]
  },
  {
   "cell_type": "markdown",
   "id": "bc60c79e-4b14-4864-922e-8fd5433e066a",
   "metadata": {},
   "source": [
    "## Tomar los datos del IDE\n",
    "\n",
    "Extraido de https://www.geoportal.cl/geoportal/catalog/35993/Glaciares%20de%20Chile"
   ]
  },
  {
   "cell_type": "code",
   "execution_count": 4,
   "id": "81f7b091-88d2-4532-ac32-53e5a3df4100",
   "metadata": {},
   "outputs": [
    {
     "data": {
      "text/html": [
       "\n",
       "            <style>\n",
       "                .geemap-dark {\n",
       "                    --jp-widgets-color: white;\n",
       "                    --jp-widgets-label-color: white;\n",
       "                    --jp-ui-font-color1: white;\n",
       "                    --jp-layout-color2: #454545;\n",
       "                    background-color: #383838;\n",
       "                }\n",
       "\n",
       "                .geemap-dark .jupyter-button {\n",
       "                    --jp-layout-color3: #383838;\n",
       "                }\n",
       "\n",
       "                .geemap-colab {\n",
       "                    background-color: var(--colab-primary-surface-color, white);\n",
       "                }\n",
       "\n",
       "                .geemap-colab .jupyter-button {\n",
       "                    --jp-layout-color3: var(--colab-primary-surface-color, white);\n",
       "                }\n",
       "            </style>\n",
       "            "
      ],
      "text/plain": [
       "<IPython.core.display.HTML object>"
      ]
     },
     "metadata": {},
     "output_type": "display_data"
    },
    {
     "name": "stderr",
     "output_type": "stream",
     "text": [
      "Cannot find header.dxf (GDAL_DATA is not defined)\n"
     ]
    }
   ],
   "source": [
    "gdf_glaciares = gpd.read_file('datos/IPG2022_v2.shp')"
   ]
  },
  {
   "cell_type": "code",
   "execution_count": 5,
   "id": "77137166-5f3d-47f9-a087-44b2029dab4d",
   "metadata": {
    "scrolled": true
   },
   "outputs": [
    {
     "data": {
      "text/html": [
       "\n",
       "            <style>\n",
       "                .geemap-dark {\n",
       "                    --jp-widgets-color: white;\n",
       "                    --jp-widgets-label-color: white;\n",
       "                    --jp-ui-font-color1: white;\n",
       "                    --jp-layout-color2: #454545;\n",
       "                    background-color: #383838;\n",
       "                }\n",
       "\n",
       "                .geemap-dark .jupyter-button {\n",
       "                    --jp-layout-color3: #383838;\n",
       "                }\n",
       "\n",
       "                .geemap-colab {\n",
       "                    background-color: var(--colab-primary-surface-color, white);\n",
       "                }\n",
       "\n",
       "                .geemap-colab .jupyter-button {\n",
       "                    --jp-layout-color3: var(--colab-primary-surface-color, white);\n",
       "                }\n",
       "            </style>\n",
       "            "
      ],
      "text/plain": [
       "<IPython.core.display.HTML object>"
      ]
     },
     "metadata": {},
     "output_type": "display_data"
    },
    {
     "data": {
      "text/plain": [
       "<Projected CRS: EPSG:32719>\n",
       "Name: WGS 84 / UTM zone 19S\n",
       "Axis Info [cartesian]:\n",
       "- E[east]: Easting (metre)\n",
       "- N[north]: Northing (metre)\n",
       "Area of Use:\n",
       "- name: Between 72°W and 66°W, southern hemisphere between 80°S and equator, onshore and offshore. Argentina. Bolivia. Brazil. Chile. Colombia. Peru.\n",
       "- bounds: (-72.0, -80.0, -66.0, 0.0)\n",
       "Coordinate Operation:\n",
       "- name: UTM zone 19S\n",
       "- method: Transverse Mercator\n",
       "Datum: World Geodetic System 1984 ensemble\n",
       "- Ellipsoid: WGS 84\n",
       "- Prime Meridian: Greenwich"
      ]
     },
     "execution_count": 5,
     "metadata": {},
     "output_type": "execute_result"
    }
   ],
   "source": [
    "gdf_glaciares.crs"
   ]
  },
  {
   "cell_type": "code",
   "execution_count": 6,
   "id": "ab012f5e-b97d-4f8a-8317-e1a925be15d9",
   "metadata": {},
   "outputs": [
    {
     "data": {
      "text/html": [
       "\n",
       "            <style>\n",
       "                .geemap-dark {\n",
       "                    --jp-widgets-color: white;\n",
       "                    --jp-widgets-label-color: white;\n",
       "                    --jp-ui-font-color1: white;\n",
       "                    --jp-layout-color2: #454545;\n",
       "                    background-color: #383838;\n",
       "                }\n",
       "\n",
       "                .geemap-dark .jupyter-button {\n",
       "                    --jp-layout-color3: #383838;\n",
       "                }\n",
       "\n",
       "                .geemap-colab {\n",
       "                    background-color: var(--colab-primary-surface-color, white);\n",
       "                }\n",
       "\n",
       "                .geemap-colab .jupyter-button {\n",
       "                    --jp-layout-color3: var(--colab-primary-surface-color, white);\n",
       "                }\n",
       "            </style>\n",
       "            "
      ],
      "text/plain": [
       "<IPython.core.display.HTML object>"
      ]
     },
     "metadata": {},
     "output_type": "display_data"
    }
   ],
   "source": [
    "gdf_glaciares.to_crs(4326, inplace=True)"
   ]
  },
  {
   "cell_type": "code",
   "execution_count": 7,
   "id": "cb1643b6-0810-42ef-bc23-73241b6928cc",
   "metadata": {},
   "outputs": [
    {
     "data": {
      "text/html": [
       "\n",
       "            <style>\n",
       "                .geemap-dark {\n",
       "                    --jp-widgets-color: white;\n",
       "                    --jp-widgets-label-color: white;\n",
       "                    --jp-ui-font-color1: white;\n",
       "                    --jp-layout-color2: #454545;\n",
       "                    background-color: #383838;\n",
       "                }\n",
       "\n",
       "                .geemap-dark .jupyter-button {\n",
       "                    --jp-layout-color3: #383838;\n",
       "                }\n",
       "\n",
       "                .geemap-colab {\n",
       "                    background-color: var(--colab-primary-surface-color, white);\n",
       "                }\n",
       "\n",
       "                .geemap-colab .jupyter-button {\n",
       "                    --jp-layout-color3: var(--colab-primary-surface-color, white);\n",
       "                }\n",
       "            </style>\n",
       "            "
      ],
      "text/plain": [
       "<IPython.core.display.HTML object>"
      ]
     },
     "metadata": {},
     "output_type": "display_data"
    },
    {
     "data": {
      "text/html": [
       "<div>\n",
       "<style scoped>\n",
       "    .dataframe tbody tr th:only-of-type {\n",
       "        vertical-align: middle;\n",
       "    }\n",
       "\n",
       "    .dataframe tbody tr th {\n",
       "        vertical-align: top;\n",
       "    }\n",
       "\n",
       "    .dataframe thead th {\n",
       "        text-align: right;\n",
       "    }\n",
       "</style>\n",
       "<table border=\"1\" class=\"dataframe\">\n",
       "  <thead>\n",
       "    <tr style=\"text-align: right;\">\n",
       "      <th></th>\n",
       "      <th>OBJECTID</th>\n",
       "      <th>Id</th>\n",
       "      <th>COD_GLA</th>\n",
       "      <th>NOMBRE</th>\n",
       "      <th>CLASIFICA</th>\n",
       "      <th>AREA_KM2</th>\n",
       "      <th>REGION</th>\n",
       "      <th>PROVINCIA</th>\n",
       "      <th>COMUNA</th>\n",
       "      <th>DATUM</th>\n",
       "      <th>...</th>\n",
       "      <th>WGI_2</th>\n",
       "      <th>WGI_3</th>\n",
       "      <th>FRENTE_TER</th>\n",
       "      <th>RESOL_IMG</th>\n",
       "      <th>ERROR</th>\n",
       "      <th>OBSERVACIO</th>\n",
       "      <th>CUT_REG</th>\n",
       "      <th>CUT_PROV</th>\n",
       "      <th>CUT_COM</th>\n",
       "      <th>geometry</th>\n",
       "    </tr>\n",
       "  </thead>\n",
       "  <tbody>\n",
       "    <tr>\n",
       "      <th>0</th>\n",
       "      <td>174</td>\n",
       "      <td>0</td>\n",
       "      <td>CL101010001@</td>\n",
       "      <td>VOLCAN PARINACOTA</td>\n",
       "      <td>GLACIAR DE MONTAÑA</td>\n",
       "      <td>1.167625</td>\n",
       "      <td>ARICA Y PARINACOTA</td>\n",
       "      <td>PARINACOTA</td>\n",
       "      <td>PUTRE</td>\n",
       "      <td>WGS 84</td>\n",
       "      <td>...</td>\n",
       "      <td>6</td>\n",
       "      <td>3</td>\n",
       "      <td>TIERRA</td>\n",
       "      <td>15.0</td>\n",
       "      <td>0.110762</td>\n",
       "      <td>None</td>\n",
       "      <td>15</td>\n",
       "      <td>152</td>\n",
       "      <td>15201</td>\n",
       "      <td>POLYGON ((-69.14147 -18.16858, -69.14146 -18.1...</td>\n",
       "    </tr>\n",
       "    <tr>\n",
       "      <th>1</th>\n",
       "      <td>180</td>\n",
       "      <td>0</td>\n",
       "      <td>CL101001023@</td>\n",
       "      <td>VOLCAN POMERAPE</td>\n",
       "      <td>GLACIAR DE MONTAÑA</td>\n",
       "      <td>0.477543</td>\n",
       "      <td>ARICA Y PARINACOTA</td>\n",
       "      <td>PARINACOTA</td>\n",
       "      <td>PUTRE</td>\n",
       "      <td>WGS 84</td>\n",
       "      <td>...</td>\n",
       "      <td>9</td>\n",
       "      <td>6</td>\n",
       "      <td>TIERRA</td>\n",
       "      <td>15.0</td>\n",
       "      <td>0.088744</td>\n",
       "      <td>None</td>\n",
       "      <td>15</td>\n",
       "      <td>152</td>\n",
       "      <td>15201</td>\n",
       "      <td>POLYGON ((-69.13025 -18.12238, -69.13005 -18.1...</td>\n",
       "    </tr>\n",
       "    <tr>\n",
       "      <th>2</th>\n",
       "      <td>183</td>\n",
       "      <td>0</td>\n",
       "      <td>CL101021004@</td>\n",
       "      <td>S/N</td>\n",
       "      <td>GLACIARETE</td>\n",
       "      <td>0.162167</td>\n",
       "      <td>ARICA Y PARINACOTA</td>\n",
       "      <td>PARINACOTA</td>\n",
       "      <td>PUTRE</td>\n",
       "      <td>WGS 84</td>\n",
       "      <td>...</td>\n",
       "      <td>7</td>\n",
       "      <td>3</td>\n",
       "      <td>TIERRA</td>\n",
       "      <td>15.0</td>\n",
       "      <td>0.052476</td>\n",
       "      <td>None</td>\n",
       "      <td>15</td>\n",
       "      <td>152</td>\n",
       "      <td>15201</td>\n",
       "      <td>POLYGON ((-69.09348 -18.42529, -69.09408 -18.4...</td>\n",
       "    </tr>\n",
       "    <tr>\n",
       "      <th>3</th>\n",
       "      <td>184</td>\n",
       "      <td>0</td>\n",
       "      <td>CL101021007@</td>\n",
       "      <td>S/N</td>\n",
       "      <td>GLACIARETE</td>\n",
       "      <td>0.093870</td>\n",
       "      <td>ARICA Y PARINACOTA</td>\n",
       "      <td>PARINACOTA</td>\n",
       "      <td>PUTRE</td>\n",
       "      <td>WGS 84</td>\n",
       "      <td>...</td>\n",
       "      <td>9</td>\n",
       "      <td>6</td>\n",
       "      <td>TIERRA</td>\n",
       "      <td>15.0</td>\n",
       "      <td>0.019837</td>\n",
       "      <td>None</td>\n",
       "      <td>15</td>\n",
       "      <td>152</td>\n",
       "      <td>15201</td>\n",
       "      <td>POLYGON ((-69.08682 -18.42340, -69.08667 -18.4...</td>\n",
       "    </tr>\n",
       "    <tr>\n",
       "      <th>4</th>\n",
       "      <td>185</td>\n",
       "      <td>0</td>\n",
       "      <td>CL101021008@</td>\n",
       "      <td>S/N</td>\n",
       "      <td>GLACIARETE</td>\n",
       "      <td>0.155676</td>\n",
       "      <td>ARICA Y PARINACOTA</td>\n",
       "      <td>PARINACOTA</td>\n",
       "      <td>PUTRE</td>\n",
       "      <td>WGS 84</td>\n",
       "      <td>...</td>\n",
       "      <td>9</td>\n",
       "      <td>6</td>\n",
       "      <td>TIERRA</td>\n",
       "      <td>15.0</td>\n",
       "      <td>0.028012</td>\n",
       "      <td>None</td>\n",
       "      <td>15</td>\n",
       "      <td>152</td>\n",
       "      <td>15201</td>\n",
       "      <td>POLYGON ((-69.08228 -18.42549, -69.08248 -18.4...</td>\n",
       "    </tr>\n",
       "  </tbody>\n",
       "</table>\n",
       "<p>5 rows × 46 columns</p>\n",
       "</div>"
      ],
      "text/plain": [
       "   OBJECTID  Id       COD_GLA             NOMBRE           CLASIFICA  \\\n",
       "0       174   0  CL101010001@  VOLCAN PARINACOTA  GLACIAR DE MONTAÑA   \n",
       "1       180   0  CL101001023@    VOLCAN POMERAPE  GLACIAR DE MONTAÑA   \n",
       "2       183   0  CL101021004@                S/N          GLACIARETE   \n",
       "3       184   0  CL101021007@                S/N          GLACIARETE   \n",
       "4       185   0  CL101021008@                S/N          GLACIARETE   \n",
       "\n",
       "   AREA_KM2              REGION   PROVINCIA COMUNA   DATUM  ... WGI_2  WGI_3  \\\n",
       "0  1.167625  ARICA Y PARINACOTA  PARINACOTA  PUTRE  WGS 84  ...     6      3   \n",
       "1  0.477543  ARICA Y PARINACOTA  PARINACOTA  PUTRE  WGS 84  ...     9      6   \n",
       "2  0.162167  ARICA Y PARINACOTA  PARINACOTA  PUTRE  WGS 84  ...     7      3   \n",
       "3  0.093870  ARICA Y PARINACOTA  PARINACOTA  PUTRE  WGS 84  ...     9      6   \n",
       "4  0.155676  ARICA Y PARINACOTA  PARINACOTA  PUTRE  WGS 84  ...     9      6   \n",
       "\n",
       "   FRENTE_TER RESOL_IMG     ERROR  OBSERVACIO CUT_REG CUT_PROV CUT_COM  \\\n",
       "0      TIERRA      15.0  0.110762        None      15      152   15201   \n",
       "1      TIERRA      15.0  0.088744        None      15      152   15201   \n",
       "2      TIERRA      15.0  0.052476        None      15      152   15201   \n",
       "3      TIERRA      15.0  0.019837        None      15      152   15201   \n",
       "4      TIERRA      15.0  0.028012        None      15      152   15201   \n",
       "\n",
       "                                            geometry  \n",
       "0  POLYGON ((-69.14147 -18.16858, -69.14146 -18.1...  \n",
       "1  POLYGON ((-69.13025 -18.12238, -69.13005 -18.1...  \n",
       "2  POLYGON ((-69.09348 -18.42529, -69.09408 -18.4...  \n",
       "3  POLYGON ((-69.08682 -18.42340, -69.08667 -18.4...  \n",
       "4  POLYGON ((-69.08228 -18.42549, -69.08248 -18.4...  \n",
       "\n",
       "[5 rows x 46 columns]"
      ]
     },
     "execution_count": 7,
     "metadata": {},
     "output_type": "execute_result"
    }
   ],
   "source": [
    "gdf_glaciares.head()"
   ]
  },
  {
   "cell_type": "code",
   "execution_count": 8,
   "id": "b3d079e1-284c-45df-92ff-11f8b3aaef1f",
   "metadata": {},
   "outputs": [
    {
     "data": {
      "text/html": [
       "\n",
       "            <style>\n",
       "                .geemap-dark {\n",
       "                    --jp-widgets-color: white;\n",
       "                    --jp-widgets-label-color: white;\n",
       "                    --jp-ui-font-color1: white;\n",
       "                    --jp-layout-color2: #454545;\n",
       "                    background-color: #383838;\n",
       "                }\n",
       "\n",
       "                .geemap-dark .jupyter-button {\n",
       "                    --jp-layout-color3: #383838;\n",
       "                }\n",
       "\n",
       "                .geemap-colab {\n",
       "                    background-color: var(--colab-primary-surface-color, white);\n",
       "                }\n",
       "\n",
       "                .geemap-colab .jupyter-button {\n",
       "                    --jp-layout-color3: var(--colab-primary-surface-color, white);\n",
       "                }\n",
       "            </style>\n",
       "            "
      ],
      "text/plain": [
       "<IPython.core.display.HTML object>"
      ]
     },
     "metadata": {},
     "output_type": "display_data"
    },
    {
     "name": "stderr",
     "output_type": "stream",
     "text": [
      "C:\\Users\\snmar\\AppData\\Local\\Temp\\ipykernel_28560\\931950666.py:1: UserWarning: Geometry is in a geographic CRS. Results from 'centroid' are likely incorrect. Use 'GeoSeries.to_crs()' to re-project geometries to a projected CRS before this operation.\n",
      "\n",
      "  gdf_glaciares['centroid'] = gdf_glaciares['geometry'].centroid\n"
     ]
    }
   ],
   "source": [
    "gdf_glaciares['centroid'] = gdf_glaciares['geometry'].centroid"
   ]
  },
  {
   "cell_type": "markdown",
   "id": "2986ea3e-49e9-46ce-a6aa-8366b894a19e",
   "metadata": {},
   "source": [
    "### Calculo de los centroides"
   ]
  },
  {
   "cell_type": "code",
   "execution_count": 9,
   "id": "61655660-184c-4e9c-a4e4-9c56014d8c76",
   "metadata": {},
   "outputs": [
    {
     "data": {
      "text/html": [
       "\n",
       "            <style>\n",
       "                .geemap-dark {\n",
       "                    --jp-widgets-color: white;\n",
       "                    --jp-widgets-label-color: white;\n",
       "                    --jp-ui-font-color1: white;\n",
       "                    --jp-layout-color2: #454545;\n",
       "                    background-color: #383838;\n",
       "                }\n",
       "\n",
       "                .geemap-dark .jupyter-button {\n",
       "                    --jp-layout-color3: #383838;\n",
       "                }\n",
       "\n",
       "                .geemap-colab {\n",
       "                    background-color: var(--colab-primary-surface-color, white);\n",
       "                }\n",
       "\n",
       "                .geemap-colab .jupyter-button {\n",
       "                    --jp-layout-color3: var(--colab-primary-surface-color, white);\n",
       "                }\n",
       "            </style>\n",
       "            "
      ],
      "text/plain": [
       "<IPython.core.display.HTML object>"
      ]
     },
     "metadata": {},
     "output_type": "display_data"
    }
   ],
   "source": [
    "transformado = gdf_glaciares['centroid'].to_crs(32719)"
   ]
  },
  {
   "cell_type": "code",
   "execution_count": 10,
   "id": "32e5ebd5-05e5-437f-980f-ed8e0e4f2b75",
   "metadata": {},
   "outputs": [
    {
     "data": {
      "text/html": [
       "\n",
       "            <style>\n",
       "                .geemap-dark {\n",
       "                    --jp-widgets-color: white;\n",
       "                    --jp-widgets-label-color: white;\n",
       "                    --jp-ui-font-color1: white;\n",
       "                    --jp-layout-color2: #454545;\n",
       "                    background-color: #383838;\n",
       "                }\n",
       "\n",
       "                .geemap-dark .jupyter-button {\n",
       "                    --jp-layout-color3: #383838;\n",
       "                }\n",
       "\n",
       "                .geemap-colab {\n",
       "                    background-color: var(--colab-primary-surface-color, white);\n",
       "                }\n",
       "\n",
       "                .geemap-colab .jupyter-button {\n",
       "                    --jp-layout-color3: var(--colab-primary-surface-color, white);\n",
       "                }\n",
       "            </style>\n",
       "            "
      ],
      "text/plain": [
       "<IPython.core.display.HTML object>"
      ]
     },
     "metadata": {},
     "output_type": "display_data"
    }
   ],
   "source": [
    "coords = transformado.apply(lambda point: (point.x, point.y)).tolist()"
   ]
  },
  {
   "cell_type": "markdown",
   "id": "4f880e38-3a2a-4372-8ca0-1b07131c60fa",
   "metadata": {},
   "source": [
    "### Realizacion de un proceso de clusters, por cercania mediante DBSCAN"
   ]
  },
  {
   "cell_type": "code",
   "execution_count": 11,
   "id": "268d3579-e513-48a6-9f0c-469362d4e11b",
   "metadata": {},
   "outputs": [
    {
     "data": {
      "text/html": [
       "\n",
       "            <style>\n",
       "                .geemap-dark {\n",
       "                    --jp-widgets-color: white;\n",
       "                    --jp-widgets-label-color: white;\n",
       "                    --jp-ui-font-color1: white;\n",
       "                    --jp-layout-color2: #454545;\n",
       "                    background-color: #383838;\n",
       "                }\n",
       "\n",
       "                .geemap-dark .jupyter-button {\n",
       "                    --jp-layout-color3: #383838;\n",
       "                }\n",
       "\n",
       "                .geemap-colab {\n",
       "                    background-color: var(--colab-primary-surface-color, white);\n",
       "                }\n",
       "\n",
       "                .geemap-colab .jupyter-button {\n",
       "                    --jp-layout-color3: var(--colab-primary-surface-color, white);\n",
       "                }\n",
       "            </style>\n",
       "            "
      ],
      "text/plain": [
       "<IPython.core.display.HTML object>"
      ]
     },
     "metadata": {},
     "output_type": "display_data"
    }
   ],
   "source": [
    "epsilon = 800    # Ajusta según sea necesario\n",
    "min_samples = 2  # Ajusta según sea necesario\n",
    "\n",
    "db = DBSCAN(eps=epsilon, min_samples=min_samples, metric='euclidean').fit(coords)\n",
    "gdf_glaciares['cluster'] = db.labels_\n"
   ]
  },
  {
   "cell_type": "code",
   "execution_count": 12,
   "id": "73a7dcc4-3c7b-43c3-9cb6-df2abc9076d9",
   "metadata": {},
   "outputs": [
    {
     "data": {
      "text/html": [
       "\n",
       "            <style>\n",
       "                .geemap-dark {\n",
       "                    --jp-widgets-color: white;\n",
       "                    --jp-widgets-label-color: white;\n",
       "                    --jp-ui-font-color1: white;\n",
       "                    --jp-layout-color2: #454545;\n",
       "                    background-color: #383838;\n",
       "                }\n",
       "\n",
       "                .geemap-dark .jupyter-button {\n",
       "                    --jp-layout-color3: #383838;\n",
       "                }\n",
       "\n",
       "                .geemap-colab {\n",
       "                    background-color: var(--colab-primary-surface-color, white);\n",
       "                }\n",
       "\n",
       "                .geemap-colab .jupyter-button {\n",
       "                    --jp-layout-color3: var(--colab-primary-surface-color, white);\n",
       "                }\n",
       "            </style>\n",
       "            "
      ],
      "text/plain": [
       "<IPython.core.display.HTML object>"
      ]
     },
     "metadata": {},
     "output_type": "display_data"
    },
    {
     "data": {
      "text/plain": [
       "4261"
      ]
     },
     "execution_count": 12,
     "metadata": {},
     "output_type": "execute_result"
    }
   ],
   "source": [
    "gdf_glaciares['cluster'].nunique()"
   ]
  },
  {
   "cell_type": "markdown",
   "id": "18ad33d5-656e-49a2-9a55-33247c56b0a8",
   "metadata": {},
   "source": [
    "### Filtrado de datos"
   ]
  },
  {
   "cell_type": "code",
   "execution_count": 13,
   "id": "d2d8b184-c7e9-4528-8518-c501ef7ff241",
   "metadata": {},
   "outputs": [
    {
     "data": {
      "text/html": [
       "\n",
       "            <style>\n",
       "                .geemap-dark {\n",
       "                    --jp-widgets-color: white;\n",
       "                    --jp-widgets-label-color: white;\n",
       "                    --jp-ui-font-color1: white;\n",
       "                    --jp-layout-color2: #454545;\n",
       "                    background-color: #383838;\n",
       "                }\n",
       "\n",
       "                .geemap-dark .jupyter-button {\n",
       "                    --jp-layout-color3: #383838;\n",
       "                }\n",
       "\n",
       "                .geemap-colab {\n",
       "                    background-color: var(--colab-primary-surface-color, white);\n",
       "                }\n",
       "\n",
       "                .geemap-colab .jupyter-button {\n",
       "                    --jp-layout-color3: var(--colab-primary-surface-color, white);\n",
       "                }\n",
       "            </style>\n",
       "            "
      ],
      "text/plain": [
       "<IPython.core.display.HTML object>"
      ]
     },
     "metadata": {},
     "output_type": "display_data"
    }
   ],
   "source": [
    "analisis = gdf_glaciares[(gdf_glaciares['REGION'] == 'ATACAMA') & (gdf_glaciares['NOMBRE'] == 'POTRO NORTE B')].reset_index(drop=True)"
   ]
  },
  {
   "cell_type": "code",
   "execution_count": 14,
   "id": "43559c32-4cde-4621-af72-2fe227324230",
   "metadata": {},
   "outputs": [
    {
     "data": {
      "text/html": [
       "\n",
       "            <style>\n",
       "                .geemap-dark {\n",
       "                    --jp-widgets-color: white;\n",
       "                    --jp-widgets-label-color: white;\n",
       "                    --jp-ui-font-color1: white;\n",
       "                    --jp-layout-color2: #454545;\n",
       "                    background-color: #383838;\n",
       "                }\n",
       "\n",
       "                .geemap-dark .jupyter-button {\n",
       "                    --jp-layout-color3: #383838;\n",
       "                }\n",
       "\n",
       "                .geemap-colab {\n",
       "                    background-color: var(--colab-primary-surface-color, white);\n",
       "                }\n",
       "\n",
       "                .geemap-colab .jupyter-button {\n",
       "                    --jp-layout-color3: var(--colab-primary-surface-color, white);\n",
       "                }\n",
       "            </style>\n",
       "            "
      ],
      "text/plain": [
       "<IPython.core.display.HTML object>"
      ]
     },
     "metadata": {},
     "output_type": "display_data"
    },
    {
     "data": {
      "text/plain": [
       "array(['S/N', 'MONGOTES', 'CASERONES', 'CANTARITOS', 'CANTARITOS 3',\n",
       "       'CANTARITOS 2', 'CANTARITOS 4', 'RIO GRANDE', 'ESTERO SECO B',\n",
       "       'TRONQUITOS OESTE', 'TRONQUITOS A', 'COLORADO', 'MARANCELES',\n",
       "       'POTRO NORTE A', 'JOTABECHE 4', 'JOTABECHE 1', 'LOS CUYANOS A',\n",
       "       'LOS CUYANOS B', 'ESTERO SECO A', 'JOTABECHE 2 B', 'JOTABECHE 2 A',\n",
       "       'CANTARITOS 1', 'LOS CUYANOS SUR A', 'JOTABECHE 2 C',\n",
       "       'TRONQUITOS B', 'LOS CUYANOS SUR B', 'ESTRECHO A', 'ORTIGAS 1',\n",
       "       'ORTIGAS 2', 'ESTRECHO B', 'TORO 2 SUPERIOR', 'TORO 2 INFERIOR',\n",
       "       'DEL POTRO', 'JOTABECHE 5', 'GUANACO', 'AMARILLO',\n",
       "       'MARANCELES ESTE', 'JOTABECHE 3', 'POTRO NORTE B', 'POTRO NORTE C'],\n",
       "      dtype=object)"
      ]
     },
     "execution_count": 14,
     "metadata": {},
     "output_type": "execute_result"
    }
   ],
   "source": [
    "gdf_glaciares[(gdf_glaciares['REGION'] == 'ATACAMA')].NOMBRE.unique()"
   ]
  },
  {
   "cell_type": "code",
   "execution_count": 15,
   "id": "c7ebfd56-e4c1-4b0b-a1e6-7102215a4118",
   "metadata": {
    "scrolled": true
   },
   "outputs": [
    {
     "data": {
      "text/html": [
       "\n",
       "            <style>\n",
       "                .geemap-dark {\n",
       "                    --jp-widgets-color: white;\n",
       "                    --jp-widgets-label-color: white;\n",
       "                    --jp-ui-font-color1: white;\n",
       "                    --jp-layout-color2: #454545;\n",
       "                    background-color: #383838;\n",
       "                }\n",
       "\n",
       "                .geemap-dark .jupyter-button {\n",
       "                    --jp-layout-color3: #383838;\n",
       "                }\n",
       "\n",
       "                .geemap-colab {\n",
       "                    background-color: var(--colab-primary-surface-color, white);\n",
       "                }\n",
       "\n",
       "                .geemap-colab .jupyter-button {\n",
       "                    --jp-layout-color3: var(--colab-primary-surface-color, white);\n",
       "                }\n",
       "            </style>\n",
       "            "
      ],
      "text/plain": [
       "<IPython.core.display.HTML object>"
      ]
     },
     "metadata": {},
     "output_type": "display_data"
    },
    {
     "data": {
      "text/html": [
       "<div>\n",
       "<style scoped>\n",
       "    .dataframe tbody tr th:only-of-type {\n",
       "        vertical-align: middle;\n",
       "    }\n",
       "\n",
       "    .dataframe tbody tr th {\n",
       "        vertical-align: top;\n",
       "    }\n",
       "\n",
       "    .dataframe thead th {\n",
       "        text-align: right;\n",
       "    }\n",
       "</style>\n",
       "<table border=\"1\" class=\"dataframe\">\n",
       "  <thead>\n",
       "    <tr style=\"text-align: right;\">\n",
       "      <th></th>\n",
       "      <th>OBJECTID</th>\n",
       "      <th>Id</th>\n",
       "      <th>COD_GLA</th>\n",
       "      <th>NOMBRE</th>\n",
       "      <th>CLASIFICA</th>\n",
       "      <th>AREA_KM2</th>\n",
       "      <th>REGION</th>\n",
       "      <th>PROVINCIA</th>\n",
       "      <th>COMUNA</th>\n",
       "      <th>DATUM</th>\n",
       "      <th>...</th>\n",
       "      <th>FRENTE_TER</th>\n",
       "      <th>RESOL_IMG</th>\n",
       "      <th>ERROR</th>\n",
       "      <th>OBSERVACIO</th>\n",
       "      <th>CUT_REG</th>\n",
       "      <th>CUT_PROV</th>\n",
       "      <th>CUT_COM</th>\n",
       "      <th>geometry</th>\n",
       "      <th>centroid</th>\n",
       "      <th>cluster</th>\n",
       "    </tr>\n",
       "  </thead>\n",
       "  <tbody>\n",
       "    <tr>\n",
       "      <th>0</th>\n",
       "      <td>1425</td>\n",
       "      <td>0</td>\n",
       "      <td>CL103412017B</td>\n",
       "      <td>POTRO NORTE B</td>\n",
       "      <td>GLACIARETE</td>\n",
       "      <td>0.015169</td>\n",
       "      <td>ATACAMA</td>\n",
       "      <td>COPIAPO</td>\n",
       "      <td>TIERRA AMARILLA</td>\n",
       "      <td>WGS 84</td>\n",
       "      <td>...</td>\n",
       "      <td>TIERRA</td>\n",
       "      <td>10.0</td>\n",
       "      <td>0.005084</td>\n",
       "      <td>None</td>\n",
       "      <td>03</td>\n",
       "      <td>031</td>\n",
       "      <td>03103</td>\n",
       "      <td>POLYGON ((-69.60805 -28.36016, -69.60806 -28.3...</td>\n",
       "      <td>POINT (-69.60835 -28.35960)</td>\n",
       "      <td>153</td>\n",
       "    </tr>\n",
       "  </tbody>\n",
       "</table>\n",
       "<p>1 rows × 48 columns</p>\n",
       "</div>"
      ],
      "text/plain": [
       "   OBJECTID  Id       COD_GLA         NOMBRE   CLASIFICA  AREA_KM2   REGION  \\\n",
       "0      1425   0  CL103412017B  POTRO NORTE B  GLACIARETE  0.015169  ATACAMA   \n",
       "\n",
       "  PROVINCIA           COMUNA   DATUM  ... FRENTE_TER  RESOL_IMG     ERROR  \\\n",
       "0   COPIAPO  TIERRA AMARILLA  WGS 84  ...     TIERRA       10.0  0.005084   \n",
       "\n",
       "  OBSERVACIO CUT_REG  CUT_PROV CUT_COM  \\\n",
       "0       None      03       031   03103   \n",
       "\n",
       "                                            geometry  \\\n",
       "0  POLYGON ((-69.60805 -28.36016, -69.60806 -28.3...   \n",
       "\n",
       "                      centroid cluster  \n",
       "0  POINT (-69.60835 -28.35960)     153  \n",
       "\n",
       "[1 rows x 48 columns]"
      ]
     },
     "execution_count": 15,
     "metadata": {},
     "output_type": "execute_result"
    }
   ],
   "source": [
    "analisis.head()"
   ]
  },
  {
   "cell_type": "code",
   "execution_count": 16,
   "id": "c1a4f947-a183-41d4-996c-1785d15a40da",
   "metadata": {},
   "outputs": [
    {
     "data": {
      "text/html": [
       "\n",
       "            <style>\n",
       "                .geemap-dark {\n",
       "                    --jp-widgets-color: white;\n",
       "                    --jp-widgets-label-color: white;\n",
       "                    --jp-ui-font-color1: white;\n",
       "                    --jp-layout-color2: #454545;\n",
       "                    background-color: #383838;\n",
       "                }\n",
       "\n",
       "                .geemap-dark .jupyter-button {\n",
       "                    --jp-layout-color3: #383838;\n",
       "                }\n",
       "\n",
       "                .geemap-colab {\n",
       "                    background-color: var(--colab-primary-surface-color, white);\n",
       "                }\n",
       "\n",
       "                .geemap-colab .jupyter-button {\n",
       "                    --jp-layout-color3: var(--colab-primary-surface-color, white);\n",
       "                }\n",
       "            </style>\n",
       "            "
      ],
      "text/plain": [
       "<IPython.core.display.HTML object>"
      ]
     },
     "metadata": {},
     "output_type": "display_data"
    }
   ],
   "source": [
    "seleccionado = 153"
   ]
  },
  {
   "cell_type": "code",
   "execution_count": 17,
   "id": "d36bf4e2-7794-405d-b451-dc57290c4b23",
   "metadata": {},
   "outputs": [
    {
     "data": {
      "text/html": [
       "\n",
       "            <style>\n",
       "                .geemap-dark {\n",
       "                    --jp-widgets-color: white;\n",
       "                    --jp-widgets-label-color: white;\n",
       "                    --jp-ui-font-color1: white;\n",
       "                    --jp-layout-color2: #454545;\n",
       "                    background-color: #383838;\n",
       "                }\n",
       "\n",
       "                .geemap-dark .jupyter-button {\n",
       "                    --jp-layout-color3: #383838;\n",
       "                }\n",
       "\n",
       "                .geemap-colab {\n",
       "                    background-color: var(--colab-primary-surface-color, white);\n",
       "                }\n",
       "\n",
       "                .geemap-colab .jupyter-button {\n",
       "                    --jp-layout-color3: var(--colab-primary-surface-color, white);\n",
       "                }\n",
       "            </style>\n",
       "            "
      ],
      "text/plain": [
       "<IPython.core.display.HTML object>"
      ]
     },
     "metadata": {},
     "output_type": "display_data"
    }
   ],
   "source": [
    "filtro = gdf_glaciares[gdf_glaciares['cluster'] == seleccionado]"
   ]
  },
  {
   "cell_type": "code",
   "execution_count": 18,
   "id": "7ecea65e-e4da-42e0-b20b-60658efdc4ec",
   "metadata": {},
   "outputs": [
    {
     "data": {
      "text/html": [
       "\n",
       "            <style>\n",
       "                .geemap-dark {\n",
       "                    --jp-widgets-color: white;\n",
       "                    --jp-widgets-label-color: white;\n",
       "                    --jp-ui-font-color1: white;\n",
       "                    --jp-layout-color2: #454545;\n",
       "                    background-color: #383838;\n",
       "                }\n",
       "\n",
       "                .geemap-dark .jupyter-button {\n",
       "                    --jp-layout-color3: #383838;\n",
       "                }\n",
       "\n",
       "                .geemap-colab {\n",
       "                    background-color: var(--colab-primary-surface-color, white);\n",
       "                }\n",
       "\n",
       "                .geemap-colab .jupyter-button {\n",
       "                    --jp-layout-color3: var(--colab-primary-surface-color, white);\n",
       "                }\n",
       "            </style>\n",
       "            "
      ],
      "text/plain": [
       "<IPython.core.display.HTML object>"
      ]
     },
     "metadata": {},
     "output_type": "display_data"
    },
    {
     "data": {
      "text/plain": [
       "<Axes: >"
      ]
     },
     "execution_count": 18,
     "metadata": {},
     "output_type": "execute_result"
    },
    {
     "data": {
      "image/png": "[encoded data removed]",
      "text/plain": [
       "<Figure size 640x480 with 2 Axes>"
      ]
     },
     "metadata": {},
     "output_type": "display_data"
    }
   ],
   "source": [
    "filtro.plot(column='cluster', legend=True)"
   ]
  },
  {
   "cell_type": "code",
   "execution_count": 19,
   "id": "8a3916c1-047e-4bc1-ba2f-2f87539daf38",
   "metadata": {},
   "outputs": [
    {
     "data": {
      "text/html": [
       "\n",
       "            <style>\n",
       "                .geemap-dark {\n",
       "                    --jp-widgets-color: white;\n",
       "                    --jp-widgets-label-color: white;\n",
       "                    --jp-ui-font-color1: white;\n",
       "                    --jp-layout-color2: #454545;\n",
       "                    background-color: #383838;\n",
       "                }\n",
       "\n",
       "                .geemap-dark .jupyter-button {\n",
       "                    --jp-layout-color3: #383838;\n",
       "                }\n",
       "\n",
       "                .geemap-colab {\n",
       "                    background-color: var(--colab-primary-surface-color, white);\n",
       "                }\n",
       "\n",
       "                .geemap-colab .jupyter-button {\n",
       "                    --jp-layout-color3: var(--colab-primary-surface-color, white);\n",
       "                }\n",
       "            </style>\n",
       "            "
      ],
      "text/plain": [
       "<IPython.core.display.HTML object>"
      ]
     },
     "metadata": {},
     "output_type": "display_data"
    },
    {
     "data": {
      "text/plain": [
       "Index(['OBJECTID', 'Id', 'COD_GLA', 'NOMBRE', 'CLASIFICA', 'AREA_KM2',\n",
       "       'REGION', 'PROVINCIA', 'COMUNA', 'DATUM', 'HUSO', 'NORTE', 'ESTE',\n",
       "       'FUENTE_DIG', 'FUEN_FECHA', 'INVE_FECHA', 'NOM_CUEN', 'COD_CUEN',\n",
       "       'COD_SCUEN', 'COD_SSCUEN', 'MZON_GLAC', 'CH_CASQ', 'CUBIERTO',\n",
       "       'LATITUD', 'LONGITUD', 'PERIMETRO', 'ORIENTA', 'HMEDIA', 'HMAX', 'HMIN',\n",
       "       'PENDIENTE', 'ESP_MED', 'F_ESP_MED', 'VOL_km3', 'EQ_AGUAKM3', 'WGI_1',\n",
       "       'WGI_2', 'WGI_3', 'FRENTE_TER', 'RESOL_IMG', 'ERROR', 'OBSERVACIO',\n",
       "       'CUT_REG', 'CUT_PROV', 'CUT_COM', 'geometry', 'centroid', 'cluster'],\n",
       "      dtype='object')"
      ]
     },
     "execution_count": 19,
     "metadata": {},
     "output_type": "execute_result"
    }
   ],
   "source": [
    "analisis.columns"
   ]
  },
  {
   "cell_type": "markdown",
   "id": "b363bf2e-fedb-4966-b57a-015fc7ff5567",
   "metadata": {},
   "source": [
    "### Obtener AOI e imagenes "
   ]
  },
  {
   "cell_type": "code",
   "execution_count": 20,
   "id": "1afcb8bf-7fdb-49b9-b3da-838c07fafc2f",
   "metadata": {},
   "outputs": [
    {
     "data": {
      "text/html": [
       "\n",
       "            <style>\n",
       "                .geemap-dark {\n",
       "                    --jp-widgets-color: white;\n",
       "                    --jp-widgets-label-color: white;\n",
       "                    --jp-ui-font-color1: white;\n",
       "                    --jp-layout-color2: #454545;\n",
       "                    background-color: #383838;\n",
       "                }\n",
       "\n",
       "                .geemap-dark .jupyter-button {\n",
       "                    --jp-layout-color3: #383838;\n",
       "                }\n",
       "\n",
       "                .geemap-colab {\n",
       "                    background-color: var(--colab-primary-surface-color, white);\n",
       "                }\n",
       "\n",
       "                .geemap-colab .jupyter-button {\n",
       "                    --jp-layout-color3: var(--colab-primary-surface-color, white);\n",
       "                }\n",
       "            </style>\n",
       "            "
      ],
      "text/plain": [
       "<IPython.core.display.HTML object>"
      ]
     },
     "metadata": {},
     "output_type": "display_data"
    }
   ],
   "source": [
    "big_glaciar = unary_union(gdf_glaciares[gdf_glaciares['cluster'] == seleccionado].geometry)"
   ]
  },
  {
   "cell_type": "code",
   "execution_count": 21,
   "id": "7255bb06-5f8c-4a9f-9c57-fcc8710dba86",
   "metadata": {},
   "outputs": [
    {
     "data": {
      "text/html": [
       "\n",
       "            <style>\n",
       "                .geemap-dark {\n",
       "                    --jp-widgets-color: white;\n",
       "                    --jp-widgets-label-color: white;\n",
       "                    --jp-ui-font-color1: white;\n",
       "                    --jp-layout-color2: #454545;\n",
       "                    background-color: #383838;\n",
       "                }\n",
       "\n",
       "                .geemap-dark .jupyter-button {\n",
       "                    --jp-layout-color3: #383838;\n",
       "                }\n",
       "\n",
       "                .geemap-colab {\n",
       "                    background-color: var(--colab-primary-surface-color, white);\n",
       "                }\n",
       "\n",
       "                .geemap-colab .jupyter-button {\n",
       "                    --jp-layout-color3: var(--colab-primary-surface-color, white);\n",
       "                }\n",
       "            </style>\n",
       "            "
      ],
      "text/plain": [
       "<IPython.core.display.HTML object>"
      ]
     },
     "metadata": {},
     "output_type": "display_data"
    }
   ],
   "source": [
    "x, y = big_glaciar.centroid.xy"
   ]
  },
  {
   "cell_type": "code",
   "execution_count": 22,
   "id": "b6326622-5134-4c8e-b021-44de2a268193",
   "metadata": {},
   "outputs": [
    {
     "data": {
      "text/html": [
       "\n",
       "            <style>\n",
       "                .geemap-dark {\n",
       "                    --jp-widgets-color: white;\n",
       "                    --jp-widgets-label-color: white;\n",
       "                    --jp-ui-font-color1: white;\n",
       "                    --jp-layout-color2: #454545;\n",
       "                    background-color: #383838;\n",
       "                }\n",
       "\n",
       "                .geemap-dark .jupyter-button {\n",
       "                    --jp-layout-color3: #383838;\n",
       "                }\n",
       "\n",
       "                .geemap-colab {\n",
       "                    background-color: var(--colab-primary-surface-color, white);\n",
       "                }\n",
       "\n",
       "                .geemap-colab .jupyter-button {\n",
       "                    --jp-layout-color3: var(--colab-primary-surface-color, white);\n",
       "                }\n",
       "            </style>\n",
       "            "
      ],
      "text/plain": [
       "<IPython.core.display.HTML object>"
      ]
     },
     "metadata": {},
     "output_type": "display_data"
    }
   ],
   "source": [
    "def getAOI_latlon(dat):\n",
    "    aoi = ee.Geometry.Polygon(dat)\n",
    "    return(aoi)"
   ]
  },
  {
   "cell_type": "code",
   "execution_count": 23,
   "id": "35e775ab-b8ad-48a6-b7ce-ae3b2ac03cef",
   "metadata": {},
   "outputs": [
    {
     "data": {
      "text/html": [
       "\n",
       "            <style>\n",
       "                .geemap-dark {\n",
       "                    --jp-widgets-color: white;\n",
       "                    --jp-widgets-label-color: white;\n",
       "                    --jp-ui-font-color1: white;\n",
       "                    --jp-layout-color2: #454545;\n",
       "                    background-color: #383838;\n",
       "                }\n",
       "\n",
       "                .geemap-dark .jupyter-button {\n",
       "                    --jp-layout-color3: #383838;\n",
       "                }\n",
       "\n",
       "                .geemap-colab {\n",
       "                    background-color: var(--colab-primary-surface-color, white);\n",
       "                }\n",
       "\n",
       "                .geemap-colab .jupyter-button {\n",
       "                    --jp-layout-color3: var(--colab-primary-surface-color, white);\n",
       "                }\n",
       "            </style>\n",
       "            "
      ],
      "text/plain": [
       "<IPython.core.display.HTML object>"
      ]
     },
     "metadata": {},
     "output_type": "display_data"
    }
   ],
   "source": [
    "def shapely_to_ee_geometry(shapely_geom):\n",
    "    coords = list(shapely_geom.exterior.coords)\n",
    "    ee_geom = ee.Geometry.Polygon(coords)\n",
    "    return ee_geom\n",
    "\n",
    "# Convertir cada polígono en el MultiPolygon a una geometría de EE\n",
    "ee_geometries = [shapely_to_ee_geometry(poly) for poly in big_glaciar.geoms]\n",
    "\n",
    "# Crear una geometría de EE MultiPolygon\n",
    "ee_multipolygon = ee.Geometry.MultiPolygon(ee_geometries)"
   ]
  },
  {
   "cell_type": "code",
   "execution_count": 24,
   "id": "6352bc62-0255-4737-aa63-f102c6623d70",
   "metadata": {},
   "outputs": [
    {
     "data": {
      "text/html": [
       "\n",
       "            <style>\n",
       "                .geemap-dark {\n",
       "                    --jp-widgets-color: white;\n",
       "                    --jp-widgets-label-color: white;\n",
       "                    --jp-ui-font-color1: white;\n",
       "                    --jp-layout-color2: #454545;\n",
       "                    background-color: #383838;\n",
       "                }\n",
       "\n",
       "                .geemap-dark .jupyter-button {\n",
       "                    --jp-layout-color3: #383838;\n",
       "                }\n",
       "\n",
       "                .geemap-colab {\n",
       "                    background-color: var(--colab-primary-surface-color, white);\n",
       "                }\n",
       "\n",
       "                .geemap-colab .jupyter-button {\n",
       "                    --jp-layout-color3: var(--colab-primary-surface-color, white);\n",
       "                }\n",
       "            </style>\n",
       "            "
      ],
      "text/plain": [
       "<IPython.core.display.HTML object>"
      ]
     },
     "metadata": {},
     "output_type": "display_data"
    }
   ],
   "source": [
    "big_glaciar = big_glaciar.convex_hull"
   ]
  },
  {
   "cell_type": "markdown",
   "id": "2a800953-a8d7-4f2f-bb6a-c3495e1e239a",
   "metadata": {},
   "source": [
    "### Area de acotamiento"
   ]
  },
  {
   "cell_type": "code",
   "execution_count": 25,
   "id": "5e52e78a-511e-4357-abca-7644439b2c04",
   "metadata": {},
   "outputs": [
    {
     "data": {
      "text/html": [
       "\n",
       "            <style>\n",
       "                .geemap-dark {\n",
       "                    --jp-widgets-color: white;\n",
       "                    --jp-widgets-label-color: white;\n",
       "                    --jp-ui-font-color1: white;\n",
       "                    --jp-layout-color2: #454545;\n",
       "                    background-color: #383838;\n",
       "                }\n",
       "\n",
       "                .geemap-dark .jupyter-button {\n",
       "                    --jp-layout-color3: #383838;\n",
       "                }\n",
       "\n",
       "                .geemap-colab {\n",
       "                    background-color: var(--colab-primary-surface-color, white);\n",
       "                }\n",
       "\n",
       "                .geemap-colab .jupyter-button {\n",
       "                    --jp-layout-color3: var(--colab-primary-surface-color, white);\n",
       "                }\n",
       "            </style>\n",
       "            "
      ],
      "text/plain": [
       "<IPython.core.display.HTML object>"
      ]
     },
     "metadata": {},
     "output_type": "display_data"
    }
   ],
   "source": [
    "def getAOI_latlon(dat):\n",
    "    aoi = ee.Geometry.Polygon(dat)\n",
    "    return(aoi)\n",
    "    "
   ]
  },
  {
   "cell_type": "code",
   "execution_count": 26,
   "id": "1b901f0e-c11e-4d18-aa9e-1e340fc52f7c",
   "metadata": {},
   "outputs": [
    {
     "data": {
      "text/html": [
       "\n",
       "            <style>\n",
       "                .geemap-dark {\n",
       "                    --jp-widgets-color: white;\n",
       "                    --jp-widgets-label-color: white;\n",
       "                    --jp-ui-font-color1: white;\n",
       "                    --jp-layout-color2: #454545;\n",
       "                    background-color: #383838;\n",
       "                }\n",
       "\n",
       "                .geemap-dark .jupyter-button {\n",
       "                    --jp-layout-color3: #383838;\n",
       "                }\n",
       "\n",
       "                .geemap-colab {\n",
       "                    background-color: var(--colab-primary-surface-color, white);\n",
       "                }\n",
       "\n",
       "                .geemap-colab .jupyter-button {\n",
       "                    --jp-layout-color3: var(--colab-primary-surface-color, white);\n",
       "                }\n",
       "            </style>\n",
       "            "
      ],
      "text/plain": [
       "<IPython.core.display.HTML object>"
      ]
     },
     "metadata": {},
     "output_type": "display_data"
    }
   ],
   "source": [
    "aoi = getAOI_latlon(mapping(big_glaciar.boundary)['coordinates'])"
   ]
  },
  {
   "cell_type": "code",
   "execution_count": 27,
   "id": "03e0c43c-c257-4d44-a2fa-73c0b83f3031",
   "metadata": {},
   "outputs": [
    {
     "data": {
      "text/html": [
       "\n",
       "            <style>\n",
       "                .geemap-dark {\n",
       "                    --jp-widgets-color: white;\n",
       "                    --jp-widgets-label-color: white;\n",
       "                    --jp-ui-font-color1: white;\n",
       "                    --jp-layout-color2: #454545;\n",
       "                    background-color: #383838;\n",
       "                }\n",
       "\n",
       "                .geemap-dark .jupyter-button {\n",
       "                    --jp-layout-color3: #383838;\n",
       "                }\n",
       "\n",
       "                .geemap-colab {\n",
       "                    background-color: var(--colab-primary-surface-color, white);\n",
       "                }\n",
       "\n",
       "                .geemap-colab .jupyter-button {\n",
       "                    --jp-layout-color3: var(--colab-primary-surface-color, white);\n",
       "                }\n",
       "            </style>\n",
       "            "
      ],
      "text/plain": [
       "<IPython.core.display.HTML object>"
      ]
     },
     "metadata": {},
     "output_type": "display_data"
    }
   ],
   "source": [
    "extract = [f\"{str(a)}-01-01\" for a in range(2013, 2025)]"
   ]
  },
  {
   "cell_type": "markdown",
   "id": "917d3428-380b-4984-b779-c419a4d0b1c7",
   "metadata": {},
   "source": [
    "### Determinar un area para visualizar el glaciar y no tener toda la imagen"
   ]
  },
  {
   "cell_type": "code",
   "execution_count": 28,
   "id": "1c3b0702-9940-4f13-b4e5-d7232fb8a1e9",
   "metadata": {},
   "outputs": [
    {
     "data": {
      "text/html": [
       "\n",
       "            <style>\n",
       "                .geemap-dark {\n",
       "                    --jp-widgets-color: white;\n",
       "                    --jp-widgets-label-color: white;\n",
       "                    --jp-ui-font-color1: white;\n",
       "                    --jp-layout-color2: #454545;\n",
       "                    background-color: #383838;\n",
       "                }\n",
       "\n",
       "                .geemap-dark .jupyter-button {\n",
       "                    --jp-layout-color3: #383838;\n",
       "                }\n",
       "\n",
       "                .geemap-colab {\n",
       "                    background-color: var(--colab-primary-surface-color, white);\n",
       "                }\n",
       "\n",
       "                .geemap-colab .jupyter-button {\n",
       "                    --jp-layout-color3: var(--colab-primary-surface-color, white);\n",
       "                }\n",
       "            </style>\n",
       "            "
      ],
      "text/plain": [
       "<IPython.core.display.HTML object>"
      ]
     },
     "metadata": {},
     "output_type": "display_data"
    }
   ],
   "source": [
    "aoi_glaciar = aoi.buffer(1500)"
   ]
  },
  {
   "cell_type": "markdown",
   "id": "5cec347f-dc71-4096-ae85-79b7b9658934",
   "metadata": {},
   "source": [
    "### Estimacion de area de glaciar"
   ]
  },
  {
   "cell_type": "code",
   "execution_count": 29,
   "id": "7e13c098-8285-48b9-a840-b455aac64549",
   "metadata": {},
   "outputs": [
    {
     "data": {
      "text/html": [
       "\n",
       "            <style>\n",
       "                .geemap-dark {\n",
       "                    --jp-widgets-color: white;\n",
       "                    --jp-widgets-label-color: white;\n",
       "                    --jp-ui-font-color1: white;\n",
       "                    --jp-layout-color2: #454545;\n",
       "                    background-color: #383838;\n",
       "                }\n",
       "\n",
       "                .geemap-dark .jupyter-button {\n",
       "                    --jp-layout-color3: #383838;\n",
       "                }\n",
       "\n",
       "                .geemap-colab {\n",
       "                    background-color: var(--colab-primary-surface-color, white);\n",
       "                }\n",
       "\n",
       "                .geemap-colab .jupyter-button {\n",
       "                    --jp-layout-color3: var(--colab-primary-surface-color, white);\n",
       "                }\n",
       "            </style>\n",
       "            "
      ],
      "text/plain": [
       "<IPython.core.display.HTML object>"
      ]
     },
     "metadata": {},
     "output_type": "display_data"
    }
   ],
   "source": [
    "# Función para convertir los valores DN a reflectancia TOA\n",
    "def calculate_toa_reflectance(image, image_f):\n",
    "   \n",
    "    toa_image = image.expression(\n",
    "        '((ML * Qcal) + AL) / sin(theta_se)', {\n",
    "            'ML': ee.Image.constant(0.00002),  # factor de reescalado multiplicativo (ejemplo)\n",
    "            'Qcal': image,\n",
    "            'AL': ee.Image.constant(-0.1),  # factor de reescalado aditivo (ejemplo)\n",
    "            'theta_se': ee.Number(image_f.get('SUN_ELEVATION')) #calculate_solar_elevation_angle(image)  # ángulo de elevación del sol en radianes (ejemplo)\n",
    "        })\n",
    "    return toa_image\n",
    "\n",
    "# Función para calcular la temperatura de brillo en el satélite\n",
    "def calculate_brightness_temperature(image):\n",
    "    brightness_temp = image.expression(\n",
    "        'K2 / log((K1 / (((ML * Qcal) + AL) - const)) + 1)', {\n",
    "            'K1': ee.Image.constant(774.89),  # constante de conversión térmica (ejemplo)\n",
    "            'K2': ee.Image.constant(1321.08),  # constante de conversión térmica (ejemplo)\n",
    "            'ML': ee.Image.constant(0.00002),  # factor de reescalado multiplicativo (ejemplo)\n",
    "            'Qcal': image,\n",
    "            'AL': ee.Image.constant(-0.1), \n",
    "            'const': ee.Image.constant(0.29),\n",
    "        })\n",
    "    return brightness_temp\n",
    "\n",
    "# Función para calcular el NDSI con un threshold de 0.\n",
    "def calculate_ndsi(image):\n",
    "    green = image.select('B3')  # banda verde\n",
    "\n",
    "    condition_b6 = image.select('B6').lte(0.11)\n",
    "    swir = image.select('B6')  # banda SWIR\n",
    "    filtered_b6 = swir.updateMask(condition_b6)\n",
    "    ndsi = green.subtract(filtered_b6).divide(green.add(filtered_b6)).rename('NDSI')\n",
    "    return image.addBands(ndsi)\n",
    "\n",
    "# Definir la función para calcular el NDVI\n",
    "def calculate_ndvi(image):\n",
    "    nir = image.select('B5')  # banda NIR\n",
    "    red = image.select('B4')  # banda roja\n",
    "    ndvi = nir.subtract(red).divide(nir.add(red)).rename('NDVI')\n",
    "    return image.addBands(ndvi)\n",
    "\n",
    "def calculate_ndgi(image):\n",
    "    swir = image.select('B6')\n",
    "    green = image.select('B3')  \n",
    "    ndgi = green.subtract(swir).divide(green.add(swir)).rename('NDGI')\n",
    "    return image.addBands(ndgi)\n",
    "    \n",
    "def calculate_ndwi(image):\n",
    "    green = image.select('B3') \n",
    "\n",
    "    condition_b5 = image.select('B5').lt(0.2)\n",
    "    \n",
    "    swir1 = image.select('B5')  \n",
    "    filtered_b5 = swir1.updateMask(condition_b5)\n",
    "    \n",
    "    ndwi = green.subtract(filtered_b5).divide(green.add(filtered_b5)).rename('NDWI')\n",
    "    return image.addBands(ndwi)\n",
    "\n",
    "def calculate_ndsi_pure(image):\n",
    "    green = image.select('B3')  # banda verde\n",
    "\n",
    "    swir = image.select('B6')  # banda SWIR\n",
    "    ndsi = green.subtract(swir).divide(green.add(swir)).rename('NDSI')\n",
    "    return image.addBands(ndsi)\n",
    "\n",
    "def calculate_ndwi_pure(image):\n",
    "    green = image.select('B3') \n",
    "    swir1 = image.select('B5')  \n",
    "    ndwi = green.subtract(swir1).divide(green.add(swir1)).rename('NDWI')\n",
    "    return image.addBands(ndwi)\n",
    "\n",
    "def add_band_B8_B6(image):\n",
    "    diferencepan = image.normalizedDifference(['B8', 'B6']).rename('B8/B6')\n",
    "    return image.addBands(diferencepan)"
   ]
  },
  {
   "cell_type": "code",
   "execution_count": 30,
   "id": "d80b94a7-df92-4c99-bba6-2596c8f454bc",
   "metadata": {},
   "outputs": [
    {
     "data": {
      "text/html": [
       "\n",
       "            <style>\n",
       "                .geemap-dark {\n",
       "                    --jp-widgets-color: white;\n",
       "                    --jp-widgets-label-color: white;\n",
       "                    --jp-ui-font-color1: white;\n",
       "                    --jp-layout-color2: #454545;\n",
       "                    background-color: #383838;\n",
       "                }\n",
       "\n",
       "                .geemap-dark .jupyter-button {\n",
       "                    --jp-layout-color3: #383838;\n",
       "                }\n",
       "\n",
       "                .geemap-colab {\n",
       "                    background-color: var(--colab-primary-surface-color, white);\n",
       "                }\n",
       "\n",
       "                .geemap-colab .jupyter-button {\n",
       "                    --jp-layout-color3: var(--colab-primary-surface-color, white);\n",
       "                }\n",
       "            </style>\n",
       "            "
      ],
      "text/plain": [
       "<IPython.core.display.HTML object>"
      ]
     },
     "metadata": {},
     "output_type": "display_data"
    }
   ],
   "source": [
    "def extract_images_for_year_landsatT1(extract, aoi_glaciar):\n",
    "\n",
    "    \n",
    "    dataset_dict = {}\n",
    "    \n",
    "    for pos in range(len(extract) - 1):\n",
    "        dataset = ee.ImageCollection(\"LANDSAT/LC08/C02/T1\").filterDate(extract[pos], extract[pos + 1]).filter(ee.Filter.lt('CLOUD_COVER', 10)).filterBounds(aoi_glaciar)\n",
    "        dataset = dataset.map(calculate_ndsi_pure)\n",
    "        dataset = dataset.map(calculate_ndvi)\n",
    "        dataset = dataset.map(calculate_ndwi_pure)\n",
    "        dataset = dataset.map(add_band_B8_B6)\n",
    "        \n",
    "        \n",
    "        dataset_dict[extract[pos][:4]] = dataset\n",
    " \n",
    "    return dataset_dict\n",
    "\n",
    "def make_visual(collection_years, aoi_glaciar, extract):\n",
    "\n",
    "    views_dict = {}\n",
    "\n",
    "    for pos in range(len(extract) - 1):\n",
    "        views = []\n",
    "\n",
    "        collection = collection_years[extract[pos][:4]]\n",
    "\n",
    "        image_f = collection.first().clip(aoi_glaciar)\n",
    "        \n",
    "        image = collection.median().clip(aoi_glaciar)\n",
    "\n",
    "        toa_reflectance = calculate_toa_reflectance(image, image_f)\n",
    "        brightness_temp = calculate_brightness_temperature(image)\n",
    "        image_with_ndsi = calculate_ndsi(toa_reflectance)\n",
    "        image_with_ndvi = calculate_ndvi(image_with_ndsi)\n",
    "        image_with_ndgi = calculate_ndgi(toa_reflectance)\n",
    "        image_with_ndwi = calculate_ndwi(toa_reflectance)\n",
    "\n",
    "        views.append(toa_reflectance)\n",
    "        views.append(brightness_temp)\n",
    "        views.append(image_with_ndsi)\n",
    "        views.append(image_with_ndvi)\n",
    "        views.append(image_with_ndgi)\n",
    "        views.append(image_with_ndwi)\n",
    "        \n",
    "        views_dict[extract[pos][:4]] = views\n",
    "\n",
    "    return views_dict\n",
    "    \n",
    "    \n",
    "    "
   ]
  },
  {
   "cell_type": "code",
   "execution_count": 31,
   "id": "eac3b493-7efb-4799-ae0c-e478a17920ad",
   "metadata": {},
   "outputs": [
    {
     "data": {
      "text/html": [
       "\n",
       "            <style>\n",
       "                .geemap-dark {\n",
       "                    --jp-widgets-color: white;\n",
       "                    --jp-widgets-label-color: white;\n",
       "                    --jp-ui-font-color1: white;\n",
       "                    --jp-layout-color2: #454545;\n",
       "                    background-color: #383838;\n",
       "                }\n",
       "\n",
       "                .geemap-dark .jupyter-button {\n",
       "                    --jp-layout-color3: #383838;\n",
       "                }\n",
       "\n",
       "                .geemap-colab {\n",
       "                    background-color: var(--colab-primary-surface-color, white);\n",
       "                }\n",
       "\n",
       "                .geemap-colab .jupyter-button {\n",
       "                    --jp-layout-color3: var(--colab-primary-surface-color, white);\n",
       "                }\n",
       "            </style>\n",
       "            "
      ],
      "text/plain": [
       "<IPython.core.display.HTML object>"
      ]
     },
     "metadata": {},
     "output_type": "display_data"
    }
   ],
   "source": [
    "collection_years = extract_images_for_year_landsatT1(extract, aoi_glaciar)\n",
    "visual = make_visual(collection_years, aoi_glaciar, extract)\n"
   ]
  },
  {
   "cell_type": "code",
   "execution_count": 32,
   "id": "08267620-0e61-423d-8b97-8e749b4a58d6",
   "metadata": {},
   "outputs": [
    {
     "data": {
      "text/html": [
       "\n",
       "            <style>\n",
       "                .geemap-dark {\n",
       "                    --jp-widgets-color: white;\n",
       "                    --jp-widgets-label-color: white;\n",
       "                    --jp-ui-font-color1: white;\n",
       "                    --jp-layout-color2: #454545;\n",
       "                    background-color: #383838;\n",
       "                }\n",
       "\n",
       "                .geemap-dark .jupyter-button {\n",
       "                    --jp-layout-color3: #383838;\n",
       "                }\n",
       "\n",
       "                .geemap-colab {\n",
       "                    background-color: var(--colab-primary-surface-color, white);\n",
       "                }\n",
       "\n",
       "                .geemap-colab .jupyter-button {\n",
       "                    --jp-layout-color3: var(--colab-primary-surface-color, white);\n",
       "                }\n",
       "            </style>\n",
       "            "
      ],
      "text/plain": [
       "<IPython.core.display.HTML object>"
      ]
     },
     "metadata": {},
     "output_type": "display_data"
    }
   ],
   "source": [
    "def calculate_ndpan(collection_years):\n",
    "    views_dict = {}\n",
    "\n",
    "    for pos in range(len(extract) - 1):\n",
    "        views = []\n",
    "\n",
    "        collection = collection_years[extract[pos][:4]]\n",
    "\n",
    "        image = collection.median().clip(aoi_glaciar)\n",
    "\n",
    "        \n",
    "        diferencepan = image.normalizedDifference(['B8', 'B6']).rename('glacierPAN')\n",
    "        diferencered = image.normalizedDifference(['B4', 'B6']).rename('glacierRED')\n",
    "\n",
    "        mask = diferencepan.gte(0.4)\n",
    "\n",
    "        \n",
    "        views.append(diferencepan)\n",
    "        views.append(diferencered)\n",
    "\n",
    "        diferencered_filter = diferencepan.updateMask(mask)\n",
    "        \n",
    "        views.append(diferencered_filter)\n",
    "        \n",
    "        views_dict[extract[pos][:4]] = views\n",
    "\n",
    "    return views_dict\n",
    "    \n",
    "    "
   ]
  },
  {
   "cell_type": "code",
   "execution_count": 33,
   "id": "12173a25-0ec9-4dac-9074-f123f0b02970",
   "metadata": {},
   "outputs": [
    {
     "data": {
      "text/html": [
       "\n",
       "            <style>\n",
       "                .geemap-dark {\n",
       "                    --jp-widgets-color: white;\n",
       "                    --jp-widgets-label-color: white;\n",
       "                    --jp-ui-font-color1: white;\n",
       "                    --jp-layout-color2: #454545;\n",
       "                    background-color: #383838;\n",
       "                }\n",
       "\n",
       "                .geemap-dark .jupyter-button {\n",
       "                    --jp-layout-color3: #383838;\n",
       "                }\n",
       "\n",
       "                .geemap-colab {\n",
       "                    background-color: var(--colab-primary-surface-color, white);\n",
       "                }\n",
       "\n",
       "                .geemap-colab .jupyter-button {\n",
       "                    --jp-layout-color3: var(--colab-primary-surface-color, white);\n",
       "                }\n",
       "            </style>\n",
       "            "
      ],
      "text/plain": [
       "<IPython.core.display.HTML object>"
      ]
     },
     "metadata": {},
     "output_type": "display_data"
    }
   ],
   "source": [
    "area_visual = calculate_ndpan(collection_years)"
   ]
  },
  {
   "cell_type": "code",
   "execution_count": 34,
   "id": "0b271ec3-6954-4d62-92d8-958b77131100",
   "metadata": {},
   "outputs": [
    {
     "data": {
      "text/html": [
       "\n",
       "            <style>\n",
       "                .geemap-dark {\n",
       "                    --jp-widgets-color: white;\n",
       "                    --jp-widgets-label-color: white;\n",
       "                    --jp-ui-font-color1: white;\n",
       "                    --jp-layout-color2: #454545;\n",
       "                    background-color: #383838;\n",
       "                }\n",
       "\n",
       "                .geemap-dark .jupyter-button {\n",
       "                    --jp-layout-color3: #383838;\n",
       "                }\n",
       "\n",
       "                .geemap-colab {\n",
       "                    background-color: var(--colab-primary-surface-color, white);\n",
       "                }\n",
       "\n",
       "                .geemap-colab .jupyter-button {\n",
       "                    --jp-layout-color3: var(--colab-primary-surface-color, white);\n",
       "                }\n",
       "            </style>\n",
       "            "
      ],
      "text/plain": [
       "<IPython.core.display.HTML object>"
      ]
     },
     "metadata": {},
     "output_type": "display_data"
    },
    {
     "data": {
      "application/vnd.jupyter.widget-view+json": {
       "model_id": "56719b34fadb442ea8ef7eb365ae35a8",
       "version_major": 2,
       "version_minor": 0
      },
      "text/plain": [
       "Map(center=[-28.364056553147115, -69.6095871859815], controls=(WidgetControl(options=['position', 'transparent…"
      ]
     },
     "execution_count": 34,
     "metadata": {},
     "output_type": "execute_result"
    }
   ],
   "source": [
    "Map = geemap.Map(center=[y[0], x[0]], zoom=12)\n",
    "\n",
    "# Iterar sobre las llaves del diccionario y agregar la primera imagen de cada lista al mapa\n",
    "for year, image_list in area_visual.items():\n",
    "    first_image = image_list[0]\n",
    "    second_image = image_list[1]\n",
    "    third_image = image_list[2]\n",
    "    \n",
    "    # Map.addLayer(first_image, {'bands': ['glacierPAN'], 'min': 0, 'max': 1, 'palette': ['blue', 'white', 'green']}, f'{year} PAN Image')\n",
    "    # Map.addLayer(second_image, {'bands': ['glacierRED'], 'min': 0, 'max': 1, 'palette': ['blue', 'white', 'green']}, f'{year} RED Image')\n",
    "    Map.addLayer(third_image, {'bands': ['glacierPAN'], 'min': 0.4, 'max': 1, 'palette': ['blue', 'white', 'green']}, f'{year} PAN_threshold Image')\n",
    "    # Map.addLayer(visual[year][1], {}, f'{year} Brightness Image')\n",
    "\n",
    "\n",
    "Map.add_layer(ee_multipolygon, {}, 'glaciar')\n",
    "Map"
   ]
  },
  {
   "cell_type": "markdown",
   "id": "c6b4521d-ecbc-4327-a6fd-c7c3dc034e0d",
   "metadata": {},
   "source": [
    "### Vectorizacion de la imagen que más acierta al area del glaciar dado por la inforcion vectoria del IDE"
   ]
  },
  {
   "cell_type": "code",
   "execution_count": 35,
   "id": "38917bd1-31fa-400a-9599-6ef2d636cded",
   "metadata": {},
   "outputs": [
    {
     "data": {
      "text/html": [
       "\n",
       "            <style>\n",
       "                .geemap-dark {\n",
       "                    --jp-widgets-color: white;\n",
       "                    --jp-widgets-label-color: white;\n",
       "                    --jp-ui-font-color1: white;\n",
       "                    --jp-layout-color2: #454545;\n",
       "                    background-color: #383838;\n",
       "                }\n",
       "\n",
       "                .geemap-dark .jupyter-button {\n",
       "                    --jp-layout-color3: #383838;\n",
       "                }\n",
       "\n",
       "                .geemap-colab {\n",
       "                    background-color: var(--colab-primary-surface-color, white);\n",
       "                }\n",
       "\n",
       "                .geemap-colab .jupyter-button {\n",
       "                    --jp-layout-color3: var(--colab-primary-surface-color, white);\n",
       "                }\n",
       "            </style>\n",
       "            "
      ],
      "text/plain": [
       "<IPython.core.display.HTML object>"
      ]
     },
     "metadata": {},
     "output_type": "display_data"
    }
   ],
   "source": [
    "glacier_area = area_visual['2019'][0].expression(\n",
    "  'panglacier * const', {\n",
    "    'panglacier': area_visual['2019'][0].select('glacierPAN'),\n",
    "    'const': 1000 \n",
    "  }).rename('glacierPANINT').toInt();"
   ]
  },
  {
   "cell_type": "code",
   "execution_count": 36,
   "id": "cf6b37d9-7068-4beb-bc3a-27ee5e9a0130",
   "metadata": {},
   "outputs": [
    {
     "data": {
      "text/html": [
       "\n",
       "            <style>\n",
       "                .geemap-dark {\n",
       "                    --jp-widgets-color: white;\n",
       "                    --jp-widgets-label-color: white;\n",
       "                    --jp-ui-font-color1: white;\n",
       "                    --jp-layout-color2: #454545;\n",
       "                    background-color: #383838;\n",
       "                }\n",
       "\n",
       "                .geemap-dark .jupyter-button {\n",
       "                    --jp-layout-color3: #383838;\n",
       "                }\n",
       "\n",
       "                .geemap-colab {\n",
       "                    background-color: var(--colab-primary-surface-color, white);\n",
       "                }\n",
       "\n",
       "                .geemap-colab .jupyter-button {\n",
       "                    --jp-layout-color3: var(--colab-primary-surface-color, white);\n",
       "                }\n",
       "            </style>\n",
       "            "
      ],
      "text/plain": [
       "<IPython.core.display.HTML object>"
      ]
     },
     "metadata": {},
     "output_type": "display_data"
    }
   ],
   "source": [
    "vectors = glacier_area.reduceToVectors(\n",
    "  geometry= aoi_glaciar,\n",
    "  scale=30,\n",
    "  geometryType= 'polygon',\n",
    "  eightConnected= False,\n",
    "  bestEffort = True,\n",
    "  labelProperty= 'B8/B6',\n",
    "  maxPixels = 1e8,\n",
    ");"
   ]
  },
  {
   "cell_type": "code",
   "execution_count": 37,
   "id": "b7f02243-d2a6-48b7-830c-3b404d1de797",
   "metadata": {},
   "outputs": [
    {
     "data": {
      "text/html": [
       "\n",
       "            <style>\n",
       "                .geemap-dark {\n",
       "                    --jp-widgets-color: white;\n",
       "                    --jp-widgets-label-color: white;\n",
       "                    --jp-ui-font-color1: white;\n",
       "                    --jp-layout-color2: #454545;\n",
       "                    background-color: #383838;\n",
       "                }\n",
       "\n",
       "                .geemap-dark .jupyter-button {\n",
       "                    --jp-layout-color3: #383838;\n",
       "                }\n",
       "\n",
       "                .geemap-colab {\n",
       "                    background-color: var(--colab-primary-surface-color, white);\n",
       "                }\n",
       "\n",
       "                .geemap-colab .jupyter-button {\n",
       "                    --jp-layout-color3: var(--colab-primary-surface-color, white);\n",
       "                }\n",
       "            </style>\n",
       "            "
      ],
      "text/plain": [
       "<IPython.core.display.HTML object>"
      ]
     },
     "metadata": {},
     "output_type": "display_data"
    }
   ],
   "source": [
    "PanMin = ee.Number(glacier_area.reduceRegion(\n",
    "  reducer  = ee.Reducer.min(),\n",
    "  geometry  = aoi_glaciar,\n",
    "  scale     = 15,\n",
    "  maxPixels = 1e9\n",
    ").values().get(0));\n",
    "\n",
    "# // Calculate the maximum LST value within the AOI\n",
    "PanMax = ee.Number(glacier_area.reduceRegion(\n",
    "  reducer  = ee.Reducer.max(),\n",
    "  geometry = aoi_glaciar,\n",
    "  scale    = 15,\n",
    "  maxPixels = 1e9\n",
    ").values().get(0));"
   ]
  },
  {
   "cell_type": "code",
   "execution_count": 38,
   "id": "ec6a9420-7444-45b6-807f-e6b72e4e01e5",
   "metadata": {},
   "outputs": [
    {
     "data": {
      "text/html": [
       "\n",
       "            <style>\n",
       "                .geemap-dark {\n",
       "                    --jp-widgets-color: white;\n",
       "                    --jp-widgets-label-color: white;\n",
       "                    --jp-ui-font-color1: white;\n",
       "                    --jp-layout-color2: #454545;\n",
       "                    background-color: #383838;\n",
       "                }\n",
       "\n",
       "                .geemap-dark .jupyter-button {\n",
       "                    --jp-layout-color3: #383838;\n",
       "                }\n",
       "\n",
       "                .geemap-colab {\n",
       "                    background-color: var(--colab-primary-surface-color, white);\n",
       "                }\n",
       "\n",
       "                .geemap-colab .jupyter-button {\n",
       "                    --jp-layout-color3: var(--colab-primary-surface-color, white);\n",
       "                }\n",
       "            </style>\n",
       "            "
      ],
      "text/plain": [
       "<IPython.core.display.HTML object>"
      ]
     },
     "metadata": {},
     "output_type": "display_data"
    }
   ],
   "source": [
    "Map.addLayer(vectors, {'min': PanMin.getInfo(), #// Minimum LST value\n",
    "  'max': PanMax.getInfo(), #// Maximum LST value\n",
    "    }, 'vectors')"
   ]
  },
  {
   "cell_type": "code",
   "execution_count": 39,
   "id": "1c7058a4-5030-4816-a0b9-d85c70ea1c42",
   "metadata": {},
   "outputs": [
    {
     "data": {
      "text/html": [
       "\n",
       "            <style>\n",
       "                .geemap-dark {\n",
       "                    --jp-widgets-color: white;\n",
       "                    --jp-widgets-label-color: white;\n",
       "                    --jp-ui-font-color1: white;\n",
       "                    --jp-layout-color2: #454545;\n",
       "                    background-color: #383838;\n",
       "                }\n",
       "\n",
       "                .geemap-dark .jupyter-button {\n",
       "                    --jp-layout-color3: #383838;\n",
       "                }\n",
       "\n",
       "                .geemap-colab {\n",
       "                    background-color: var(--colab-primary-surface-color, white);\n",
       "                }\n",
       "\n",
       "                .geemap-colab .jupyter-button {\n",
       "                    --jp-layout-color3: var(--colab-primary-surface-color, white);\n",
       "                }\n",
       "            </style>\n",
       "            "
      ],
      "text/plain": [
       "<IPython.core.display.HTML object>"
      ]
     },
     "metadata": {},
     "output_type": "display_data"
    },
    {
     "data": {
      "application/vnd.jupyter.widget-view+json": {
       "model_id": "56719b34fadb442ea8ef7eb365ae35a8",
       "version_major": 2,
       "version_minor": 0
      },
      "text/plain": [
       "Map(center=[-28.364056553147115, -69.6095871859815], controls=(WidgetControl(options=['position', 'transparent…"
      ]
     },
     "execution_count": 39,
     "metadata": {},
     "output_type": "execute_result"
    }
   ],
   "source": [
    "Map"
   ]
  },
  {
   "cell_type": "markdown",
   "id": "b461f93e-61d1-429c-80d7-3165e8fb0bf1",
   "metadata": {},
   "source": [
    "### Transformación de la capa de vectores a aun gdf"
   ]
  },
  {
   "cell_type": "code",
   "execution_count": 40,
   "id": "1588c3d0-1a89-42cb-af45-f1d609fac0ca",
   "metadata": {},
   "outputs": [
    {
     "data": {
      "text/html": [
       "\n",
       "            <style>\n",
       "                .geemap-dark {\n",
       "                    --jp-widgets-color: white;\n",
       "                    --jp-widgets-label-color: white;\n",
       "                    --jp-ui-font-color1: white;\n",
       "                    --jp-layout-color2: #454545;\n",
       "                    background-color: #383838;\n",
       "                }\n",
       "\n",
       "                .geemap-dark .jupyter-button {\n",
       "                    --jp-layout-color3: #383838;\n",
       "                }\n",
       "\n",
       "                .geemap-colab {\n",
       "                    background-color: var(--colab-primary-surface-color, white);\n",
       "                }\n",
       "\n",
       "                .geemap-colab .jupyter-button {\n",
       "                    --jp-layout-color3: var(--colab-primary-surface-color, white);\n",
       "                }\n",
       "            </style>\n",
       "            "
      ],
      "text/plain": [
       "<IPython.core.display.HTML object>"
      ]
     },
     "metadata": {},
     "output_type": "display_data"
    },
    {
     "data": {
      "text/html": [
       "<div>\n",
       "<style scoped>\n",
       "    .dataframe tbody tr th:only-of-type {\n",
       "        vertical-align: middle;\n",
       "    }\n",
       "\n",
       "    .dataframe tbody tr th {\n",
       "        vertical-align: top;\n",
       "    }\n",
       "\n",
       "    .dataframe thead th {\n",
       "        text-align: right;\n",
       "    }\n",
       "</style>\n",
       "<table border=\"1\" class=\"dataframe\">\n",
       "  <thead>\n",
       "    <tr style=\"text-align: right;\">\n",
       "      <th></th>\n",
       "      <th>geometry</th>\n",
       "      <th>B8/B6</th>\n",
       "      <th>count</th>\n",
       "    </tr>\n",
       "  </thead>\n",
       "  <tbody>\n",
       "    <tr>\n",
       "      <th>0</th>\n",
       "      <td>POLYGON ((-69.58566 -28.36511, -69.58539 -28.3...</td>\n",
       "      <td>-73</td>\n",
       "      <td>1</td>\n",
       "    </tr>\n",
       "    <tr>\n",
       "      <th>1</th>\n",
       "      <td>POLYGON ((-69.58566 -28.36565, -69.58539 -28.3...</td>\n",
       "      <td>-130</td>\n",
       "      <td>1</td>\n",
       "    </tr>\n",
       "    <tr>\n",
       "      <th>2</th>\n",
       "      <td>POLYGON ((-69.58593 -28.36323, -69.58566 -28.3...</td>\n",
       "      <td>17</td>\n",
       "      <td>1</td>\n",
       "    </tr>\n",
       "    <tr>\n",
       "      <th>3</th>\n",
       "      <td>POLYGON ((-69.58593 -28.36350, -69.58566 -28.3...</td>\n",
       "      <td>25</td>\n",
       "      <td>1</td>\n",
       "    </tr>\n",
       "    <tr>\n",
       "      <th>4</th>\n",
       "      <td>POLYGON ((-69.58593 -28.36377, -69.58566 -28.3...</td>\n",
       "      <td>37</td>\n",
       "      <td>1</td>\n",
       "    </tr>\n",
       "  </tbody>\n",
       "</table>\n",
       "</div>"
      ],
      "text/plain": [
       "                                            geometry  B8/B6  count\n",
       "0  POLYGON ((-69.58566 -28.36511, -69.58539 -28.3...    -73      1\n",
       "1  POLYGON ((-69.58566 -28.36565, -69.58539 -28.3...   -130      1\n",
       "2  POLYGON ((-69.58593 -28.36323, -69.58566 -28.3...     17      1\n",
       "3  POLYGON ((-69.58593 -28.36350, -69.58566 -28.3...     25      1\n",
       "4  POLYGON ((-69.58593 -28.36377, -69.58566 -28.3...     37      1"
      ]
     },
     "execution_count": 40,
     "metadata": {},
     "output_type": "execute_result"
    }
   ],
   "source": [
    "value = geemap.ee_to_gdf(vectors)\n",
    "value.head()"
   ]
  },
  {
   "cell_type": "markdown",
   "id": "73b128e3-3139-4dfb-91de-ece6e7b4d164",
   "metadata": {},
   "source": [
    "### Clasificacion de aquellos valores donde el Panchromatic dividido por el SWIR fuera mayor a 0.4, en este caso mayor a 400, pues se multiplico por 1000 al transformar la banda 'vectors', esto debido a que es necesario a que sea un Integer y no un Float"
   ]
  },
  {
   "cell_type": "code",
   "execution_count": 41,
   "id": "121b3d1b-b3e7-40d6-aef2-ed3b2c307cf1",
   "metadata": {},
   "outputs": [
    {
     "data": {
      "text/html": [
       "\n",
       "            <style>\n",
       "                .geemap-dark {\n",
       "                    --jp-widgets-color: white;\n",
       "                    --jp-widgets-label-color: white;\n",
       "                    --jp-ui-font-color1: white;\n",
       "                    --jp-layout-color2: #454545;\n",
       "                    background-color: #383838;\n",
       "                }\n",
       "\n",
       "                .geemap-dark .jupyter-button {\n",
       "                    --jp-layout-color3: #383838;\n",
       "                }\n",
       "\n",
       "                .geemap-colab {\n",
       "                    background-color: var(--colab-primary-surface-color, white);\n",
       "                }\n",
       "\n",
       "                .geemap-colab .jupyter-button {\n",
       "                    --jp-layout-color3: var(--colab-primary-surface-color, white);\n",
       "                }\n",
       "            </style>\n",
       "            "
      ],
      "text/plain": [
       "<IPython.core.display.HTML object>"
      ]
     },
     "metadata": {},
     "output_type": "display_data"
    }
   ],
   "source": [
    "value['glaciar'] = value['B8/B6'].apply(lambda x: 1 if x >= 400 else 0)"
   ]
  },
  {
   "cell_type": "code",
   "execution_count": 42,
   "id": "ebebbb70-6cc3-48fb-8f6b-e16162913667",
   "metadata": {},
   "outputs": [
    {
     "data": {
      "text/html": [
       "\n",
       "            <style>\n",
       "                .geemap-dark {\n",
       "                    --jp-widgets-color: white;\n",
       "                    --jp-widgets-label-color: white;\n",
       "                    --jp-ui-font-color1: white;\n",
       "                    --jp-layout-color2: #454545;\n",
       "                    background-color: #383838;\n",
       "                }\n",
       "\n",
       "                .geemap-dark .jupyter-button {\n",
       "                    --jp-layout-color3: #383838;\n",
       "                }\n",
       "\n",
       "                .geemap-colab {\n",
       "                    background-color: var(--colab-primary-surface-color, white);\n",
       "                }\n",
       "\n",
       "                .geemap-colab .jupyter-button {\n",
       "                    --jp-layout-color3: var(--colab-primary-surface-color, white);\n",
       "                }\n",
       "            </style>\n",
       "            "
      ],
      "text/plain": [
       "<IPython.core.display.HTML object>"
      ]
     },
     "metadata": {},
     "output_type": "display_data"
    },
    {
     "data": {
      "text/plain": [
       "geometry    13660\n",
       "B8/B6       13660\n",
       "count       13660\n",
       "glaciar     13660\n",
       "dtype: int64"
      ]
     },
     "execution_count": 42,
     "metadata": {},
     "output_type": "execute_result"
    }
   ],
   "source": [
    "value[value['glaciar'] == 0].count()"
   ]
  },
  {
   "cell_type": "markdown",
   "id": "f70a43ba-d376-45b1-a131-c9cbc6c63f9b",
   "metadata": {},
   "source": [
    "### Dada la limitacion de 5000 elementos para tranformar en elementos en geemap, lo que hicimos fue particionar el gdf de value, en bloques de 4000 elementos cada uno"
   ]
  },
  {
   "cell_type": "code",
   "execution_count": 43,
   "id": "056dc64b-ccab-4c26-aacf-c04c07f89e05",
   "metadata": {},
   "outputs": [
    {
     "data": {
      "text/html": [
       "\n",
       "            <style>\n",
       "                .geemap-dark {\n",
       "                    --jp-widgets-color: white;\n",
       "                    --jp-widgets-label-color: white;\n",
       "                    --jp-ui-font-color1: white;\n",
       "                    --jp-layout-color2: #454545;\n",
       "                    background-color: #383838;\n",
       "                }\n",
       "\n",
       "                .geemap-dark .jupyter-button {\n",
       "                    --jp-layout-color3: #383838;\n",
       "                }\n",
       "\n",
       "                .geemap-colab {\n",
       "                    background-color: var(--colab-primary-surface-color, white);\n",
       "                }\n",
       "\n",
       "                .geemap-colab .jupyter-button {\n",
       "                    --jp-layout-color3: var(--colab-primary-surface-color, white);\n",
       "                }\n",
       "            </style>\n",
       "            "
      ],
      "text/plain": [
       "<IPython.core.display.HTML object>"
      ]
     },
     "metadata": {},
     "output_type": "display_data"
    }
   ],
   "source": [
    "chunk_size = 4000\n",
    "\n",
    "# Lista para guardar los fragmentos\n",
    "fragments = []\n",
    "\n",
    "# Iterar a través del DataFrame en incrementos de 4000\n",
    "for start in range(0, len(value), chunk_size):\n",
    "    fragment = value[start:start + chunk_size]\n",
    "    fragments.append(fragment)"
   ]
  },
  {
   "cell_type": "code",
   "execution_count": 44,
   "id": "2aacf91e-2425-46ca-9851-3647f21c96fd",
   "metadata": {},
   "outputs": [
    {
     "data": {
      "text/html": [
       "\n",
       "            <style>\n",
       "                .geemap-dark {\n",
       "                    --jp-widgets-color: white;\n",
       "                    --jp-widgets-label-color: white;\n",
       "                    --jp-ui-font-color1: white;\n",
       "                    --jp-layout-color2: #454545;\n",
       "                    background-color: #383838;\n",
       "                }\n",
       "\n",
       "                .geemap-dark .jupyter-button {\n",
       "                    --jp-layout-color3: #383838;\n",
       "                }\n",
       "\n",
       "                .geemap-colab {\n",
       "                    background-color: var(--colab-primary-surface-color, white);\n",
       "                }\n",
       "\n",
       "                .geemap-colab .jupyter-button {\n",
       "                    --jp-layout-color3: var(--colab-primary-surface-color, white);\n",
       "                }\n",
       "            </style>\n",
       "            "
      ],
      "text/plain": [
       "<IPython.core.display.HTML object>"
      ]
     },
     "metadata": {},
     "output_type": "display_data"
    }
   ],
   "source": [
    "def gdf_to_ee(gdf):\n",
    "    def feature_to_ee(feature):\n",
    "        geom = ee.Geometry(mapping(feature['geometry']))\n",
    "        properties = feature.drop('geometry').to_dict()\n",
    "        return ee.Feature(geom, properties)\n",
    "    \n",
    "    ee_features = gdf.apply(feature_to_ee, axis=1).tolist()\n",
    "    return ee.FeatureCollection(ee_features)"
   ]
  },
  {
   "cell_type": "code",
   "execution_count": 45,
   "id": "0e36e62a-b2ea-4e6c-a712-b7c8d9efac90",
   "metadata": {},
   "outputs": [
    {
     "data": {
      "text/html": [
       "\n",
       "            <style>\n",
       "                .geemap-dark {\n",
       "                    --jp-widgets-color: white;\n",
       "                    --jp-widgets-label-color: white;\n",
       "                    --jp-ui-font-color1: white;\n",
       "                    --jp-layout-color2: #454545;\n",
       "                    background-color: #383838;\n",
       "                }\n",
       "\n",
       "                .geemap-dark .jupyter-button {\n",
       "                    --jp-layout-color3: #383838;\n",
       "                }\n",
       "\n",
       "                .geemap-colab {\n",
       "                    background-color: var(--colab-primary-surface-color, white);\n",
       "                }\n",
       "\n",
       "                .geemap-colab .jupyter-button {\n",
       "                    --jp-layout-color3: var(--colab-primary-surface-color, white);\n",
       "                }\n",
       "            </style>\n",
       "            "
      ],
      "text/plain": [
       "<IPython.core.display.HTML object>"
      ]
     },
     "metadata": {},
     "output_type": "display_data"
    }
   ],
   "source": [
    "polygon_ee_fragments = []\n",
    "\n",
    "for fragment in fragments:\n",
    "    polygon_ee = geemap.gdf_to_ee(fragment)\n",
    "    polygon_ee_fragments.append(polygon_ee)"
   ]
  },
  {
   "cell_type": "markdown",
   "id": "f0708bdb-0245-46fc-99da-1255902946e8",
   "metadata": {},
   "source": [
    "### Funcion que se encarga de calcular la Media y Desviacion Estandar de los pixeles en las imagenes"
   ]
  },
  {
   "cell_type": "code",
   "execution_count": 46,
   "id": "e6e179b9-c4c4-47a8-8c20-ea42c892a66b",
   "metadata": {},
   "outputs": [
    {
     "data": {
      "text/html": [
       "\n",
       "            <style>\n",
       "                .geemap-dark {\n",
       "                    --jp-widgets-color: white;\n",
       "                    --jp-widgets-label-color: white;\n",
       "                    --jp-ui-font-color1: white;\n",
       "                    --jp-layout-color2: #454545;\n",
       "                    background-color: #383838;\n",
       "                }\n",
       "\n",
       "                .geemap-dark .jupyter-button {\n",
       "                    --jp-layout-color3: #383838;\n",
       "                }\n",
       "\n",
       "                .geemap-colab {\n",
       "                    background-color: var(--colab-primary-surface-color, white);\n",
       "                }\n",
       "\n",
       "                .geemap-colab .jupyter-button {\n",
       "                    --jp-layout-color3: var(--colab-primary-surface-color, white);\n",
       "                }\n",
       "            </style>\n",
       "            "
      ],
      "text/plain": [
       "<IPython.core.display.HTML object>"
      ]
     },
     "metadata": {},
     "output_type": "display_data"
    }
   ],
   "source": [
    "def calculate_mean_stddev_variance(image, polygons):\n",
    "    if not image or not polygons:\n",
    "        raise ValueError(\"La imagen y los polígonos no deben ser nulos\")\n",
    "\n",
    "    def calculate_stats_for_polygon(polygon):\n",
    "        stats = image.reduceRegion(\n",
    "            reducer=ee.Reducer.mean()\n",
    "                .combine(reducer2=ee.Reducer.stdDev(), sharedInputs=True), \n",
    "            geometry=polygon.geometry(),\n",
    "            scale=30,  \n",
    "            crs='EPSG:4326'\n",
    "        )\n",
    "        return polygon.set(stats)\n",
    "\n",
    "    stats = polygons.map(calculate_stats_for_polygon)\n",
    "\n",
    "    return stats"
   ]
  },
  {
   "cell_type": "markdown",
   "id": "16a92885-d006-4858-8cae-b560b3cb0e56",
   "metadata": {},
   "source": [
    "### Calculamos los datos de la Media y la Desviacion Estandar"
   ]
  },
  {
   "cell_type": "code",
   "execution_count": 47,
   "id": "2ce5b336-9a4c-4778-8660-15dfa6cd8bfa",
   "metadata": {},
   "outputs": [
    {
     "data": {
      "text/html": [
       "\n",
       "            <style>\n",
       "                .geemap-dark {\n",
       "                    --jp-widgets-color: white;\n",
       "                    --jp-widgets-label-color: white;\n",
       "                    --jp-ui-font-color1: white;\n",
       "                    --jp-layout-color2: #454545;\n",
       "                    background-color: #383838;\n",
       "                }\n",
       "\n",
       "                .geemap-dark .jupyter-button {\n",
       "                    --jp-layout-color3: #383838;\n",
       "                }\n",
       "\n",
       "                .geemap-colab {\n",
       "                    background-color: var(--colab-primary-surface-color, white);\n",
       "                }\n",
       "\n",
       "                .geemap-colab .jupyter-button {\n",
       "                    --jp-layout-color3: var(--colab-primary-surface-color, white);\n",
       "                }\n",
       "            </style>\n",
       "            "
      ],
      "text/plain": [
       "<IPython.core.display.HTML object>"
      ]
     },
     "metadata": {},
     "output_type": "display_data"
    }
   ],
   "source": [
    "mean_values_frag = []\n",
    "\n",
    "for poligon_frag in polygon_ee_fragments:\n",
    "    mean_values = calculate_mean_stddev_variance(collection_years['2019'].median().clip(aoi_glaciar), poligon_frag)\n",
    "    mean_values_frag.append(mean_values)"
   ]
  },
  {
   "cell_type": "code",
   "execution_count": 48,
   "id": "3a932638-8b86-4663-bf2a-a394f46a7dca",
   "metadata": {
    "scrolled": true
   },
   "outputs": [
    {
     "data": {
      "text/html": [
       "\n",
       "            <style>\n",
       "                .geemap-dark {\n",
       "                    --jp-widgets-color: white;\n",
       "                    --jp-widgets-label-color: white;\n",
       "                    --jp-ui-font-color1: white;\n",
       "                    --jp-layout-color2: #454545;\n",
       "                    background-color: #383838;\n",
       "                }\n",
       "\n",
       "                .geemap-dark .jupyter-button {\n",
       "                    --jp-layout-color3: #383838;\n",
       "                }\n",
       "\n",
       "                .geemap-colab {\n",
       "                    background-color: var(--colab-primary-surface-color, white);\n",
       "                }\n",
       "\n",
       "                .geemap-colab .jupyter-button {\n",
       "                    --jp-layout-color3: var(--colab-primary-surface-color, white);\n",
       "                }\n",
       "            </style>\n",
       "            "
      ],
      "text/plain": [
       "<IPython.core.display.HTML object>"
      ]
     },
     "metadata": {},
     "output_type": "display_data"
    }
   ],
   "source": [
    "# Extraido de ChatGPT y editado para el codigo\n",
    "\n",
    "def ee_feature_collection_to_geodataframe(fc):\n",
    "    fc_dict = fc.getInfo()\n",
    "    \n",
    "    features = fc_dict['features']\n",
    "    \n",
    "    geometries = []\n",
    "    properties = []\n",
    "\n",
    "    for feature in features:\n",
    "        geom = shape(feature['geometry'])  # Convierte la geometría a un objeto Shapely\n",
    "        geometries.append(geom)  # Añade la geometría a la lista\n",
    "        props = feature['properties']  # Obtén las propiedades\n",
    "        properties.append(props)  # Añade las propiedades a la lista\n",
    "\n",
    "    df = pd.DataFrame(properties)\n",
    "\n",
    "    gdf = gpd.GeoDataFrame(df, geometry=geometries)\n",
    "\n",
    "    return gdf"
   ]
  },
  {
   "cell_type": "markdown",
   "id": "c3c71eb1-4440-4a13-9a30-4b38a7a561c3",
   "metadata": {},
   "source": [
    "### Transformamos cada fragmento con la Media y Desviacion Estandar a un gdf"
   ]
  },
  {
   "cell_type": "code",
   "execution_count": 49,
   "id": "f46a83b8-2936-48bd-81a5-14b309d03e14",
   "metadata": {},
   "outputs": [
    {
     "data": {
      "text/html": [
       "\n",
       "            <style>\n",
       "                .geemap-dark {\n",
       "                    --jp-widgets-color: white;\n",
       "                    --jp-widgets-label-color: white;\n",
       "                    --jp-ui-font-color1: white;\n",
       "                    --jp-layout-color2: #454545;\n",
       "                    background-color: #383838;\n",
       "                }\n",
       "\n",
       "                .geemap-dark .jupyter-button {\n",
       "                    --jp-layout-color3: #383838;\n",
       "                }\n",
       "\n",
       "                .geemap-colab {\n",
       "                    background-color: var(--colab-primary-surface-color, white);\n",
       "                }\n",
       "\n",
       "                .geemap-colab .jupyter-button {\n",
       "                    --jp-layout-color3: var(--colab-primary-surface-color, white);\n",
       "                }\n",
       "            </style>\n",
       "            "
      ],
      "text/plain": [
       "<IPython.core.display.HTML object>"
      ]
     },
     "metadata": {},
     "output_type": "display_data"
    }
   ],
   "source": [
    "gdf_train_sections = []\n",
    "\n",
    "for mean_frag in mean_values_frag:\n",
    "    gdf_training = ee_feature_collection_to_geodataframe(mean_frag)\n",
    "    gdf_train_sections.append(gdf_training)\n"
   ]
  },
  {
   "cell_type": "markdown",
   "id": "18a8629f-268e-4c5a-96ba-cb62c51d404e",
   "metadata": {},
   "source": [
    "### Concatenamos todas los gdf en uno solo"
   ]
  },
  {
   "cell_type": "code",
   "execution_count": 50,
   "id": "f70fb51c-8ed8-4141-b1ae-f0475b4a02d6",
   "metadata": {},
   "outputs": [
    {
     "data": {
      "text/html": [
       "\n",
       "            <style>\n",
       "                .geemap-dark {\n",
       "                    --jp-widgets-color: white;\n",
       "                    --jp-widgets-label-color: white;\n",
       "                    --jp-ui-font-color1: white;\n",
       "                    --jp-layout-color2: #454545;\n",
       "                    background-color: #383838;\n",
       "                }\n",
       "\n",
       "                .geemap-dark .jupyter-button {\n",
       "                    --jp-layout-color3: #383838;\n",
       "                }\n",
       "\n",
       "                .geemap-colab {\n",
       "                    background-color: var(--colab-primary-surface-color, white);\n",
       "                }\n",
       "\n",
       "                .geemap-colab .jupyter-button {\n",
       "                    --jp-layout-color3: var(--colab-primary-surface-color, white);\n",
       "                }\n",
       "            </style>\n",
       "            "
      ],
      "text/plain": [
       "<IPython.core.display.HTML object>"
      ]
     },
     "metadata": {},
     "output_type": "display_data"
    }
   ],
   "source": [
    "gdf_training = pd.concat(gdf_train_sections, ignore_index=True)"
   ]
  },
  {
   "cell_type": "markdown",
   "id": "3a6b6daa-349e-4352-89a6-14403d82d532",
   "metadata": {},
   "source": [
    "### Guardamos los datos a un GeoJSON"
   ]
  },
  {
   "cell_type": "code",
   "execution_count": 51,
   "id": "0ebd08a3-395f-4a7d-b314-09efc83f5c48",
   "metadata": {},
   "outputs": [
    {
     "data": {
      "text/html": [
       "\n",
       "            <style>\n",
       "                .geemap-dark {\n",
       "                    --jp-widgets-color: white;\n",
       "                    --jp-widgets-label-color: white;\n",
       "                    --jp-ui-font-color1: white;\n",
       "                    --jp-layout-color2: #454545;\n",
       "                    background-color: #383838;\n",
       "                }\n",
       "\n",
       "                .geemap-dark .jupyter-button {\n",
       "                    --jp-layout-color3: #383838;\n",
       "                }\n",
       "\n",
       "                .geemap-colab {\n",
       "                    background-color: var(--colab-primary-surface-color, white);\n",
       "                }\n",
       "\n",
       "                .geemap-colab .jupyter-button {\n",
       "                    --jp-layout-color3: var(--colab-primary-surface-color, white);\n",
       "                }\n",
       "            </style>\n",
       "            "
      ],
      "text/plain": [
       "<IPython.core.display.HTML object>"
      ]
     },
     "metadata": {},
     "output_type": "display_data"
    }
   ],
   "source": [
    "gdf_training.to_file('training_glaciar.geojson', driver='GeoJSON')"
   ]
  },
  {
   "cell_type": "markdown",
   "id": "16068b1b-7e61-49bd-b052-ddfa2568c395",
   "metadata": {},
   "source": [
    "### Seleccion de aquellas columnas usadas para el entrenamiento del modelo de clasificación"
   ]
  },
  {
   "cell_type": "code",
   "execution_count": 52,
   "id": "6832712e-5733-49bc-8396-a64e3b0d27af",
   "metadata": {},
   "outputs": [
    {
     "data": {
      "text/html": [
       "\n",
       "            <style>\n",
       "                .geemap-dark {\n",
       "                    --jp-widgets-color: white;\n",
       "                    --jp-widgets-label-color: white;\n",
       "                    --jp-ui-font-color1: white;\n",
       "                    --jp-layout-color2: #454545;\n",
       "                    background-color: #383838;\n",
       "                }\n",
       "\n",
       "                .geemap-dark .jupyter-button {\n",
       "                    --jp-layout-color3: #383838;\n",
       "                }\n",
       "\n",
       "                .geemap-colab {\n",
       "                    background-color: var(--colab-primary-surface-color, white);\n",
       "                }\n",
       "\n",
       "                .geemap-colab .jupyter-button {\n",
       "                    --jp-layout-color3: var(--colab-primary-surface-color, white);\n",
       "                }\n",
       "            </style>\n",
       "            "
      ],
      "text/plain": [
       "<IPython.core.display.HTML object>"
      ]
     },
     "metadata": {},
     "output_type": "display_data"
    },
    {
     "data": {
      "text/plain": [
       "Index(['B10_mean', 'B10_stdDev', 'B11_mean', 'B11_stdDev', 'B1_mean',\n",
       "       'B1_stdDev', 'B2_mean', 'B2_stdDev', 'B3_mean', 'B3_stdDev', 'B4_mean',\n",
       "       'B4_stdDev', 'B5_mean', 'B5_stdDev', 'B6_mean', 'B6_stdDev', 'B7_mean',\n",
       "       'B7_stdDev', 'B8/B6', 'B8/B6_mean', 'B8/B6_stdDev', 'B8_mean',\n",
       "       'B8_stdDev', 'B9_mean', 'B9_stdDev', 'NDSI_mean', 'NDSI_stdDev',\n",
       "       'NDVI_mean', 'NDVI_stdDev', 'NDWI_mean', 'NDWI_stdDev', 'QA_PIXEL_mean',\n",
       "       'QA_PIXEL_stdDev', 'QA_RADSAT_mean', 'QA_RADSAT_stdDev', 'SAA_mean',\n",
       "       'SAA_stdDev', 'SZA_mean', 'SZA_stdDev', 'VAA_mean', 'VAA_stdDev',\n",
       "       'VZA_mean', 'VZA_stdDev', 'count', 'glaciar', 'geometry'],\n",
       "      dtype='object')"
      ]
     },
     "execution_count": 52,
     "metadata": {},
     "output_type": "execute_result"
    }
   ],
   "source": [
    "gdf_training.columns"
   ]
  },
  {
   "cell_type": "code",
   "execution_count": 53,
   "id": "f5736383-83d9-4641-8bdb-4c82b51b9bdf",
   "metadata": {},
   "outputs": [
    {
     "data": {
      "text/html": [
       "\n",
       "            <style>\n",
       "                .geemap-dark {\n",
       "                    --jp-widgets-color: white;\n",
       "                    --jp-widgets-label-color: white;\n",
       "                    --jp-ui-font-color1: white;\n",
       "                    --jp-layout-color2: #454545;\n",
       "                    background-color: #383838;\n",
       "                }\n",
       "\n",
       "                .geemap-dark .jupyter-button {\n",
       "                    --jp-layout-color3: #383838;\n",
       "                }\n",
       "\n",
       "                .geemap-colab {\n",
       "                    background-color: var(--colab-primary-surface-color, white);\n",
       "                }\n",
       "\n",
       "                .geemap-colab .jupyter-button {\n",
       "                    --jp-layout-color3: var(--colab-primary-surface-color, white);\n",
       "                }\n",
       "            </style>\n",
       "            "
      ],
      "text/plain": [
       "<IPython.core.display.HTML object>"
      ]
     },
     "metadata": {},
     "output_type": "display_data"
    }
   ],
   "source": [
    "columns_to_use = ['B10_mean', 'B10_stdDev', 'B11_mean', 'B11_stdDev', 'B1_mean',\n",
    "       'B1_stdDev', 'B2_mean', 'B2_stdDev', 'B3_mean', 'B3_stdDev', 'B4_mean',\n",
    "       'B4_stdDev', 'B5_mean', 'B5_stdDev', 'B6_mean', 'B6_stdDev', 'B7_mean',\n",
    "       'B7_stdDev', 'B8_mean', 'B8_stdDev', 'B9_mean', 'B9_stdDev', 'B8/B6_mean', 'B8/B6_stdDev' ,'NDSI_mean', 'NDSI_stdDev', 'NDVI_mean', 'NDVI_stdDev']"
   ]
  },
  {
   "cell_type": "markdown",
   "id": "f52365e8-72ec-47a2-bda4-93aa656f7762",
   "metadata": {},
   "source": [
    "## Modelo de Clasificacion"
   ]
  },
  {
   "cell_type": "code",
   "execution_count": 54,
   "id": "05add009-3a5f-4b0a-9eff-c3f7f44562b4",
   "metadata": {},
   "outputs": [
    {
     "data": {
      "text/html": [
       "\n",
       "            <style>\n",
       "                .geemap-dark {\n",
       "                    --jp-widgets-color: white;\n",
       "                    --jp-widgets-label-color: white;\n",
       "                    --jp-ui-font-color1: white;\n",
       "                    --jp-layout-color2: #454545;\n",
       "                    background-color: #383838;\n",
       "                }\n",
       "\n",
       "                .geemap-dark .jupyter-button {\n",
       "                    --jp-layout-color3: #383838;\n",
       "                }\n",
       "\n",
       "                .geemap-colab {\n",
       "                    background-color: var(--colab-primary-surface-color, white);\n",
       "                }\n",
       "\n",
       "                .geemap-colab .jupyter-button {\n",
       "                    --jp-layout-color3: var(--colab-primary-surface-color, white);\n",
       "                }\n",
       "            </style>\n",
       "            "
      ],
      "text/plain": [
       "<IPython.core.display.HTML object>"
      ]
     },
     "metadata": {},
     "output_type": "display_data"
    }
   ],
   "source": [
    "import sklearn\n",
    "from sklearn.model_selection import train_test_split, GridSearchCV\n",
    "from sklearn.preprocessing import StandardScaler\n",
    "from sklearn.ensemble import RandomForestClassifier\n",
    "from sklearn import metrics\n",
    "import matplotlib.pyplot as plt\n",
    "from sklearn.metrics import confusion_matrix, ConfusionMatrixDisplay, accuracy_score, f1_score, roc_auc_score, roc_curve, recall_score\n",
    "import joblib\n"
   ]
  },
  {
   "cell_type": "markdown",
   "id": "a183a118-ad0c-4961-81ba-6d6549e60222",
   "metadata": {},
   "source": [
    "### Separamos los datos para el modelo y los datos de clasificacion"
   ]
  },
  {
   "cell_type": "code",
   "execution_count": 55,
   "id": "9e253a04-b3d7-4f67-b1c0-8903eb60bcfa",
   "metadata": {},
   "outputs": [
    {
     "data": {
      "text/html": [
       "\n",
       "            <style>\n",
       "                .geemap-dark {\n",
       "                    --jp-widgets-color: white;\n",
       "                    --jp-widgets-label-color: white;\n",
       "                    --jp-ui-font-color1: white;\n",
       "                    --jp-layout-color2: #454545;\n",
       "                    background-color: #383838;\n",
       "                }\n",
       "\n",
       "                .geemap-dark .jupyter-button {\n",
       "                    --jp-layout-color3: #383838;\n",
       "                }\n",
       "\n",
       "                .geemap-colab {\n",
       "                    background-color: var(--colab-primary-surface-color, white);\n",
       "                }\n",
       "\n",
       "                .geemap-colab .jupyter-button {\n",
       "                    --jp-layout-color3: var(--colab-primary-surface-color, white);\n",
       "                }\n",
       "            </style>\n",
       "            "
      ],
      "text/plain": [
       "<IPython.core.display.HTML object>"
      ]
     },
     "metadata": {},
     "output_type": "display_data"
    }
   ],
   "source": [
    "y_class = gdf_training['glaciar'] # Datos Binarios, 0 indica que no hay glaciar y 1 que si hay glaciar\n",
    "X = gdf_training[columns_to_use]"
   ]
  },
  {
   "cell_type": "markdown",
   "id": "3c5e14c9-cf81-4c3b-92c0-5bd289c52c70",
   "metadata": {},
   "source": [
    "#### Se realiza una estandarizacion de los datos"
   ]
  },
  {
   "cell_type": "code",
   "execution_count": 56,
   "id": "c8cbdf67-6437-485f-b2d2-18ddb61d7fc6",
   "metadata": {},
   "outputs": [
    {
     "data": {
      "text/html": [
       "\n",
       "            <style>\n",
       "                .geemap-dark {\n",
       "                    --jp-widgets-color: white;\n",
       "                    --jp-widgets-label-color: white;\n",
       "                    --jp-ui-font-color1: white;\n",
       "                    --jp-layout-color2: #454545;\n",
       "                    background-color: #383838;\n",
       "                }\n",
       "\n",
       "                .geemap-dark .jupyter-button {\n",
       "                    --jp-layout-color3: #383838;\n",
       "                }\n",
       "\n",
       "                .geemap-colab {\n",
       "                    background-color: var(--colab-primary-surface-color, white);\n",
       "                }\n",
       "\n",
       "                .geemap-colab .jupyter-button {\n",
       "                    --jp-layout-color3: var(--colab-primary-surface-color, white);\n",
       "                }\n",
       "            </style>\n",
       "            "
      ],
      "text/plain": [
       "<IPython.core.display.HTML object>"
      ]
     },
     "metadata": {},
     "output_type": "display_data"
    }
   ],
   "source": [
    "scaler = StandardScaler()\n",
    "df_scaled = scaler.fit_transform(X)"
   ]
  },
  {
   "cell_type": "code",
   "execution_count": 57,
   "id": "164f7b5f-f427-440a-9b97-48469c4b03b2",
   "metadata": {},
   "outputs": [
    {
     "data": {
      "text/html": [
       "\n",
       "            <style>\n",
       "                .geemap-dark {\n",
       "                    --jp-widgets-color: white;\n",
       "                    --jp-widgets-label-color: white;\n",
       "                    --jp-ui-font-color1: white;\n",
       "                    --jp-layout-color2: #454545;\n",
       "                    background-color: #383838;\n",
       "                }\n",
       "\n",
       "                .geemap-dark .jupyter-button {\n",
       "                    --jp-layout-color3: #383838;\n",
       "                }\n",
       "\n",
       "                .geemap-colab {\n",
       "                    background-color: var(--colab-primary-surface-color, white);\n",
       "                }\n",
       "\n",
       "                .geemap-colab .jupyter-button {\n",
       "                    --jp-layout-color3: var(--colab-primary-surface-color, white);\n",
       "                }\n",
       "            </style>\n",
       "            "
      ],
      "text/plain": [
       "<IPython.core.display.HTML object>"
      ]
     },
     "metadata": {},
     "output_type": "display_data"
    }
   ],
   "source": [
    "X = pd.DataFrame(df_scaled, columns=X.columns)"
   ]
  },
  {
   "cell_type": "code",
   "execution_count": 58,
   "id": "6c003c50-827a-4324-9939-77e1fb84d0f7",
   "metadata": {},
   "outputs": [
    {
     "data": {
      "text/html": [
       "\n",
       "            <style>\n",
       "                .geemap-dark {\n",
       "                    --jp-widgets-color: white;\n",
       "                    --jp-widgets-label-color: white;\n",
       "                    --jp-ui-font-color1: white;\n",
       "                    --jp-layout-color2: #454545;\n",
       "                    background-color: #383838;\n",
       "                }\n",
       "\n",
       "                .geemap-dark .jupyter-button {\n",
       "                    --jp-layout-color3: #383838;\n",
       "                }\n",
       "\n",
       "                .geemap-colab {\n",
       "                    background-color: var(--colab-primary-surface-color, white);\n",
       "                }\n",
       "\n",
       "                .geemap-colab .jupyter-button {\n",
       "                    --jp-layout-color3: var(--colab-primary-surface-color, white);\n",
       "                }\n",
       "            </style>\n",
       "            "
      ],
      "text/plain": [
       "<IPython.core.display.HTML object>"
      ]
     },
     "metadata": {},
     "output_type": "display_data"
    }
   ],
   "source": [
    "X_train, X_test, y_train, y_test = train_test_split(X, y_class, test_size = 0.2, stratify=y_class)"
   ]
  },
  {
   "cell_type": "markdown",
   "id": "c5007585-f586-4090-869b-b4ce3e1aeeac",
   "metadata": {},
   "source": [
    "### Se buscan los mejores parametros tales que nos entregue el mejor accuracy el modelo"
   ]
  },
  {
   "cell_type": "code",
   "execution_count": 59,
   "id": "e1b0065a-0b59-404b-ab16-e1c827d81b1d",
   "metadata": {},
   "outputs": [
    {
     "data": {
      "text/html": [
       "\n",
       "            <style>\n",
       "                .geemap-dark {\n",
       "                    --jp-widgets-color: white;\n",
       "                    --jp-widgets-label-color: white;\n",
       "                    --jp-ui-font-color1: white;\n",
       "                    --jp-layout-color2: #454545;\n",
       "                    background-color: #383838;\n",
       "                }\n",
       "\n",
       "                .geemap-dark .jupyter-button {\n",
       "                    --jp-layout-color3: #383838;\n",
       "                }\n",
       "\n",
       "                .geemap-colab {\n",
       "                    background-color: var(--colab-primary-surface-color, white);\n",
       "                }\n",
       "\n",
       "                .geemap-colab .jupyter-button {\n",
       "                    --jp-layout-color3: var(--colab-primary-surface-color, white);\n",
       "                }\n",
       "            </style>\n",
       "            "
      ],
      "text/plain": [
       "<IPython.core.display.HTML object>"
      ]
     },
     "metadata": {},
     "output_type": "display_data"
    },
    {
     "name": "stdout",
     "output_type": "stream",
     "text": [
      "Fitting 5 folds for each of 1200 candidates, totalling 6000 fits\n",
      "Mejores hiperparámetros: {'bootstrap': True, 'max_depth': 50, 'min_samples_leaf': 7, 'min_samples_split': 20, 'n_estimators': 100}\n"
     ]
    }
   ],
   "source": [
    "rf = RandomForestClassifier()\n",
    "\n",
    "# Definir los hiperparámetros a buscar en GridSearchCV\n",
    "param_grid = {\n",
    "    'n_estimators': [50, 100, 200, 300],\n",
    "    'max_depth': [None, 10, 20, 30, 40, 50],\n",
    "    'min_samples_split': [2, 5, 10, 20, 30],\n",
    "    'min_samples_leaf': [1, 2, 4, 6, 7],\n",
    "    'bootstrap': [True, False]\n",
    "}\n",
    "\n",
    "grid_search = GridSearchCV(estimator=rf, param_grid=param_grid, cv=5, n_jobs=-1, verbose=2, scoring='accuracy')\n",
    "grid_search.fit(X_train, y_train)\n",
    "\n",
    "print(\"Mejores hiperparámetros:\", grid_search.best_params_)"
   ]
  },
  {
   "cell_type": "code",
   "execution_count": 60,
   "id": "bd60ed4d-0ddc-4dd5-8d0c-5037c7ac2f7d",
   "metadata": {},
   "outputs": [
    {
     "data": {
      "text/html": [
       "\n",
       "            <style>\n",
       "                .geemap-dark {\n",
       "                    --jp-widgets-color: white;\n",
       "                    --jp-widgets-label-color: white;\n",
       "                    --jp-ui-font-color1: white;\n",
       "                    --jp-layout-color2: #454545;\n",
       "                    background-color: #383838;\n",
       "                }\n",
       "\n",
       "                .geemap-dark .jupyter-button {\n",
       "                    --jp-layout-color3: #383838;\n",
       "                }\n",
       "\n",
       "                .geemap-colab {\n",
       "                    background-color: var(--colab-primary-surface-color, white);\n",
       "                }\n",
       "\n",
       "                .geemap-colab .jupyter-button {\n",
       "                    --jp-layout-color3: var(--colab-primary-surface-color, white);\n",
       "                }\n",
       "            </style>\n",
       "            "
      ],
      "text/plain": [
       "<IPython.core.display.HTML object>"
      ]
     },
     "metadata": {},
     "output_type": "display_data"
    },
    {
     "data": {
      "text/plain": [
       "{'bootstrap': True,\n",
       " 'max_depth': 50,\n",
       " 'min_samples_leaf': 7,\n",
       " 'min_samples_split': 20,\n",
       " 'n_estimators': 100}"
      ]
     },
     "execution_count": 60,
     "metadata": {},
     "output_type": "execute_result"
    }
   ],
   "source": [
    "params = grid_search.best_params_\n",
    "params"
   ]
  },
  {
   "cell_type": "markdown",
   "id": "98cf820e-0c0c-444c-90d4-784d9d123ec4",
   "metadata": {},
   "source": [
    "### Definicion del clasificador con los mejores parametros encontrados"
   ]
  },
  {
   "cell_type": "code",
   "execution_count": 61,
   "id": "02b53ab4-2631-4230-a1bb-e723c6b9f3ea",
   "metadata": {},
   "outputs": [
    {
     "data": {
      "text/html": [
       "\n",
       "            <style>\n",
       "                .geemap-dark {\n",
       "                    --jp-widgets-color: white;\n",
       "                    --jp-widgets-label-color: white;\n",
       "                    --jp-ui-font-color1: white;\n",
       "                    --jp-layout-color2: #454545;\n",
       "                    background-color: #383838;\n",
       "                }\n",
       "\n",
       "                .geemap-dark .jupyter-button {\n",
       "                    --jp-layout-color3: #383838;\n",
       "                }\n",
       "\n",
       "                .geemap-colab {\n",
       "                    background-color: var(--colab-primary-surface-color, white);\n",
       "                }\n",
       "\n",
       "                .geemap-colab .jupyter-button {\n",
       "                    --jp-layout-color3: var(--colab-primary-surface-color, white);\n",
       "                }\n",
       "            </style>\n",
       "            "
      ],
      "text/plain": [
       "<IPython.core.display.HTML object>"
      ]
     },
     "metadata": {},
     "output_type": "display_data"
    }
   ],
   "source": [
    "clasificador = RandomForestClassifier(max_depth=params['max_depth'], min_samples_leaf=params['min_samples_leaf'], \n",
    "                                      min_samples_split=params['min_samples_split'], n_estimators=params['n_estimators'], bootstrap=params['bootstrap'])"
   ]
  },
  {
   "cell_type": "code",
   "execution_count": 62,
   "id": "108c3fee-7496-4c4a-ab44-0c71d348e88c",
   "metadata": {},
   "outputs": [
    {
     "data": {
      "text/html": [
       "\n",
       "            <style>\n",
       "                .geemap-dark {\n",
       "                    --jp-widgets-color: white;\n",
       "                    --jp-widgets-label-color: white;\n",
       "                    --jp-ui-font-color1: white;\n",
       "                    --jp-layout-color2: #454545;\n",
       "                    background-color: #383838;\n",
       "                }\n",
       "\n",
       "                .geemap-dark .jupyter-button {\n",
       "                    --jp-layout-color3: #383838;\n",
       "                }\n",
       "\n",
       "                .geemap-colab {\n",
       "                    background-color: var(--colab-primary-surface-color, white);\n",
       "                }\n",
       "\n",
       "                .geemap-colab .jupyter-button {\n",
       "                    --jp-layout-color3: var(--colab-primary-surface-color, white);\n",
       "                }\n",
       "            </style>\n",
       "            "
      ],
      "text/plain": [
       "<IPython.core.display.HTML object>"
      ]
     },
     "metadata": {},
     "output_type": "display_data"
    },
    {
     "data": {
      "text/html": [
       "<style>#sk-container-id-1 {\n",
       "  /* Definition of color scheme common for light and dark mode */\n",
       "  --sklearn-color-text: black;\n",
       "  --sklearn-color-line: gray;\n",
       "  /* Definition of color scheme for unfitted estimators */\n",
       "  --sklearn-color-unfitted-level-0: #fff5e6;\n",
       "  --sklearn-color-unfitted-level-1: #f6e4d2;\n",
       "  --sklearn-color-unfitted-level-2: #ffe0b3;\n",
       "  --sklearn-color-unfitted-level-3: chocolate;\n",
       "  /* Definition of color scheme for fitted estimators */\n",
       "  --sklearn-color-fitted-level-0: #f0f8ff;\n",
       "  --sklearn-color-fitted-level-1: #d4ebff;\n",
       "  --sklearn-color-fitted-level-2: #b3dbfd;\n",
       "  --sklearn-color-fitted-level-3: cornflowerblue;\n",
       "\n",
       "  /* Specific color for light theme */\n",
       "  --sklearn-color-text-on-default-background: var(--sg-text-color, var(--theme-code-foreground, var(--jp-content-font-color1, black)));\n",
       "  --sklearn-color-background: var(--sg-background-color, var(--theme-background, var(--jp-layout-color0, white)));\n",
       "  --sklearn-color-border-box: var(--sg-text-color, var(--theme-code-foreground, var(--jp-content-font-color1, black)));\n",
       "  --sklearn-color-icon: #696969;\n",
       "\n",
       "  @media (prefers-color-scheme: dark) {\n",
       "    /* Redefinition of color scheme for dark theme */\n",
       "    --sklearn-color-text-on-default-background: var(--sg-text-color, var(--theme-code-foreground, var(--jp-content-font-color1, white)));\n",
       "    --sklearn-color-background: var(--sg-background-color, var(--theme-background, var(--jp-layout-color0, #111)));\n",
       "    --sklearn-color-border-box: var(--sg-text-color, var(--theme-code-foreground, var(--jp-content-font-color1, white)));\n",
       "    --sklearn-color-icon: #878787;\n",
       "  }\n",
       "}\n",
       "\n",
       "#sk-container-id-1 {\n",
       "  color: var(--sklearn-color-text);\n",
       "}\n",
       "\n",
       "#sk-container-id-1 pre {\n",
       "  padding: 0;\n",
       "}\n",
       "\n",
       "#sk-container-id-1 input.sk-hidden--visually {\n",
       "  border: 0;\n",
       "  clip: rect(1px 1px 1px 1px);\n",
       "  clip: rect(1px, 1px, 1px, 1px);\n",
       "  height: 1px;\n",
       "  margin: -1px;\n",
       "  overflow: hidden;\n",
       "  padding: 0;\n",
       "  position: absolute;\n",
       "  width: 1px;\n",
       "}\n",
       "\n",
       "#sk-container-id-1 div.sk-dashed-wrapped {\n",
       "  border: 1px dashed var(--sklearn-color-line);\n",
       "  margin: 0 0.4em 0.5em 0.4em;\n",
       "  box-sizing: border-box;\n",
       "  padding-bottom: 0.4em;\n",
       "  background-color: var(--sklearn-color-background);\n",
       "}\n",
       "\n",
       "#sk-container-id-1 div.sk-container {\n",
       "  /* jupyter's `normalize.less` sets `[hidden] { display: none; }`\n",
       "     but bootstrap.min.css set `[hidden] { display: none !important; }`\n",
       "     so we also need the `!important` here to be able to override the\n",
       "     default hidden behavior on the sphinx rendered scikit-learn.org.\n",
       "     See: https://github.com/scikit-learn/scikit-learn/issues/21755 */\n",
       "  display: inline-block !important;\n",
       "  position: relative;\n",
       "}\n",
       "\n",
       "#sk-container-id-1 div.sk-text-repr-fallback {\n",
       "  display: none;\n",
       "}\n",
       "\n",
       "div.sk-parallel-item,\n",
       "div.sk-serial,\n",
       "div.sk-item {\n",
       "  /* draw centered vertical line to link estimators */\n",
       "  background-image: linear-gradient(var(--sklearn-color-text-on-default-background), var(--sklearn-color-text-on-default-background));\n",
       "  background-size: 2px 100%;\n",
       "  background-repeat: no-repeat;\n",
       "  background-position: center center;\n",
       "}\n",
       "\n",
       "/* Parallel-specific style estimator block */\n",
       "\n",
       "#sk-container-id-1 div.sk-parallel-item::after {\n",
       "  content: \"\";\n",
       "  width: 100%;\n",
       "  border-bottom: 2px solid var(--sklearn-color-text-on-default-background);\n",
       "  flex-grow: 1;\n",
       "}\n",
       "\n",
       "#sk-container-id-1 div.sk-parallel {\n",
       "  display: flex;\n",
       "  align-items: stretch;\n",
       "  justify-content: center;\n",
       "  background-color: var(--sklearn-color-background);\n",
       "  position: relative;\n",
       "}\n",
       "\n",
       "#sk-container-id-1 div.sk-parallel-item {\n",
       "  display: flex;\n",
       "  flex-direction: column;\n",
       "}\n",
       "\n",
       "#sk-container-id-1 div.sk-parallel-item:first-child::after {\n",
       "  align-self: flex-end;\n",
       "  width: 50%;\n",
       "}\n",
       "\n",
       "#sk-container-id-1 div.sk-parallel-item:last-child::after {\n",
       "  align-self: flex-start;\n",
       "  width: 50%;\n",
       "}\n",
       "\n",
       "#sk-container-id-1 div.sk-parallel-item:only-child::after {\n",
       "  width: 0;\n",
       "}\n",
       "\n",
       "/* Serial-specific style estimator block */\n",
       "\n",
       "#sk-container-id-1 div.sk-serial {\n",
       "  display: flex;\n",
       "  flex-direction: column;\n",
       "  align-items: center;\n",
       "  background-color: var(--sklearn-color-background);\n",
       "  padding-right: 1em;\n",
       "  padding-left: 1em;\n",
       "}\n",
       "\n",
       "\n",
       "/* Toggleable style: style used for estimator/Pipeline/ColumnTransformer box that is\n",
       "clickable and can be expanded/collapsed.\n",
       "- Pipeline and ColumnTransformer use this feature and define the default style\n",
       "- Estimators will overwrite some part of the style using the `sk-estimator` class\n",
       "*/\n",
       "\n",
       "/* Pipeline and ColumnTransformer style (default) */\n",
       "\n",
       "#sk-container-id-1 div.sk-toggleable {\n",
       "  /* Default theme specific background. It is overwritten whether we have a\n",
       "  specific estimator or a Pipeline/ColumnTransformer */\n",
       "  background-color: var(--sklearn-color-background);\n",
       "}\n",
       "\n",
       "/* Toggleable label */\n",
       "#sk-container-id-1 label.sk-toggleable__label {\n",
       "  cursor: pointer;\n",
       "  display: block;\n",
       "  width: 100%;\n",
       "  margin-bottom: 0;\n",
       "  padding: 0.5em;\n",
       "  box-sizing: border-box;\n",
       "  text-align: center;\n",
       "}\n",
       "\n",
       "#sk-container-id-1 label.sk-toggleable__label-arrow:before {\n",
       "  /* Arrow on the left of the label */\n",
       "  content: \"▸\";\n",
       "  float: left;\n",
       "  margin-right: 0.25em;\n",
       "  color: var(--sklearn-color-icon);\n",
       "}\n",
       "\n",
       "#sk-container-id-1 label.sk-toggleable__label-arrow:hover:before {\n",
       "  color: var(--sklearn-color-text);\n",
       "}\n",
       "\n",
       "/* Toggleable content - dropdown */\n",
       "\n",
       "#sk-container-id-1 div.sk-toggleable__content {\n",
       "  max-height: 0;\n",
       "  max-width: 0;\n",
       "  overflow: hidden;\n",
       "  text-align: left;\n",
       "  /* unfitted */\n",
       "  background-color: var(--sklearn-color-unfitted-level-0);\n",
       "}\n",
       "\n",
       "#sk-container-id-1 div.sk-toggleable__content.fitted {\n",
       "  /* fitted */\n",
       "  background-color: var(--sklearn-color-fitted-level-0);\n",
       "}\n",
       "\n",
       "#sk-container-id-1 div.sk-toggleable__content pre {\n",
       "  margin: 0.2em;\n",
       "  border-radius: 0.25em;\n",
       "  color: var(--sklearn-color-text);\n",
       "  /* unfitted */\n",
       "  background-color: var(--sklearn-color-unfitted-level-0);\n",
       "}\n",
       "\n",
       "#sk-container-id-1 div.sk-toggleable__content.fitted pre {\n",
       "  /* unfitted */\n",
       "  background-color: var(--sklearn-color-fitted-level-0);\n",
       "}\n",
       "\n",
       "#sk-container-id-1 input.sk-toggleable__control:checked~div.sk-toggleable__content {\n",
       "  /* Expand drop-down */\n",
       "  max-height: 200px;\n",
       "  max-width: 100%;\n",
       "  overflow: auto;\n",
       "}\n",
       "\n",
       "#sk-container-id-1 input.sk-toggleable__control:checked~label.sk-toggleable__label-arrow:before {\n",
       "  content: \"▾\";\n",
       "}\n",
       "\n",
       "/* Pipeline/ColumnTransformer-specific style */\n",
       "\n",
       "#sk-container-id-1 div.sk-label input.sk-toggleable__control:checked~label.sk-toggleable__label {\n",
       "  color: var(--sklearn-color-text);\n",
       "  background-color: var(--sklearn-color-unfitted-level-2);\n",
       "}\n",
       "\n",
       "#sk-container-id-1 div.sk-label.fitted input.sk-toggleable__control:checked~label.sk-toggleable__label {\n",
       "  background-color: var(--sklearn-color-fitted-level-2);\n",
       "}\n",
       "\n",
       "/* Estimator-specific style */\n",
       "\n",
       "/* Colorize estimator box */\n",
       "#sk-container-id-1 div.sk-estimator input.sk-toggleable__control:checked~label.sk-toggleable__label {\n",
       "  /* unfitted */\n",
       "  background-color: var(--sklearn-color-unfitted-level-2);\n",
       "}\n",
       "\n",
       "#sk-container-id-1 div.sk-estimator.fitted input.sk-toggleable__control:checked~label.sk-toggleable__label {\n",
       "  /* fitted */\n",
       "  background-color: var(--sklearn-color-fitted-level-2);\n",
       "}\n",
       "\n",
       "#sk-container-id-1 div.sk-label label.sk-toggleable__label,\n",
       "#sk-container-id-1 div.sk-label label {\n",
       "  /* The background is the default theme color */\n",
       "  color: var(--sklearn-color-text-on-default-background);\n",
       "}\n",
       "\n",
       "/* On hover, darken the color of the background */\n",
       "#sk-container-id-1 div.sk-label:hover label.sk-toggleable__label {\n",
       "  color: var(--sklearn-color-text);\n",
       "  background-color: var(--sklearn-color-unfitted-level-2);\n",
       "}\n",
       "\n",
       "/* Label box, darken color on hover, fitted */\n",
       "#sk-container-id-1 div.sk-label.fitted:hover label.sk-toggleable__label.fitted {\n",
       "  color: var(--sklearn-color-text);\n",
       "  background-color: var(--sklearn-color-fitted-level-2);\n",
       "}\n",
       "\n",
       "/* Estimator label */\n",
       "\n",
       "#sk-container-id-1 div.sk-label label {\n",
       "  font-family: monospace;\n",
       "  font-weight: bold;\n",
       "  display: inline-block;\n",
       "  line-height: 1.2em;\n",
       "}\n",
       "\n",
       "#sk-container-id-1 div.sk-label-container {\n",
       "  text-align: center;\n",
       "}\n",
       "\n",
       "/* Estimator-specific */\n",
       "#sk-container-id-1 div.sk-estimator {\n",
       "  font-family: monospace;\n",
       "  border: 1px dotted var(--sklearn-color-border-box);\n",
       "  border-radius: 0.25em;\n",
       "  box-sizing: border-box;\n",
       "  margin-bottom: 0.5em;\n",
       "  /* unfitted */\n",
       "  background-color: var(--sklearn-color-unfitted-level-0);\n",
       "}\n",
       "\n",
       "#sk-container-id-1 div.sk-estimator.fitted {\n",
       "  /* fitted */\n",
       "  background-color: var(--sklearn-color-fitted-level-0);\n",
       "}\n",
       "\n",
       "/* on hover */\n",
       "#sk-container-id-1 div.sk-estimator:hover {\n",
       "  /* unfitted */\n",
       "  background-color: var(--sklearn-color-unfitted-level-2);\n",
       "}\n",
       "\n",
       "#sk-container-id-1 div.sk-estimator.fitted:hover {\n",
       "  /* fitted */\n",
       "  background-color: var(--sklearn-color-fitted-level-2);\n",
       "}\n",
       "\n",
       "/* Specification for estimator info (e.g. \"i\" and \"?\") */\n",
       "\n",
       "/* Common style for \"i\" and \"?\" */\n",
       "\n",
       ".sk-estimator-doc-link,\n",
       "a:link.sk-estimator-doc-link,\n",
       "a:visited.sk-estimator-doc-link {\n",
       "  float: right;\n",
       "  font-size: smaller;\n",
       "  line-height: 1em;\n",
       "  font-family: monospace;\n",
       "  background-color: var(--sklearn-color-background);\n",
       "  border-radius: 1em;\n",
       "  height: 1em;\n",
       "  width: 1em;\n",
       "  text-decoration: none !important;\n",
       "  margin-left: 1ex;\n",
       "  /* unfitted */\n",
       "  border: var(--sklearn-color-unfitted-level-1) 1pt solid;\n",
       "  color: var(--sklearn-color-unfitted-level-1);\n",
       "}\n",
       "\n",
       ".sk-estimator-doc-link.fitted,\n",
       "a:link.sk-estimator-doc-link.fitted,\n",
       "a:visited.sk-estimator-doc-link.fitted {\n",
       "  /* fitted */\n",
       "  border: var(--sklearn-color-fitted-level-1) 1pt solid;\n",
       "  color: var(--sklearn-color-fitted-level-1);\n",
       "}\n",
       "\n",
       "/* On hover */\n",
       "div.sk-estimator:hover .sk-estimator-doc-link:hover,\n",
       ".sk-estimator-doc-link:hover,\n",
       "div.sk-label-container:hover .sk-estimator-doc-link:hover,\n",
       ".sk-estimator-doc-link:hover {\n",
       "  /* unfitted */\n",
       "  background-color: var(--sklearn-color-unfitted-level-3);\n",
       "  color: var(--sklearn-color-background);\n",
       "  text-decoration: none;\n",
       "}\n",
       "\n",
       "div.sk-estimator.fitted:hover .sk-estimator-doc-link.fitted:hover,\n",
       ".sk-estimator-doc-link.fitted:hover,\n",
       "div.sk-label-container:hover .sk-estimator-doc-link.fitted:hover,\n",
       ".sk-estimator-doc-link.fitted:hover {\n",
       "  /* fitted */\n",
       "  background-color: var(--sklearn-color-fitted-level-3);\n",
       "  color: var(--sklearn-color-background);\n",
       "  text-decoration: none;\n",
       "}\n",
       "\n",
       "/* Span, style for the box shown on hovering the info icon */\n",
       ".sk-estimator-doc-link span {\n",
       "  display: none;\n",
       "  z-index: 9999;\n",
       "  position: relative;\n",
       "  font-weight: normal;\n",
       "  right: .2ex;\n",
       "  padding: .5ex;\n",
       "  margin: .5ex;\n",
       "  width: min-content;\n",
       "  min-width: 20ex;\n",
       "  max-width: 50ex;\n",
       "  color: var(--sklearn-color-text);\n",
       "  box-shadow: 2pt 2pt 4pt #999;\n",
       "  /* unfitted */\n",
       "  background: var(--sklearn-color-unfitted-level-0);\n",
       "  border: .5pt solid var(--sklearn-color-unfitted-level-3);\n",
       "}\n",
       "\n",
       ".sk-estimator-doc-link.fitted span {\n",
       "  /* fitted */\n",
       "  background: var(--sklearn-color-fitted-level-0);\n",
       "  border: var(--sklearn-color-fitted-level-3);\n",
       "}\n",
       "\n",
       ".sk-estimator-doc-link:hover span {\n",
       "  display: block;\n",
       "}\n",
       "\n",
       "/* \"?\"-specific style due to the `<a>` HTML tag */\n",
       "\n",
       "#sk-container-id-1 a.estimator_doc_link {\n",
       "  float: right;\n",
       "  font-size: 1rem;\n",
       "  line-height: 1em;\n",
       "  font-family: monospace;\n",
       "  background-color: var(--sklearn-color-background);\n",
       "  border-radius: 1rem;\n",
       "  height: 1rem;\n",
       "  width: 1rem;\n",
       "  text-decoration: none;\n",
       "  /* unfitted */\n",
       "  color: var(--sklearn-color-unfitted-level-1);\n",
       "  border: var(--sklearn-color-unfitted-level-1) 1pt solid;\n",
       "}\n",
       "\n",
       "#sk-container-id-1 a.estimator_doc_link.fitted {\n",
       "  /* fitted */\n",
       "  border: var(--sklearn-color-fitted-level-1) 1pt solid;\n",
       "  color: var(--sklearn-color-fitted-level-1);\n",
       "}\n",
       "\n",
       "/* On hover */\n",
       "#sk-container-id-1 a.estimator_doc_link:hover {\n",
       "  /* unfitted */\n",
       "  background-color: var(--sklearn-color-unfitted-level-3);\n",
       "  color: var(--sklearn-color-background);\n",
       "  text-decoration: none;\n",
       "}\n",
       "\n",
       "#sk-container-id-1 a.estimator_doc_link.fitted:hover {\n",
       "  /* fitted */\n",
       "  background-color: var(--sklearn-color-fitted-level-3);\n",
       "}\n",
       "</style><div id=\"sk-container-id-1\" class=\"sk-top-container\"><div class=\"sk-text-repr-fallback\"><pre>RandomForestClassifier(max_depth=50, min_samples_leaf=7, min_samples_split=20)</pre><b>In a Jupyter environment, please rerun this cell to show the HTML representation or trust the notebook. <br />On GitHub, the HTML representation is unable to render, please try loading this page with nbviewer.org.</b></div><div class=\"sk-container\" hidden><div class=\"sk-item\"><div class=\"sk-estimator fitted sk-toggleable\"><input class=\"sk-toggleable__control sk-hidden--visually\" id=\"sk-estimator-id-1\" type=\"checkbox\" checked><label for=\"sk-estimator-id-1\" class=\"sk-toggleable__label fitted sk-toggleable__label-arrow fitted\">&nbsp;&nbsp;RandomForestClassifier<a class=\"sk-estimator-doc-link fitted\" rel=\"noreferrer\" target=\"_blank\" href=\"https://scikit-learn.org/1.4/modules/generated/sklearn.ensemble.RandomForestClassifier.html\">?<span>Documentation for RandomForestClassifier</span></a><span class=\"sk-estimator-doc-link fitted\">i<span>Fitted</span></span></label><div class=\"sk-toggleable__content fitted\"><pre>RandomForestClassifier(max_depth=50, min_samples_leaf=7, min_samples_split=20)</pre></div> </div></div></div></div>"
      ],
      "text/plain": [
       "RandomForestClassifier(max_depth=50, min_samples_leaf=7, min_samples_split=20)"
      ]
     },
     "execution_count": 62,
     "metadata": {},
     "output_type": "execute_result"
    }
   ],
   "source": [
    "clasificador.fit(X_train, y_train)"
   ]
  },
  {
   "cell_type": "code",
   "execution_count": 63,
   "id": "d5ed550d-9bc0-4e23-89f0-5ee91bedaa66",
   "metadata": {},
   "outputs": [
    {
     "data": {
      "text/html": [
       "\n",
       "            <style>\n",
       "                .geemap-dark {\n",
       "                    --jp-widgets-color: white;\n",
       "                    --jp-widgets-label-color: white;\n",
       "                    --jp-ui-font-color1: white;\n",
       "                    --jp-layout-color2: #454545;\n",
       "                    background-color: #383838;\n",
       "                }\n",
       "\n",
       "                .geemap-dark .jupyter-button {\n",
       "                    --jp-layout-color3: #383838;\n",
       "                }\n",
       "\n",
       "                .geemap-colab {\n",
       "                    background-color: var(--colab-primary-surface-color, white);\n",
       "                }\n",
       "\n",
       "                .geemap-colab .jupyter-button {\n",
       "                    --jp-layout-color3: var(--colab-primary-surface-color, white);\n",
       "                }\n",
       "            </style>\n",
       "            "
      ],
      "text/plain": [
       "<IPython.core.display.HTML object>"
      ]
     },
     "metadata": {},
     "output_type": "display_data"
    }
   ],
   "source": [
    "y_pred = clasificador.predict(X_test)\n",
    "y_pred_prob = clasificador.predict_proba(X_test)[:, 1]"
   ]
  },
  {
   "cell_type": "code",
   "execution_count": 64,
   "id": "86895d55-818e-41e6-bebf-4635ff2760fa",
   "metadata": {},
   "outputs": [
    {
     "data": {
      "text/html": [
       "\n",
       "            <style>\n",
       "                .geemap-dark {\n",
       "                    --jp-widgets-color: white;\n",
       "                    --jp-widgets-label-color: white;\n",
       "                    --jp-ui-font-color1: white;\n",
       "                    --jp-layout-color2: #454545;\n",
       "                    background-color: #383838;\n",
       "                }\n",
       "\n",
       "                .geemap-dark .jupyter-button {\n",
       "                    --jp-layout-color3: #383838;\n",
       "                }\n",
       "\n",
       "                .geemap-colab {\n",
       "                    background-color: var(--colab-primary-surface-color, white);\n",
       "                }\n",
       "\n",
       "                .geemap-colab .jupyter-button {\n",
       "                    --jp-layout-color3: var(--colab-primary-surface-color, white);\n",
       "                }\n",
       "            </style>\n",
       "            "
      ],
      "text/plain": [
       "<IPython.core.display.HTML object>"
      ]
     },
     "metadata": {},
     "output_type": "display_data"
    },
    {
     "name": "stdout",
     "output_type": "stream",
     "text": [
      "Accuracy: 0.9970\n",
      "F1 Score: 0.9921\n",
      "Recall Score: 0.9890\n",
      "ROC AUC Score: 1.0000\n"
     ]
    }
   ],
   "source": [
    "accuracy = accuracy_score(y_test, y_pred)\n",
    "f1 = f1_score(y_test, y_pred)\n",
    "recall = recall_score(y_test, y_pred)\n",
    "roc_auc = roc_auc_score(y_test, y_pred_prob)\n",
    "\n",
    "print(f'Accuracy: {accuracy:.4f}')\n",
    "print(f'F1 Score: {f1:.4f}')\n",
    "print(f'Recall Score: {recall:.4f}')\n",
    "print(f'ROC AUC Score: {roc_auc:.4f}')"
   ]
  },
  {
   "cell_type": "markdown",
   "id": "67ac63dd-17c2-4bb2-a6ea-d2051f3eb6cc",
   "metadata": {},
   "source": [
    "### Curva ROC"
   ]
  },
  {
   "cell_type": "code",
   "execution_count": 65,
   "id": "83216e3b-3a88-4285-8b0c-f2166ec35c21",
   "metadata": {},
   "outputs": [
    {
     "data": {
      "text/html": [
       "\n",
       "            <style>\n",
       "                .geemap-dark {\n",
       "                    --jp-widgets-color: white;\n",
       "                    --jp-widgets-label-color: white;\n",
       "                    --jp-ui-font-color1: white;\n",
       "                    --jp-layout-color2: #454545;\n",
       "                    background-color: #383838;\n",
       "                }\n",
       "\n",
       "                .geemap-dark .jupyter-button {\n",
       "                    --jp-layout-color3: #383838;\n",
       "                }\n",
       "\n",
       "                .geemap-colab {\n",
       "                    background-color: var(--colab-primary-surface-color, white);\n",
       "                }\n",
       "\n",
       "                .geemap-colab .jupyter-button {\n",
       "                    --jp-layout-color3: var(--colab-primary-surface-color, white);\n",
       "                }\n",
       "            </style>\n",
       "            "
      ],
      "text/plain": [
       "<IPython.core.display.HTML object>"
      ]
     },
     "metadata": {},
     "output_type": "display_data"
    },
    {
     "data": {
      "image/png": "[encoded data removed]",
      "text/plain": [
       "<Figure size 640x480 with 1 Axes>"
      ]
     },
     "metadata": {},
     "output_type": "display_data"
    }
   ],
   "source": [
    "# Extraido de ChatGPT\n",
    "\n",
    "fpr, tpr, thresholds = roc_curve(y_test, y_pred_prob)\n",
    "plt.figure()\n",
    "plt.plot(fpr, tpr, color='blue', lw=2, label=f'ROC curve (area = {roc_auc:.4f})')\n",
    "plt.plot([0, 1], [0, 1], color='grey', lw=2, linestyle='--')\n",
    "plt.xlim([0.0, 1.0])\n",
    "plt.ylim([0.0, 1.05])\n",
    "plt.xlabel('False Positive Rate')\n",
    "plt.ylabel('True Positive Rate')\n",
    "plt.title('Receiver Operating Characteristic (ROC)')\n",
    "plt.legend(loc=\"lower right\")\n",
    "plt.show()"
   ]
  },
  {
   "cell_type": "markdown",
   "id": "27b94280-d80a-4e9c-b48b-b6587e9a8c70",
   "metadata": {},
   "source": [
    "### Matriz de confunsion"
   ]
  },
  {
   "cell_type": "code",
   "execution_count": 66,
   "id": "6cbb7079-6149-400f-83ab-bec9b373ba07",
   "metadata": {},
   "outputs": [
    {
     "data": {
      "text/html": [
       "\n",
       "            <style>\n",
       "                .geemap-dark {\n",
       "                    --jp-widgets-color: white;\n",
       "                    --jp-widgets-label-color: white;\n",
       "                    --jp-ui-font-color1: white;\n",
       "                    --jp-layout-color2: #454545;\n",
       "                    background-color: #383838;\n",
       "                }\n",
       "\n",
       "                .geemap-dark .jupyter-button {\n",
       "                    --jp-layout-color3: #383838;\n",
       "                }\n",
       "\n",
       "                .geemap-colab {\n",
       "                    background-color: var(--colab-primary-surface-color, white);\n",
       "                }\n",
       "\n",
       "                .geemap-colab .jupyter-button {\n",
       "                    --jp-layout-color3: var(--colab-primary-surface-color, white);\n",
       "                }\n",
       "            </style>\n",
       "            "
      ],
      "text/plain": [
       "<IPython.core.display.HTML object>"
      ]
     },
     "metadata": {},
     "output_type": "display_data"
    },
    {
     "data": {
      "image/png": "[encoded data removed]",
      "text/plain": [
       "<Figure size 800x600 with 2 Axes>"
      ]
     },
     "metadata": {},
     "output_type": "display_data"
    }
   ],
   "source": [
    "# Calcular la matriz de confusión\n",
    "cm = confusion_matrix(y_test, y_pred)\n",
    "\n",
    "# Graficar la matriz de confusión\n",
    "fig, ax = plt.subplots(figsize=(8, 6))\n",
    "disp = ConfusionMatrixDisplay(confusion_matrix=cm)\n",
    "disp.plot(cmap=plt.cm.Blues, ax=ax)\n",
    "plt.title('Matriz de Confusión')\n",
    "plt.show()"
   ]
  },
  {
   "cell_type": "markdown",
   "id": "e474c36c-3191-4cce-9182-6edc76129b5f",
   "metadata": {},
   "source": [
    "### Guardamos el modelo"
   ]
  },
  {
   "cell_type": "code",
   "execution_count": 67,
   "id": "9bb58ba4-6784-4050-a7b5-5c5c719faffd",
   "metadata": {},
   "outputs": [
    {
     "data": {
      "text/html": [
       "\n",
       "            <style>\n",
       "                .geemap-dark {\n",
       "                    --jp-widgets-color: white;\n",
       "                    --jp-widgets-label-color: white;\n",
       "                    --jp-ui-font-color1: white;\n",
       "                    --jp-layout-color2: #454545;\n",
       "                    background-color: #383838;\n",
       "                }\n",
       "\n",
       "                .geemap-dark .jupyter-button {\n",
       "                    --jp-layout-color3: #383838;\n",
       "                }\n",
       "\n",
       "                .geemap-colab {\n",
       "                    background-color: var(--colab-primary-surface-color, white);\n",
       "                }\n",
       "\n",
       "                .geemap-colab .jupyter-button {\n",
       "                    --jp-layout-color3: var(--colab-primary-surface-color, white);\n",
       "                }\n",
       "            </style>\n",
       "            "
      ],
      "text/plain": [
       "<IPython.core.display.HTML object>"
      ]
     },
     "metadata": {},
     "output_type": "display_data"
    },
    {
     "data": {
      "text/plain": [
       "['random_forest_model.pkl']"
      ]
     },
     "execution_count": 67,
     "metadata": {},
     "output_type": "execute_result"
    }
   ],
   "source": [
    "# Guardar el clasificador en un archivo\n",
    "joblib_file = \"random_forest_model.pkl\"  \n",
    "joblib.dump(clasificador, joblib_file)"
   ]
  },
  {
   "cell_type": "markdown",
   "id": "f6e9fb93-f2f9-457f-b4a5-8fccb9b5e85b",
   "metadata": {},
   "source": [
    "### Espacio de Clasificacion"
   ]
  },
  {
   "cell_type": "code",
   "execution_count": 68,
   "id": "ac342a7d-1d69-45c8-8687-98e70807b737",
   "metadata": {},
   "outputs": [
    {
     "data": {
      "text/html": [
       "\n",
       "            <style>\n",
       "                .geemap-dark {\n",
       "                    --jp-widgets-color: white;\n",
       "                    --jp-widgets-label-color: white;\n",
       "                    --jp-ui-font-color1: white;\n",
       "                    --jp-layout-color2: #454545;\n",
       "                    background-color: #383838;\n",
       "                }\n",
       "\n",
       "                .geemap-dark .jupyter-button {\n",
       "                    --jp-layout-color3: #383838;\n",
       "                }\n",
       "\n",
       "                .geemap-colab {\n",
       "                    background-color: var(--colab-primary-surface-color, white);\n",
       "                }\n",
       "\n",
       "                .geemap-colab .jupyter-button {\n",
       "                    --jp-layout-color3: var(--colab-primary-surface-color, white);\n",
       "                }\n",
       "            </style>\n",
       "            "
      ],
      "text/plain": [
       "<IPython.core.display.HTML object>"
      ]
     },
     "metadata": {},
     "output_type": "display_data"
    }
   ],
   "source": [
    "testing_locations = {\n",
    "    '1': (-18.17448, -69.14340),\n",
    "    '2': (-34.81807, -70.33225),\n",
    "    '3': (-18.42484, -69.08139),\n",
    "    '4': (-28.35960, -69.60835)\n",
    "}"
   ]
  },
  {
   "cell_type": "markdown",
   "id": "e46290ec-2c06-4786-87df-3de240e66538",
   "metadata": {},
   "source": [
    "### Creamos los bordes del area de clasificacion"
   ]
  },
  {
   "cell_type": "code",
   "execution_count": 69,
   "id": "b1b247be-b433-46db-b7cb-f9a523ecb3c8",
   "metadata": {},
   "outputs": [
    {
     "data": {
      "text/html": [
       "\n",
       "            <style>\n",
       "                .geemap-dark {\n",
       "                    --jp-widgets-color: white;\n",
       "                    --jp-widgets-label-color: white;\n",
       "                    --jp-ui-font-color1: white;\n",
       "                    --jp-layout-color2: #454545;\n",
       "                    background-color: #383838;\n",
       "                }\n",
       "\n",
       "                .geemap-dark .jupyter-button {\n",
       "                    --jp-layout-color3: #383838;\n",
       "                }\n",
       "\n",
       "                .geemap-colab {\n",
       "                    background-color: var(--colab-primary-surface-color, white);\n",
       "                }\n",
       "\n",
       "                .geemap-colab .jupyter-button {\n",
       "                    --jp-layout-color3: var(--colab-primary-surface-color, white);\n",
       "                }\n",
       "            </style>\n",
       "            "
      ],
      "text/plain": [
       "<IPython.core.display.HTML object>"
      ]
     },
     "metadata": {},
     "output_type": "display_data"
    }
   ],
   "source": [
    "margin = 0.05\n",
    "\n",
    "rectangles = {}\n",
    "for key, (lon, lat) in testing_locations.items():\n",
    "    rect_coords = [\n",
    "        (lat - margin, lon - margin),\n",
    "        (lat - margin, lon + margin),\n",
    "        (lat + margin, lon + margin),\n",
    "        (lat + margin, lon - margin),\n",
    "        (lat - margin, lon - margin) \n",
    "    ]\n",
    "    rectangles[key] = rect_coords"
   ]
  },
  {
   "cell_type": "code",
   "execution_count": 70,
   "id": "230adecc-d28c-4453-9f4a-ceade1a522b1",
   "metadata": {
    "scrolled": true
   },
   "outputs": [
    {
     "data": {
      "text/html": [
       "\n",
       "            <style>\n",
       "                .geemap-dark {\n",
       "                    --jp-widgets-color: white;\n",
       "                    --jp-widgets-label-color: white;\n",
       "                    --jp-ui-font-color1: white;\n",
       "                    --jp-layout-color2: #454545;\n",
       "                    background-color: #383838;\n",
       "                }\n",
       "\n",
       "                .geemap-dark .jupyter-button {\n",
       "                    --jp-layout-color3: #383838;\n",
       "                }\n",
       "\n",
       "                .geemap-colab {\n",
       "                    background-color: var(--colab-primary-surface-color, white);\n",
       "                }\n",
       "\n",
       "                .geemap-colab .jupyter-button {\n",
       "                    --jp-layout-color3: var(--colab-primary-surface-color, white);\n",
       "                }\n",
       "            </style>\n",
       "            "
      ],
      "text/plain": [
       "<IPython.core.display.HTML object>"
      ]
     },
     "metadata": {},
     "output_type": "display_data"
    },
    {
     "data": {
      "image/png": "[encoded data removed]",
      "text/plain": [
       "<Figure size 1000x800 with 1 Axes>"
      ]
     },
     "metadata": {},
     "output_type": "display_data"
    }
   ],
   "source": [
    "plt.figure(figsize=(10, 8))\n",
    "\n",
    "for key, rect_coords in rectangles.items():\n",
    "    plt.plot(*zip(*rect_coords), linestyle='-', color='r', label=f'Rectángulo {key}' if key == '1' else \"\")\n",
    "\n",
    "for key, (lat, lon) in testing_locations.items():\n",
    "    plt.plot(lon, lat, 'bo')  # Puntos azules\n",
    "    plt.text(lon, lat, key, fontsize=12, ha='right')\n",
    "\n",
    "plt.xlabel('Longitud')\n",
    "plt.ylabel('Latitud')\n",
    "plt.title('Rectángulos alrededor de cada punto de prueba')\n",
    "plt.grid(True)\n",
    "plt.show()"
   ]
  },
  {
   "cell_type": "markdown",
   "id": "b6668bb8-3488-4bf4-85c0-f6ee319cafd5",
   "metadata": {},
   "source": [
    "### Transformamos los rectangulos a un Polygon de ee"
   ]
  },
  {
   "cell_type": "code",
   "execution_count": 71,
   "id": "c4f9ac10-b6bb-45d6-b43b-2d8989fb99a3",
   "metadata": {},
   "outputs": [
    {
     "data": {
      "text/html": [
       "\n",
       "            <style>\n",
       "                .geemap-dark {\n",
       "                    --jp-widgets-color: white;\n",
       "                    --jp-widgets-label-color: white;\n",
       "                    --jp-ui-font-color1: white;\n",
       "                    --jp-layout-color2: #454545;\n",
       "                    background-color: #383838;\n",
       "                }\n",
       "\n",
       "                .geemap-dark .jupyter-button {\n",
       "                    --jp-layout-color3: #383838;\n",
       "                }\n",
       "\n",
       "                .geemap-colab {\n",
       "                    background-color: var(--colab-primary-surface-color, white);\n",
       "                }\n",
       "\n",
       "                .geemap-colab .jupyter-button {\n",
       "                    --jp-layout-color3: var(--colab-primary-surface-color, white);\n",
       "                }\n",
       "            </style>\n",
       "            "
      ],
      "text/plain": [
       "<IPython.core.display.HTML object>"
      ]
     },
     "metadata": {},
     "output_type": "display_data"
    }
   ],
   "source": [
    "values_position = [ee.Geometry.Polygon(a) for a in rectangles.values()]"
   ]
  },
  {
   "cell_type": "code",
   "execution_count": 72,
   "id": "e3f6949b-9030-4a21-be64-3b503e24db8e",
   "metadata": {
    "scrolled": true
   },
   "outputs": [
    {
     "data": {
      "text/html": [
       "\n",
       "            <style>\n",
       "                .geemap-dark {\n",
       "                    --jp-widgets-color: white;\n",
       "                    --jp-widgets-label-color: white;\n",
       "                    --jp-ui-font-color1: white;\n",
       "                    --jp-layout-color2: #454545;\n",
       "                    background-color: #383838;\n",
       "                }\n",
       "\n",
       "                .geemap-dark .jupyter-button {\n",
       "                    --jp-layout-color3: #383838;\n",
       "                }\n",
       "\n",
       "                .geemap-colab {\n",
       "                    background-color: var(--colab-primary-surface-color, white);\n",
       "                }\n",
       "\n",
       "                .geemap-colab .jupyter-button {\n",
       "                    --jp-layout-color3: var(--colab-primary-surface-color, white);\n",
       "                }\n",
       "            </style>\n",
       "            "
      ],
      "text/plain": [
       "<IPython.core.display.HTML object>"
      ]
     },
     "metadata": {},
     "output_type": "display_data"
    }
   ],
   "source": [
    "visualization = {\n",
    "    'min': 0.0,\n",
    "    'max': 65000,\n",
    "    'bands': ['B4', 'B3', 'B2'],\n",
    "}"
   ]
  },
  {
   "cell_type": "code",
   "execution_count": 73,
   "id": "c27a934e-6bc3-471f-864e-2e409f026597",
   "metadata": {},
   "outputs": [
    {
     "data": {
      "text/html": [
       "\n",
       "            <style>\n",
       "                .geemap-dark {\n",
       "                    --jp-widgets-color: white;\n",
       "                    --jp-widgets-label-color: white;\n",
       "                    --jp-ui-font-color1: white;\n",
       "                    --jp-layout-color2: #454545;\n",
       "                    background-color: #383838;\n",
       "                }\n",
       "\n",
       "                .geemap-dark .jupyter-button {\n",
       "                    --jp-layout-color3: #383838;\n",
       "                }\n",
       "\n",
       "                .geemap-colab {\n",
       "                    background-color: var(--colab-primary-surface-color, white);\n",
       "                }\n",
       "\n",
       "                .geemap-colab .jupyter-button {\n",
       "                    --jp-layout-color3: var(--colab-primary-surface-color, white);\n",
       "                }\n",
       "            </style>\n",
       "            "
      ],
      "text/plain": [
       "<IPython.core.display.HTML object>"
      ]
     },
     "metadata": {},
     "output_type": "display_data"
    }
   ],
   "source": [
    "pos = '2'"
   ]
  },
  {
   "cell_type": "code",
   "execution_count": 74,
   "id": "147c1250-a80f-4dbd-a1d7-de53c1a44475",
   "metadata": {},
   "outputs": [
    {
     "data": {
      "text/html": [
       "\n",
       "            <style>\n",
       "                .geemap-dark {\n",
       "                    --jp-widgets-color: white;\n",
       "                    --jp-widgets-label-color: white;\n",
       "                    --jp-ui-font-color1: white;\n",
       "                    --jp-layout-color2: #454545;\n",
       "                    background-color: #383838;\n",
       "                }\n",
       "\n",
       "                .geemap-dark .jupyter-button {\n",
       "                    --jp-layout-color3: #383838;\n",
       "                }\n",
       "\n",
       "                .geemap-colab {\n",
       "                    background-color: var(--colab-primary-surface-color, white);\n",
       "                }\n",
       "\n",
       "                .geemap-colab .jupyter-button {\n",
       "                    --jp-layout-color3: var(--colab-primary-surface-color, white);\n",
       "                }\n",
       "            </style>\n",
       "            "
      ],
      "text/plain": [
       "<IPython.core.display.HTML object>"
      ]
     },
     "metadata": {},
     "output_type": "display_data"
    }
   ],
   "source": [
    "data_verano = [(f'{a}-12-01', f'{a+1}-04-30') for a in range(2013, 2024)]"
   ]
  },
  {
   "cell_type": "markdown",
   "id": "b9e04119-1b95-4e4e-a337-94ee1cc3a9a1",
   "metadata": {},
   "source": [
    "### Funciones para extraer las collections de las fechas de verano desde el 2013 hasta el 2024"
   ]
  },
  {
   "cell_type": "code",
   "execution_count": 75,
   "id": "493525ca-c89e-43d2-9440-ce4dccf9d423",
   "metadata": {},
   "outputs": [
    {
     "data": {
      "text/html": [
       "\n",
       "            <style>\n",
       "                .geemap-dark {\n",
       "                    --jp-widgets-color: white;\n",
       "                    --jp-widgets-label-color: white;\n",
       "                    --jp-ui-font-color1: white;\n",
       "                    --jp-layout-color2: #454545;\n",
       "                    background-color: #383838;\n",
       "                }\n",
       "\n",
       "                .geemap-dark .jupyter-button {\n",
       "                    --jp-layout-color3: #383838;\n",
       "                }\n",
       "\n",
       "                .geemap-colab {\n",
       "                    background-color: var(--colab-primary-surface-color, white);\n",
       "                }\n",
       "\n",
       "                .geemap-colab .jupyter-button {\n",
       "                    --jp-layout-color3: var(--colab-primary-surface-color, white);\n",
       "                }\n",
       "            </style>\n",
       "            "
      ],
      "text/plain": [
       "<IPython.core.display.HTML object>"
      ]
     },
     "metadata": {},
     "output_type": "display_data"
    }
   ],
   "source": [
    "def extract_images_for_year_landsatT1_verano(extract, aoi_glaciar):\n",
    "\n",
    "    dataset_dict = {}\n",
    "    \n",
    "    for pos in range(len(extract)):\n",
    "        dataset = ee.ImageCollection(\"LANDSAT/LC08/C02/T1\").filterDate(extract[pos][0], extract[pos][1]).filter(ee.Filter.lt('CLOUD_COVER', 10)).filterBounds(aoi_glaciar)\n",
    "        dataset = dataset.map(calculate_ndsi_pure)\n",
    "        dataset = dataset.map(calculate_ndvi)\n",
    "        dataset = dataset.map(calculate_ndwi_pure)\n",
    "        dataset = dataset.map(add_band_B8_B6)\n",
    "        \n",
    "        \n",
    "        dataset_dict[extract[pos][1][:4]] = dataset\n",
    " \n",
    "    return dataset_dict\n",
    "\n",
    "def make_visual_verano(collection_years, aoi_glaciar, extract):\n",
    "\n",
    "    views_dict = {}\n",
    "\n",
    "    for pos in range(len(extract)):\n",
    "        views = []\n",
    "\n",
    "        collection = collection_years[extract[pos][1][:4]]\n",
    "\n",
    "        image_f = collection.first().clip(aoi_glaciar)\n",
    "        \n",
    "        image = collection.median().clip(aoi_glaciar)\n",
    "\n",
    "        toa_reflectance = calculate_toa_reflectance(image, image_f)\n",
    "        brightness_temp = calculate_brightness_temperature(image)\n",
    "        image_with_ndsi = calculate_ndsi(toa_reflectance)\n",
    "        image_with_ndvi = calculate_ndvi(image_with_ndsi)\n",
    "        image_with_ndgi = calculate_ndgi(toa_reflectance)\n",
    "        image_with_ndwi = calculate_ndwi(toa_reflectance)\n",
    "\n",
    "        views.append(toa_reflectance)\n",
    "        views.append(brightness_temp)\n",
    "        views.append(image_with_ndsi)\n",
    "        views.append(image_with_ndvi)\n",
    "        views.append(image_with_ndgi)\n",
    "        views.append(image_with_ndwi)\n",
    "        \n",
    "        \n",
    "        views_dict[extract[pos][1][:4]] = views\n",
    "\n",
    "    return views_dict\n",
    "    "
   ]
  },
  {
   "cell_type": "code",
   "execution_count": 76,
   "id": "9cb16f87-69e8-4881-910f-7026b3796881",
   "metadata": {},
   "outputs": [
    {
     "data": {
      "text/html": [
       "\n",
       "            <style>\n",
       "                .geemap-dark {\n",
       "                    --jp-widgets-color: white;\n",
       "                    --jp-widgets-label-color: white;\n",
       "                    --jp-ui-font-color1: white;\n",
       "                    --jp-layout-color2: #454545;\n",
       "                    background-color: #383838;\n",
       "                }\n",
       "\n",
       "                .geemap-dark .jupyter-button {\n",
       "                    --jp-layout-color3: #383838;\n",
       "                }\n",
       "\n",
       "                .geemap-colab {\n",
       "                    background-color: var(--colab-primary-surface-color, white);\n",
       "                }\n",
       "\n",
       "                .geemap-colab .jupyter-button {\n",
       "                    --jp-layout-color3: var(--colab-primary-surface-color, white);\n",
       "                }\n",
       "            </style>\n",
       "            "
      ],
      "text/plain": [
       "<IPython.core.display.HTML object>"
      ]
     },
     "metadata": {},
     "output_type": "display_data"
    }
   ],
   "source": [
    "test_collection = {}\n",
    "test_visuals = {}\n",
    "\n",
    "for value in range(len(values_position)):\n",
    "    test_collection[value] = extract_images_for_year_landsatT1_verano(data_verano, values_position[value])\n",
    "    test_visuals[value] = make_visual_verano(test_collection[value], values_position[value], data_verano)\n"
   ]
  },
  {
   "cell_type": "code",
   "execution_count": 77,
   "id": "98f0b44f-2049-4108-8089-6c09e2407987",
   "metadata": {},
   "outputs": [
    {
     "data": {
      "text/html": [
       "\n",
       "            <style>\n",
       "                .geemap-dark {\n",
       "                    --jp-widgets-color: white;\n",
       "                    --jp-widgets-label-color: white;\n",
       "                    --jp-ui-font-color1: white;\n",
       "                    --jp-layout-color2: #454545;\n",
       "                    background-color: #383838;\n",
       "                }\n",
       "\n",
       "                .geemap-dark .jupyter-button {\n",
       "                    --jp-layout-color3: #383838;\n",
       "                }\n",
       "\n",
       "                .geemap-colab {\n",
       "                    background-color: var(--colab-primary-surface-color, white);\n",
       "                }\n",
       "\n",
       "                .geemap-colab .jupyter-button {\n",
       "                    --jp-layout-color3: var(--colab-primary-surface-color, white);\n",
       "                }\n",
       "            </style>\n",
       "            "
      ],
      "text/plain": [
       "<IPython.core.display.HTML object>"
      ]
     },
     "metadata": {},
     "output_type": "display_data"
    },
    {
     "data": {
      "application/vnd.jupyter.widget-view+json": {
       "model_id": "c2ff799a87af488f8bb69367596ac14b",
       "version_major": 2,
       "version_minor": 0
      },
      "text/plain": [
       "Map(center=[-34.81807, -70.33225], controls=(WidgetControl(options=['position', 'transparent_bg'], widget=Sear…"
      ]
     },
     "execution_count": 77,
     "metadata": {},
     "output_type": "execute_result"
    }
   ],
   "source": [
    "m2 = geemap.Map()\n",
    "m2.set_center(testing_locations[pos][1], testing_locations[pos][0], 12)\n",
    "m2.add_layer(test_collection[1]['2019'].median().clip(values_position[1]), visualization, 'TrueColor')\n",
    "m2"
   ]
  },
  {
   "cell_type": "markdown",
   "id": "0f577383-ce86-4061-904b-bc26b7526bb8",
   "metadata": {},
   "source": [
    "### Calculo de las bandas extras"
   ]
  },
  {
   "cell_type": "code",
   "execution_count": 78,
   "id": "22733342-54f9-4ca3-b2a0-757d9df4572b",
   "metadata": {},
   "outputs": [
    {
     "data": {
      "text/html": [
       "\n",
       "            <style>\n",
       "                .geemap-dark {\n",
       "                    --jp-widgets-color: white;\n",
       "                    --jp-widgets-label-color: white;\n",
       "                    --jp-ui-font-color1: white;\n",
       "                    --jp-layout-color2: #454545;\n",
       "                    background-color: #383838;\n",
       "                }\n",
       "\n",
       "                .geemap-dark .jupyter-button {\n",
       "                    --jp-layout-color3: #383838;\n",
       "                }\n",
       "\n",
       "                .geemap-colab {\n",
       "                    background-color: var(--colab-primary-surface-color, white);\n",
       "                }\n",
       "\n",
       "                .geemap-colab .jupyter-button {\n",
       "                    --jp-layout-color3: var(--colab-primary-surface-color, white);\n",
       "                }\n",
       "            </style>\n",
       "            "
      ],
      "text/plain": [
       "<IPython.core.display.HTML object>"
      ]
     },
     "metadata": {},
     "output_type": "display_data"
    }
   ],
   "source": [
    "for value in range(len(values_position)):\n",
    "    for year in data_verano:\n",
    "        year = year[1]\n",
    "        if year[:4] == '2024':\n",
    "            continue\n",
    "        else:\n",
    "            test_collection[value][year[:4]] = test_collection[value][year[:4]].map(add_band_B8_B6)\n",
    "            test_collection[value][year[:4]] = test_collection[value][year[:4]].map(calculate_ndsi_pure)\n",
    "            test_collection[value][year[:4]] = test_collection[value][year[:4]].map(calculate_ndvi)\n",
    "            test_collection[value][year[:4]] = test_collection[value][year[:4]].map(calculate_ndwi_pure)"
   ]
  },
  {
   "cell_type": "markdown",
   "id": "c0deceb1-0a08-4cc0-924b-6ac316279bc8",
   "metadata": {},
   "source": [
    "### Clipeamos las medias de las colecciones de imagenes a nuestro rectangulo de observacion y se le filtran las bandas, dejando solo aquellas que se usaran"
   ]
  },
  {
   "cell_type": "code",
   "execution_count": 79,
   "id": "640f3b28-528e-43c1-a89f-ab00c021dd00",
   "metadata": {},
   "outputs": [
    {
     "data": {
      "text/html": [
       "\n",
       "            <style>\n",
       "                .geemap-dark {\n",
       "                    --jp-widgets-color: white;\n",
       "                    --jp-widgets-label-color: white;\n",
       "                    --jp-ui-font-color1: white;\n",
       "                    --jp-layout-color2: #454545;\n",
       "                    background-color: #383838;\n",
       "                }\n",
       "\n",
       "                .geemap-dark .jupyter-button {\n",
       "                    --jp-layout-color3: #383838;\n",
       "                }\n",
       "\n",
       "                .geemap-colab {\n",
       "                    background-color: var(--colab-primary-surface-color, white);\n",
       "                }\n",
       "\n",
       "                .geemap-colab .jupyter-button {\n",
       "                    --jp-layout-color3: var(--colab-primary-surface-color, white);\n",
       "                }\n",
       "            </style>\n",
       "            "
      ],
      "text/plain": [
       "<IPython.core.display.HTML object>"
      ]
     },
     "metadata": {},
     "output_type": "display_data"
    }
   ],
   "source": [
    "clipped_images = {}\n",
    "\n",
    "for value in range(len(values_position)):\n",
    "    clipped_images[f'{value}'] = {} \n",
    "    for year in data_verano:\n",
    "        year = year[1]\n",
    "        if year[:4] == '2024':\n",
    "            continue\n",
    "        else:\n",
    "            cliped_image = test_collection[value][year[:4]].median().clip(values_position[value]).select('B1', 'B10', 'B11', 'B2', 'B3', 'B4', 'B5', 'B6', 'B7', 'B8', 'B9', 'B8/B6', 'NDSI', 'NDVI'),  \n",
    "            clipped_images[f'{value}'][year[:4]] = cliped_image"
   ]
  },
  {
   "cell_type": "markdown",
   "id": "8c23e5cc-4474-4db3-aa9b-3051023c0054",
   "metadata": {},
   "source": [
    "### Aplicacion del algoritmo SNIC"
   ]
  },
  {
   "cell_type": "code",
   "execution_count": 80,
   "id": "958aec4a-f9b2-477e-92a9-f6008eacabf0",
   "metadata": {},
   "outputs": [
    {
     "data": {
      "text/html": [
       "\n",
       "            <style>\n",
       "                .geemap-dark {\n",
       "                    --jp-widgets-color: white;\n",
       "                    --jp-widgets-label-color: white;\n",
       "                    --jp-ui-font-color1: white;\n",
       "                    --jp-layout-color2: #454545;\n",
       "                    background-color: #383838;\n",
       "                }\n",
       "\n",
       "                .geemap-dark .jupyter-button {\n",
       "                    --jp-layout-color3: #383838;\n",
       "                }\n",
       "\n",
       "                .geemap-colab {\n",
       "                    background-color: var(--colab-primary-surface-color, white);\n",
       "                }\n",
       "\n",
       "                .geemap-colab .jupyter-button {\n",
       "                    --jp-layout-color3: var(--colab-primary-surface-color, white);\n",
       "                }\n",
       "            </style>\n",
       "            "
      ],
      "text/plain": [
       "<IPython.core.display.HTML object>"
      ]
     },
     "metadata": {},
     "output_type": "display_data"
    }
   ],
   "source": [
    "clipped_image_snic = {}\n",
    "\n",
    "for value in range(len(values_position)):\n",
    "    clipped_image_snic[f'{value}'] = {} \n",
    "    for year in data_verano:\n",
    "        year = year[1]\n",
    "        if year[:4] == '2024':\n",
    "            continue\n",
    "        else:\n",
    "            snic = ee.Algorithms.Image.Segmentation.SNIC(image=clipped_images[f'{value}'][year[:4]],size=30,compactness=0.1,connectivity=4);\n",
    "            clipped_image_snic[f'{value}'][year[:4]] = snic"
   ]
  },
  {
   "cell_type": "markdown",
   "id": "95b0a780-3e73-4aa9-a4f7-f35e741d16c3",
   "metadata": {},
   "source": [
    "### Extraccion de los clusters de las imagenes SNIC"
   ]
  },
  {
   "cell_type": "code",
   "execution_count": 81,
   "id": "7596aac9-4a53-4c9e-8e8e-6997fd3819aa",
   "metadata": {},
   "outputs": [
    {
     "data": {
      "text/html": [
       "\n",
       "            <style>\n",
       "                .geemap-dark {\n",
       "                    --jp-widgets-color: white;\n",
       "                    --jp-widgets-label-color: white;\n",
       "                    --jp-ui-font-color1: white;\n",
       "                    --jp-layout-color2: #454545;\n",
       "                    background-color: #383838;\n",
       "                }\n",
       "\n",
       "                .geemap-dark .jupyter-button {\n",
       "                    --jp-layout-color3: #383838;\n",
       "                }\n",
       "\n",
       "                .geemap-colab {\n",
       "                    background-color: var(--colab-primary-surface-color, white);\n",
       "                }\n",
       "\n",
       "                .geemap-colab .jupyter-button {\n",
       "                    --jp-layout-color3: var(--colab-primary-surface-color, white);\n",
       "                }\n",
       "            </style>\n",
       "            "
      ],
      "text/plain": [
       "<IPython.core.display.HTML object>"
      ]
     },
     "metadata": {},
     "output_type": "display_data"
    }
   ],
   "source": [
    "fc_images = {}\n",
    "\n",
    "for value in range(len(values_position)):\n",
    "    fc_images[f'{value}'] = {} \n",
    "    for year in data_verano:\n",
    "        year = year[1]\n",
    "        if year[:4] == '2024':\n",
    "            continue\n",
    "        else:\n",
    "            clusters = clipped_image_snic[f'{value}'][year[:4]].select('clusters')\n",
    "            fc_images[f'{value}'][year[:4]] = clusters.reduceToVectors(geometry=values_position[value],eightConnected=True,scale=30)\n"
   ]
  },
  {
   "cell_type": "markdown",
   "id": "84d186f2-1b30-4930-b9dc-e1f28cc38602",
   "metadata": {},
   "source": [
    "### Transformamos los datos del 'fc_images' a un gdf"
   ]
  },
  {
   "cell_type": "code",
   "execution_count": 82,
   "id": "94d6ece8-83e0-473a-ba2e-cdbaca181bb5",
   "metadata": {},
   "outputs": [
    {
     "data": {
      "text/html": [
       "\n",
       "            <style>\n",
       "                .geemap-dark {\n",
       "                    --jp-widgets-color: white;\n",
       "                    --jp-widgets-label-color: white;\n",
       "                    --jp-ui-font-color1: white;\n",
       "                    --jp-layout-color2: #454545;\n",
       "                    background-color: #383838;\n",
       "                }\n",
       "\n",
       "                .geemap-dark .jupyter-button {\n",
       "                    --jp-layout-color3: #383838;\n",
       "                }\n",
       "\n",
       "                .geemap-colab {\n",
       "                    background-color: var(--colab-primary-surface-color, white);\n",
       "                }\n",
       "\n",
       "                .geemap-colab .jupyter-button {\n",
       "                    --jp-layout-color3: var(--colab-primary-surface-color, white);\n",
       "                }\n",
       "            </style>\n",
       "            "
      ],
      "text/plain": [
       "<IPython.core.display.HTML object>"
      ]
     },
     "metadata": {},
     "output_type": "display_data"
    }
   ],
   "source": [
    "data = {}\n",
    "\n",
    "for value in range(len(values_position)):\n",
    "    data[f'{value}'] = {} \n",
    "    for year in data_verano:\n",
    "        year = year[1]\n",
    "        if year[:4] == '2024':\n",
    "            continue\n",
    "        else:\n",
    "            gdf = geemap.ee_to_gdf(fc_images[f'{value}'][year[:4]])\n",
    "            data[f'{value}'][year[:4]] = gdf.set_crs(crs=4326) #definir el crs "
   ]
  },
  {
   "cell_type": "markdown",
   "id": "b33827b1-2f5b-4374-9a7e-2de595a17d7a",
   "metadata": {},
   "source": [
    "### Extraemos la informacion de las imagenes medianas de las 'test_collection', para rellenar la informacion de los clusters. "
   ]
  },
  {
   "cell_type": "code",
   "execution_count": 83,
   "id": "8b1a696e-3081-4afc-a918-28c7120b0929",
   "metadata": {
    "scrolled": true
   },
   "outputs": [
    {
     "data": {
      "text/html": [
       "\n",
       "            <style>\n",
       "                .geemap-dark {\n",
       "                    --jp-widgets-color: white;\n",
       "                    --jp-widgets-label-color: white;\n",
       "                    --jp-ui-font-color1: white;\n",
       "                    --jp-layout-color2: #454545;\n",
       "                    background-color: #383838;\n",
       "                }\n",
       "\n",
       "                .geemap-dark .jupyter-button {\n",
       "                    --jp-layout-color3: #383838;\n",
       "                }\n",
       "\n",
       "                .geemap-colab {\n",
       "                    background-color: var(--colab-primary-surface-color, white);\n",
       "                }\n",
       "\n",
       "                .geemap-colab .jupyter-button {\n",
       "                    --jp-layout-color3: var(--colab-primary-surface-color, white);\n",
       "                }\n",
       "            </style>\n",
       "            "
      ],
      "text/plain": [
       "<IPython.core.display.HTML object>"
      ]
     },
     "metadata": {},
     "output_type": "display_data"
    },
    {
     "name": "stdout",
     "output_type": "stream",
     "text": [
      "Computing statistics ...\n",
      "Generating URL ...\n",
      "Downloading data from https://earthengine.googleapis.com/v1/projects/earthengine-legacy/tables/db03eda52edb8b14829b120cdb1e9b68-7fe5cbd73224f273231df7f8c25addc5:getFeatures\n",
      "Please wait ...\n",
      "Data downloaded to C:\\Users\\snmar\\Geoespacial\\Proyecto\\Proyecto-GeoEspacial\\Entrega 1\\stats_mean.csv\n",
      "Computing statistics ...\n",
      "Generating URL ...\n",
      "Downloading data from https://earthengine.googleapis.com/v1/projects/earthengine-legacy/tables/d48c6a402e5e10ef70da8c7f0cbaae08-a11b1b152a58b164d190ce69e68c0199:getFeatures\n",
      "Please wait ...\n",
      "Data downloaded to C:\\Users\\snmar\\Geoespacial\\Proyecto\\Proyecto-GeoEspacial\\Entrega 1\\stats_stdDev.csv\n",
      "Computing statistics ...\n",
      "Generating URL ...\n",
      "Downloading data from https://earthengine.googleapis.com/v1/projects/earthengine-legacy/tables/052a1c5da7ef8f0fa8bca74e8ac48e76-307705a180014c6566eda7a78331c458:getFeatures\n",
      "Please wait ...\n",
      "Data downloaded to C:\\Users\\snmar\\Geoespacial\\Proyecto\\Proyecto-GeoEspacial\\Entrega 1\\stats_mean.csv\n",
      "Computing statistics ...\n",
      "Generating URL ...\n",
      "Downloading data from https://earthengine.googleapis.com/v1/projects/earthengine-legacy/tables/8e754ca7849297b891ca801c4cad351f-abf2e3c2eefef22c909b4feb8e3bcda8:getFeatures\n",
      "Please wait ...\n",
      "Data downloaded to C:\\Users\\snmar\\Geoespacial\\Proyecto\\Proyecto-GeoEspacial\\Entrega 1\\stats_stdDev.csv\n",
      "Computing statistics ...\n",
      "Generating URL ...\n",
      "Downloading data from https://earthengine.googleapis.com/v1/projects/earthengine-legacy/tables/e691d0bfa28a0d3c9d22d6fd2312f730-582bbe0481a829a55bd9dc1f8152d486:getFeatures\n",
      "Please wait ...\n",
      "Data downloaded to C:\\Users\\snmar\\Geoespacial\\Proyecto\\Proyecto-GeoEspacial\\Entrega 1\\stats_mean.csv\n",
      "Computing statistics ...\n",
      "Generating URL ...\n",
      "Downloading data from https://earthengine.googleapis.com/v1/projects/earthengine-legacy/tables/7fe20ec0194dde4f411063992e3fc9d0-7c51fef069acea4b823911262dbc4256:getFeatures\n",
      "Please wait ...\n",
      "Data downloaded to C:\\Users\\snmar\\Geoespacial\\Proyecto\\Proyecto-GeoEspacial\\Entrega 1\\stats_stdDev.csv\n",
      "Computing statistics ...\n",
      "Generating URL ...\n",
      "Downloading data from https://earthengine.googleapis.com/v1/projects/earthengine-legacy/tables/034cd4312dffc07194047af6729a3492-343a5d65fce4b1ea6d115388b44de876:getFeatures\n",
      "Please wait ...\n",
      "Data downloaded to C:\\Users\\snmar\\Geoespacial\\Proyecto\\Proyecto-GeoEspacial\\Entrega 1\\stats_mean.csv\n",
      "Computing statistics ...\n",
      "Generating URL ...\n",
      "Downloading data from https://earthengine.googleapis.com/v1/projects/earthengine-legacy/tables/8eed879ac1217be35c3d440010c9ab2e-593c7ea4cb6c61b45c2f74c0ced0092d:getFeatures\n",
      "Please wait ...\n",
      "Data downloaded to C:\\Users\\snmar\\Geoespacial\\Proyecto\\Proyecto-GeoEspacial\\Entrega 1\\stats_stdDev.csv\n",
      "Computing statistics ...\n",
      "Generating URL ...\n",
      "Downloading data from https://earthengine.googleapis.com/v1/projects/earthengine-legacy/tables/92c80d8d174fcef44f66d0d8fcc0abcc-e2a0b7c67b957abe7cb5afa6e2fd3419:getFeatures\n",
      "Please wait ...\n",
      "Data downloaded to C:\\Users\\snmar\\Geoespacial\\Proyecto\\Proyecto-GeoEspacial\\Entrega 1\\stats_mean.csv\n",
      "Computing statistics ...\n",
      "Generating URL ...\n",
      "Downloading data from https://earthengine.googleapis.com/v1/projects/earthengine-legacy/tables/d88efa9e20efdec1da95f8865eeeed81-df42ec90b6aae565cc82e2d4e0095ab1:getFeatures\n",
      "Please wait ...\n",
      "Data downloaded to C:\\Users\\snmar\\Geoespacial\\Proyecto\\Proyecto-GeoEspacial\\Entrega 1\\stats_stdDev.csv\n",
      "Computing statistics ...\n",
      "Generating URL ...\n",
      "Downloading data from https://earthengine.googleapis.com/v1/projects/earthengine-legacy/tables/fb8407d6da62bd5a0a862f807477a99f-5b4485761c4337b3de4421e3f80dfb24:getFeatures\n",
      "Please wait ...\n",
      "Data downloaded to C:\\Users\\snmar\\Geoespacial\\Proyecto\\Proyecto-GeoEspacial\\Entrega 1\\stats_mean.csv\n",
      "Computing statistics ...\n",
      "Generating URL ...\n",
      "Downloading data from https://earthengine.googleapis.com/v1/projects/earthengine-legacy/tables/f52b99d730f726a5b5b976cd9886be0a-8530ad6a6adc1cdda620cb77483beb1a:getFeatures\n",
      "Please wait ...\n",
      "Data downloaded to C:\\Users\\snmar\\Geoespacial\\Proyecto\\Proyecto-GeoEspacial\\Entrega 1\\stats_stdDev.csv\n",
      "Computing statistics ...\n",
      "Generating URL ...\n",
      "Downloading data from https://earthengine.googleapis.com/v1/projects/earthengine-legacy/tables/623f2a6e69c28a404e1d05ffc20980a2-615043da1d3970e16fb8705be5714b4c:getFeatures\n",
      "Please wait ...\n",
      "Data downloaded to C:\\Users\\snmar\\Geoespacial\\Proyecto\\Proyecto-GeoEspacial\\Entrega 1\\stats_mean.csv\n",
      "Computing statistics ...\n",
      "Generating URL ...\n",
      "Downloading data from https://earthengine.googleapis.com/v1/projects/earthengine-legacy/tables/bff62ee3bc9d57ef5ab887504d49b214-66da13183c67ae01f61c91efbc54a75a:getFeatures\n",
      "Please wait ...\n",
      "Data downloaded to C:\\Users\\snmar\\Geoespacial\\Proyecto\\Proyecto-GeoEspacial\\Entrega 1\\stats_stdDev.csv\n",
      "Computing statistics ...\n",
      "Generating URL ...\n",
      "Downloading data from https://earthengine.googleapis.com/v1/projects/earthengine-legacy/tables/8d2355ef53d599007b8818c67e03598f-7c2cf48d65777406a8585bcf767ad642:getFeatures\n",
      "Please wait ...\n",
      "Data downloaded to C:\\Users\\snmar\\Geoespacial\\Proyecto\\Proyecto-GeoEspacial\\Entrega 1\\stats_mean.csv\n",
      "Computing statistics ...\n",
      "Generating URL ...\n",
      "Downloading data from https://earthengine.googleapis.com/v1/projects/earthengine-legacy/tables/4f63848208812f75df1a424fae25f4dd-1eb85a76b28a2716a5b77cdf40c480ed:getFeatures\n",
      "Please wait ...\n",
      "Data downloaded to C:\\Users\\snmar\\Geoespacial\\Proyecto\\Proyecto-GeoEspacial\\Entrega 1\\stats_stdDev.csv\n",
      "Computing statistics ...\n",
      "Generating URL ...\n",
      "Downloading data from https://earthengine.googleapis.com/v1/projects/earthengine-legacy/tables/3a400357e1334d09dc41ff02ff03243c-c2e7a824790c77e44452f280d007557e:getFeatures\n",
      "Please wait ...\n",
      "Data downloaded to C:\\Users\\snmar\\Geoespacial\\Proyecto\\Proyecto-GeoEspacial\\Entrega 1\\stats_mean.csv\n",
      "Computing statistics ...\n",
      "Generating URL ...\n",
      "Downloading data from https://earthengine.googleapis.com/v1/projects/earthengine-legacy/tables/e3f8587d80c3bbed64af42d36727eb30-279f0f2007eb7f9f72daf99324d6947d:getFeatures\n",
      "Please wait ...\n",
      "Data downloaded to C:\\Users\\snmar\\Geoespacial\\Proyecto\\Proyecto-GeoEspacial\\Entrega 1\\stats_stdDev.csv\n",
      "Computing statistics ...\n",
      "Generating URL ...\n",
      "Downloading data from https://earthengine.googleapis.com/v1/projects/earthengine-legacy/tables/55e3cbe2aaf9b9e362ba58f63d825aa0-98d65f2de9163b1883ccce0307404977:getFeatures\n",
      "Please wait ...\n",
      "Data downloaded to C:\\Users\\snmar\\Geoespacial\\Proyecto\\Proyecto-GeoEspacial\\Entrega 1\\stats_mean.csv\n",
      "Computing statistics ...\n",
      "Generating URL ...\n",
      "Downloading data from https://earthengine.googleapis.com/v1/projects/earthengine-legacy/tables/63c7f35ef705d077c9009b47c1444ed9-019670644423120ae36f44a4aaaf3923:getFeatures\n",
      "Please wait ...\n",
      "Data downloaded to C:\\Users\\snmar\\Geoespacial\\Proyecto\\Proyecto-GeoEspacial\\Entrega 1\\stats_stdDev.csv\n",
      "Computing statistics ...\n",
      "Generating URL ...\n",
      "Downloading data from https://earthengine.googleapis.com/v1/projects/earthengine-legacy/tables/500e1705967306a7e5fa4ca54ae074f9-df4cd0e8ff31526b42a1b654d185cdb9:getFeatures\n",
      "Please wait ...\n",
      "Data downloaded to C:\\Users\\snmar\\Geoespacial\\Proyecto\\Proyecto-GeoEspacial\\Entrega 1\\stats_mean.csv\n",
      "Computing statistics ...\n",
      "Generating URL ...\n",
      "Downloading data from https://earthengine.googleapis.com/v1/projects/earthengine-legacy/tables/f323aeda95e048258d2971bc89df5bdd-d9d7eab58727ebe4821b8ec61689e480:getFeatures\n",
      "Please wait ...\n",
      "Data downloaded to C:\\Users\\snmar\\Geoespacial\\Proyecto\\Proyecto-GeoEspacial\\Entrega 1\\stats_stdDev.csv\n",
      "Computing statistics ...\n",
      "Generating URL ...\n",
      "Downloading data from https://earthengine.googleapis.com/v1/projects/earthengine-legacy/tables/f99b99eccb8ef1593548001b4ee6e8cf-f311927753d7877fc00c50b41dc8b029:getFeatures\n",
      "Please wait ...\n",
      "Data downloaded to C:\\Users\\snmar\\Geoespacial\\Proyecto\\Proyecto-GeoEspacial\\Entrega 1\\stats_mean.csv\n",
      "Computing statistics ...\n",
      "Generating URL ...\n",
      "Downloading data from https://earthengine.googleapis.com/v1/projects/earthengine-legacy/tables/e936aacf580973ecb13986a529cc1326-46bbf514fe08ee796060c9485be031ad:getFeatures\n",
      "Please wait ...\n",
      "Data downloaded to C:\\Users\\snmar\\Geoespacial\\Proyecto\\Proyecto-GeoEspacial\\Entrega 1\\stats_stdDev.csv\n",
      "Computing statistics ...\n",
      "Generating URL ...\n",
      "Downloading data from https://earthengine.googleapis.com/v1/projects/earthengine-legacy/tables/8147a0cf6bc503a07e4eba8a8eebb73b-e313b2fcce5e04fe00d0ba3f6eed83b1:getFeatures\n",
      "Please wait ...\n",
      "Data downloaded to C:\\Users\\snmar\\Geoespacial\\Proyecto\\Proyecto-GeoEspacial\\Entrega 1\\stats_mean.csv\n",
      "Computing statistics ...\n",
      "Generating URL ...\n",
      "Downloading data from https://earthengine.googleapis.com/v1/projects/earthengine-legacy/tables/bd7bf0924a2bc4c439dbac25bb46ee4b-19000a6023d6b6b05b75d5a411e7e089:getFeatures\n",
      "Please wait ...\n",
      "Data downloaded to C:\\Users\\snmar\\Geoespacial\\Proyecto\\Proyecto-GeoEspacial\\Entrega 1\\stats_stdDev.csv\n",
      "Computing statistics ...\n",
      "Generating URL ...\n",
      "Downloading data from https://earthengine.googleapis.com/v1/projects/earthengine-legacy/tables/82a36a55740f7ec713427c133c42f196-ba7c11f9fcc5bc0e63a79a302f61aafa:getFeatures\n",
      "Please wait ...\n",
      "Data downloaded to C:\\Users\\snmar\\Geoespacial\\Proyecto\\Proyecto-GeoEspacial\\Entrega 1\\stats_mean.csv\n",
      "Computing statistics ...\n",
      "Generating URL ...\n",
      "Downloading data from https://earthengine.googleapis.com/v1/projects/earthengine-legacy/tables/13a0adc67f6d19dfb81bcd2768eddfc3-c706f6b715de62fb63e1bb4d960d4704:getFeatures\n",
      "Please wait ...\n",
      "Data downloaded to C:\\Users\\snmar\\Geoespacial\\Proyecto\\Proyecto-GeoEspacial\\Entrega 1\\stats_stdDev.csv\n",
      "Computing statistics ...\n",
      "Generating URL ...\n",
      "Downloading data from https://earthengine.googleapis.com/v1/projects/earthengine-legacy/tables/234097f5c064f89b6833a4a9c033e09d-45c1b58a42f7096898c3117bd77c378d:getFeatures\n",
      "Please wait ...\n",
      "Data downloaded to C:\\Users\\snmar\\Geoespacial\\Proyecto\\Proyecto-GeoEspacial\\Entrega 1\\stats_mean.csv\n",
      "Computing statistics ...\n",
      "Generating URL ...\n",
      "Downloading data from https://earthengine.googleapis.com/v1/projects/earthengine-legacy/tables/e243c7815dd993aae83e1ff5bf013db6-e5ef2e0031731bbf3a5192ab68f2d88b:getFeatures\n",
      "Please wait ...\n",
      "Data downloaded to C:\\Users\\snmar\\Geoespacial\\Proyecto\\Proyecto-GeoEspacial\\Entrega 1\\stats_stdDev.csv\n",
      "Computing statistics ...\n",
      "Generating URL ...\n",
      "Downloading data from https://earthengine.googleapis.com/v1/projects/earthengine-legacy/tables/638e7c339c781fc791da3a75b281e589-67e6619b6b0d64c04e214986c943eed2:getFeatures\n",
      "Please wait ...\n",
      "Data downloaded to C:\\Users\\snmar\\Geoespacial\\Proyecto\\Proyecto-GeoEspacial\\Entrega 1\\stats_mean.csv\n",
      "Computing statistics ...\n",
      "Generating URL ...\n",
      "Downloading data from https://earthengine.googleapis.com/v1/projects/earthengine-legacy/tables/5552e99287365f07784d5263b8c2fdf6-a2e1d7b5760efe93098756b9f5597d3e:getFeatures\n",
      "Please wait ...\n",
      "Data downloaded to C:\\Users\\snmar\\Geoespacial\\Proyecto\\Proyecto-GeoEspacial\\Entrega 1\\stats_stdDev.csv\n",
      "Computing statistics ...\n",
      "Generating URL ...\n",
      "Downloading data from https://earthengine.googleapis.com/v1/projects/earthengine-legacy/tables/2cc410265902d943a38d1a768ed616bd-d61f1f641655d5684baa9166d46bad09:getFeatures\n",
      "Please wait ...\n",
      "Data downloaded to C:\\Users\\snmar\\Geoespacial\\Proyecto\\Proyecto-GeoEspacial\\Entrega 1\\stats_mean.csv\n",
      "Computing statistics ...\n",
      "Generating URL ...\n",
      "Downloading data from https://earthengine.googleapis.com/v1/projects/earthengine-legacy/tables/eadd8ec6b378ea837c34f08b550e677d-33dcd2a5e47a66273f7c0f778942c5b6:getFeatures\n",
      "Please wait ...\n",
      "Data downloaded to C:\\Users\\snmar\\Geoespacial\\Proyecto\\Proyecto-GeoEspacial\\Entrega 1\\stats_stdDev.csv\n",
      "Computing statistics ...\n",
      "Generating URL ...\n",
      "Downloading data from https://earthengine.googleapis.com/v1/projects/earthengine-legacy/tables/ed05ecf3a47027084cd9863ef2ded7f7-99f81a15fd6cbe71c64443b53366ceea:getFeatures\n",
      "Please wait ...\n",
      "Data downloaded to C:\\Users\\snmar\\Geoespacial\\Proyecto\\Proyecto-GeoEspacial\\Entrega 1\\stats_mean.csv\n",
      "Computing statistics ...\n",
      "Generating URL ...\n",
      "Downloading data from https://earthengine.googleapis.com/v1/projects/earthengine-legacy/tables/2d784aa60a12dbee1cd47d580f6f7ab8-8e279c0082ac39805ebc1b14ea3c1cc5:getFeatures\n",
      "Please wait ...\n",
      "Data downloaded to C:\\Users\\snmar\\Geoespacial\\Proyecto\\Proyecto-GeoEspacial\\Entrega 1\\stats_stdDev.csv\n",
      "Computing statistics ...\n",
      "Generating URL ...\n",
      "Downloading data from https://earthengine.googleapis.com/v1/projects/earthengine-legacy/tables/651ec89e394203a881f85da8d83d1813-f6523db3c6666d29cd50d06f13ed44a5:getFeatures\n",
      "Please wait ...\n",
      "Data downloaded to C:\\Users\\snmar\\Geoespacial\\Proyecto\\Proyecto-GeoEspacial\\Entrega 1\\stats_mean.csv\n",
      "Computing statistics ...\n",
      "Generating URL ...\n",
      "Downloading data from https://earthengine.googleapis.com/v1/projects/earthengine-legacy/tables/1745f3cb4f5ddce1c29a9edd24e6d26d-98a58325c9e6898f9c773e043b4ae058:getFeatures\n",
      "Please wait ...\n",
      "Data downloaded to C:\\Users\\snmar\\Geoespacial\\Proyecto\\Proyecto-GeoEspacial\\Entrega 1\\stats_stdDev.csv\n",
      "Computing statistics ...\n",
      "Generating URL ...\n",
      "Downloading data from https://earthengine.googleapis.com/v1/projects/earthengine-legacy/tables/6104f1dbb27e5bf618fd08b78ba0de73-2dca15927b427821a66c4b5759c259a1:getFeatures\n",
      "Please wait ...\n",
      "Data downloaded to C:\\Users\\snmar\\Geoespacial\\Proyecto\\Proyecto-GeoEspacial\\Entrega 1\\stats_mean.csv\n",
      "Computing statistics ...\n",
      "Generating URL ...\n",
      "Downloading data from https://earthengine.googleapis.com/v1/projects/earthengine-legacy/tables/ed18ca29e8870ea8610874c80f00de6d-ceb81938e8eb533138ab0db08905d421:getFeatures\n",
      "Please wait ...\n",
      "Data downloaded to C:\\Users\\snmar\\Geoespacial\\Proyecto\\Proyecto-GeoEspacial\\Entrega 1\\stats_stdDev.csv\n",
      "Computing statistics ...\n",
      "Generating URL ...\n",
      "Downloading data from https://earthengine.googleapis.com/v1/projects/earthengine-legacy/tables/aa905c8240d1f20e59eae5d25748bf57-b7e8f7695159f31dadbd65d99bbe4ab0:getFeatures\n",
      "Please wait ...\n",
      "Data downloaded to C:\\Users\\snmar\\Geoespacial\\Proyecto\\Proyecto-GeoEspacial\\Entrega 1\\stats_mean.csv\n",
      "Computing statistics ...\n",
      "Generating URL ...\n",
      "Downloading data from https://earthengine.googleapis.com/v1/projects/earthengine-legacy/tables/f89f250df0bd64fa51c81a5371854334-ee7a52361cfacef06bcd23817965012c:getFeatures\n",
      "Please wait ...\n",
      "Data downloaded to C:\\Users\\snmar\\Geoespacial\\Proyecto\\Proyecto-GeoEspacial\\Entrega 1\\stats_stdDev.csv\n",
      "Computing statistics ...\n",
      "Generating URL ...\n",
      "Downloading data from https://earthengine.googleapis.com/v1/projects/earthengine-legacy/tables/a2d929dccdefa9289b2b60f4bd9e0173-c9c0eaa8a501e8ca58177ada15bd382b:getFeatures\n",
      "Please wait ...\n",
      "Data downloaded to C:\\Users\\snmar\\Geoespacial\\Proyecto\\Proyecto-GeoEspacial\\Entrega 1\\stats_mean.csv\n",
      "Computing statistics ...\n",
      "Generating URL ...\n",
      "Downloading data from https://earthengine.googleapis.com/v1/projects/earthengine-legacy/tables/2073dfff78681fe1b4caf1b7c1a870af-a6db0ff0c28507dadc0a8a1da80f64ec:getFeatures\n",
      "Please wait ...\n",
      "Data downloaded to C:\\Users\\snmar\\Geoespacial\\Proyecto\\Proyecto-GeoEspacial\\Entrega 1\\stats_stdDev.csv\n",
      "Computing statistics ...\n",
      "Generating URL ...\n",
      "Downloading data from https://earthengine.googleapis.com/v1/projects/earthengine-legacy/tables/2a7883e47bac8515e7a8132aff1b3c0e-4362e3b62759df60f69c87b4bc793aa0:getFeatures\n",
      "Please wait ...\n",
      "Data downloaded to C:\\Users\\snmar\\Geoespacial\\Proyecto\\Proyecto-GeoEspacial\\Entrega 1\\stats_mean.csv\n",
      "Computing statistics ...\n",
      "Generating URL ...\n",
      "Downloading data from https://earthengine.googleapis.com/v1/projects/earthengine-legacy/tables/34f96710c15d3c75e42c7220a22afe16-32854fd652c0fb61ebb7f0a03958357f:getFeatures\n",
      "Please wait ...\n",
      "Data downloaded to C:\\Users\\snmar\\Geoespacial\\Proyecto\\Proyecto-GeoEspacial\\Entrega 1\\stats_stdDev.csv\n",
      "Computing statistics ...\n",
      "Generating URL ...\n",
      "Downloading data from https://earthengine.googleapis.com/v1/projects/earthengine-legacy/tables/fd98e1e94c6135ce8fa620b358582033-f4a9708696084a554dba0aa533df5d60:getFeatures\n",
      "Please wait ...\n",
      "Data downloaded to C:\\Users\\snmar\\Geoespacial\\Proyecto\\Proyecto-GeoEspacial\\Entrega 1\\stats_mean.csv\n",
      "Computing statistics ...\n",
      "Generating URL ...\n",
      "Downloading data from https://earthengine.googleapis.com/v1/projects/earthengine-legacy/tables/c19bfd04f21b5e88b7218e7ab1a226f8-4703911bf287422c8c788daaf0828104:getFeatures\n",
      "Please wait ...\n",
      "Data downloaded to C:\\Users\\snmar\\Geoespacial\\Proyecto\\Proyecto-GeoEspacial\\Entrega 1\\stats_stdDev.csv\n",
      "Computing statistics ...\n",
      "Generating URL ...\n",
      "Downloading data from https://earthengine.googleapis.com/v1/projects/earthengine-legacy/tables/53c741dfb3d46e408f2dc0c84327b67e-b74cfce2e81dbb2ea774543294977dad:getFeatures\n",
      "Please wait ...\n",
      "Data downloaded to C:\\Users\\snmar\\Geoespacial\\Proyecto\\Proyecto-GeoEspacial\\Entrega 1\\stats_mean.csv\n",
      "Computing statistics ...\n",
      "Generating URL ...\n",
      "Downloading data from https://earthengine.googleapis.com/v1/projects/earthengine-legacy/tables/aad09d725bbb6f15d51215d63eaebbcc-be32e20572da98e5d2974f19350e9dae:getFeatures\n",
      "Please wait ...\n",
      "Data downloaded to C:\\Users\\snmar\\Geoespacial\\Proyecto\\Proyecto-GeoEspacial\\Entrega 1\\stats_stdDev.csv\n",
      "Computing statistics ...\n",
      "Generating URL ...\n",
      "Downloading data from https://earthengine.googleapis.com/v1/projects/earthengine-legacy/tables/8f86688482308640e258d9a32a9bcb14-f1ec2ec8a7b117c922008a0072ac9385:getFeatures\n",
      "Please wait ...\n",
      "Data downloaded to C:\\Users\\snmar\\Geoespacial\\Proyecto\\Proyecto-GeoEspacial\\Entrega 1\\stats_mean.csv\n",
      "Computing statistics ...\n",
      "Generating URL ...\n",
      "Downloading data from https://earthengine.googleapis.com/v1/projects/earthengine-legacy/tables/4c63bccd02b6ccd92d993bbfc4ae9bef-b7a2a7d9089663effe24639c6440ccfb:getFeatures\n",
      "Please wait ...\n",
      "Data downloaded to C:\\Users\\snmar\\Geoespacial\\Proyecto\\Proyecto-GeoEspacial\\Entrega 1\\stats_stdDev.csv\n",
      "Computing statistics ...\n",
      "Generating URL ...\n",
      "Downloading data from https://earthengine.googleapis.com/v1/projects/earthengine-legacy/tables/d6bc0fcb4766e9a9070e0e7f7ab4a8fe-a29f029e14733f42195f3439d9d7c6b8:getFeatures\n",
      "Please wait ...\n",
      "Data downloaded to C:\\Users\\snmar\\Geoespacial\\Proyecto\\Proyecto-GeoEspacial\\Entrega 1\\stats_mean.csv\n",
      "Computing statistics ...\n",
      "Generating URL ...\n",
      "Downloading data from https://earthengine.googleapis.com/v1/projects/earthengine-legacy/tables/72ec0e15af0e3e159ee84fa213a3d591-836bb0d2affcb1afa8e4509b177e4ebc:getFeatures\n",
      "Please wait ...\n",
      "Data downloaded to C:\\Users\\snmar\\Geoespacial\\Proyecto\\Proyecto-GeoEspacial\\Entrega 1\\stats_stdDev.csv\n",
      "Computing statistics ...\n",
      "Generating URL ...\n",
      "Downloading data from https://earthengine.googleapis.com/v1/projects/earthengine-legacy/tables/da3d0a60b3acd1a088fd7676e36f2388-c83c59e5dd54f45d44aab048eb599dd6:getFeatures\n",
      "Please wait ...\n",
      "Data downloaded to C:\\Users\\snmar\\Geoespacial\\Proyecto\\Proyecto-GeoEspacial\\Entrega 1\\stats_mean.csv\n",
      "Computing statistics ...\n",
      "Generating URL ...\n",
      "Downloading data from https://earthengine.googleapis.com/v1/projects/earthengine-legacy/tables/cc03e37a624b73be858cb314a64ce301-49aa6ac28ca548cda2ef0859a850988b:getFeatures\n",
      "Please wait ...\n",
      "Data downloaded to C:\\Users\\snmar\\Geoespacial\\Proyecto\\Proyecto-GeoEspacial\\Entrega 1\\stats_stdDev.csv\n",
      "Computing statistics ...\n",
      "Generating URL ...\n",
      "Downloading data from https://earthengine.googleapis.com/v1/projects/earthengine-legacy/tables/e82344fbce3537bba470d4823ead79d8-e1ce220570b08a6c8ef02b9f650805b4:getFeatures\n",
      "Please wait ...\n",
      "Data downloaded to C:\\Users\\snmar\\Geoespacial\\Proyecto\\Proyecto-GeoEspacial\\Entrega 1\\stats_mean.csv\n",
      "Computing statistics ...\n",
      "Generating URL ...\n",
      "Downloading data from https://earthengine.googleapis.com/v1/projects/earthengine-legacy/tables/c10896ef8142deab26feab3821ea302a-ef243d59bcc784d8a26c55760548007b:getFeatures\n",
      "Please wait ...\n",
      "Data downloaded to C:\\Users\\snmar\\Geoespacial\\Proyecto\\Proyecto-GeoEspacial\\Entrega 1\\stats_stdDev.csv\n",
      "Computing statistics ...\n",
      "Generating URL ...\n",
      "Downloading data from https://earthengine.googleapis.com/v1/projects/earthengine-legacy/tables/6e7b50fc3dcac3a67c7df33cfe08dfcd-67ba259cc34ac1e16accafb5e2c17442:getFeatures\n",
      "Please wait ...\n",
      "Data downloaded to C:\\Users\\snmar\\Geoespacial\\Proyecto\\Proyecto-GeoEspacial\\Entrega 1\\stats_mean.csv\n",
      "Computing statistics ...\n",
      "Generating URL ...\n",
      "Downloading data from https://earthengine.googleapis.com/v1/projects/earthengine-legacy/tables/a2f9e5752284137cfbd7a057065956bf-b2c723ba7db74d113d8da3e74ceafe92:getFeatures\n",
      "Please wait ...\n",
      "Data downloaded to C:\\Users\\snmar\\Geoespacial\\Proyecto\\Proyecto-GeoEspacial\\Entrega 1\\stats_stdDev.csv\n",
      "Computing statistics ...\n",
      "Generating URL ...\n",
      "Downloading data from https://earthengine.googleapis.com/v1/projects/earthengine-legacy/tables/cfd9f4bea08cc656f98bea52ee226fe1-f728a56114fd87ca5e2510fe62d7b7b1:getFeatures\n",
      "Please wait ...\n",
      "Data downloaded to C:\\Users\\snmar\\Geoespacial\\Proyecto\\Proyecto-GeoEspacial\\Entrega 1\\stats_mean.csv\n",
      "Computing statistics ...\n",
      "Generating URL ...\n",
      "Downloading data from https://earthengine.googleapis.com/v1/projects/earthengine-legacy/tables/5d3716c27510eee601081ddb7ba01da9-ad801675fa2850c93d5318a5ccb659cb:getFeatures\n",
      "Please wait ...\n",
      "Data downloaded to C:\\Users\\snmar\\Geoespacial\\Proyecto\\Proyecto-GeoEspacial\\Entrega 1\\stats_stdDev.csv\n",
      "Computing statistics ...\n",
      "Generating URL ...\n",
      "Downloading data from https://earthengine.googleapis.com/v1/projects/earthengine-legacy/tables/f2f4e99ceb223475364be9daa61d7f3a-1db32b5bfa70521dedba0c3023a348da:getFeatures\n",
      "Please wait ...\n",
      "Data downloaded to C:\\Users\\snmar\\Geoespacial\\Proyecto\\Proyecto-GeoEspacial\\Entrega 1\\stats_mean.csv\n",
      "Computing statistics ...\n",
      "Generating URL ...\n",
      "Downloading data from https://earthengine.googleapis.com/v1/projects/earthengine-legacy/tables/41598ebaec244539b5262d03e4fce709-fb5edaa42d97e54427f236a7602eb103:getFeatures\n",
      "Please wait ...\n",
      "Data downloaded to C:\\Users\\snmar\\Geoespacial\\Proyecto\\Proyecto-GeoEspacial\\Entrega 1\\stats_stdDev.csv\n",
      "Computing statistics ...\n",
      "Generating URL ...\n",
      "Downloading data from https://earthengine.googleapis.com/v1/projects/earthengine-legacy/tables/8c678ae2b16bac36c6b45dbb706983ea-7ac225605269335671f42cc270260f32:getFeatures\n",
      "Please wait ...\n",
      "Data downloaded to C:\\Users\\snmar\\Geoespacial\\Proyecto\\Proyecto-GeoEspacial\\Entrega 1\\stats_mean.csv\n",
      "Computing statistics ...\n",
      "Generating URL ...\n",
      "Downloading data from https://earthengine.googleapis.com/v1/projects/earthengine-legacy/tables/7bf0f360686a62e9a0f238e22d59ffa8-0817dafce3c1b31bacc2ba4f20c9b35e:getFeatures\n",
      "Please wait ...\n",
      "Data downloaded to C:\\Users\\snmar\\Geoespacial\\Proyecto\\Proyecto-GeoEspacial\\Entrega 1\\stats_stdDev.csv\n",
      "Computing statistics ...\n",
      "Generating URL ...\n",
      "Downloading data from https://earthengine.googleapis.com/v1/projects/earthengine-legacy/tables/445c44d75fd87b6e71cf8b906f42ad25-c3430c1f88ad6d7b107b6a54eb1f7622:getFeatures\n",
      "Please wait ...\n",
      "Data downloaded to C:\\Users\\snmar\\Geoespacial\\Proyecto\\Proyecto-GeoEspacial\\Entrega 1\\stats_mean.csv\n",
      "Computing statistics ...\n",
      "Generating URL ...\n",
      "Downloading data from https://earthengine.googleapis.com/v1/projects/earthengine-legacy/tables/fa174f1b70f700cfa71bd7684e8fc333-830939473d78f942deac177d739ee4f5:getFeatures\n",
      "Please wait ...\n",
      "Data downloaded to C:\\Users\\snmar\\Geoespacial\\Proyecto\\Proyecto-GeoEspacial\\Entrega 1\\stats_stdDev.csv\n",
      "Computing statistics ...\n",
      "Generating URL ...\n",
      "Downloading data from https://earthengine.googleapis.com/v1/projects/earthengine-legacy/tables/9a2db81199e0615496449d18afc92ffe-908066269d34cf8213f38c6dcc4a4d10:getFeatures\n",
      "Please wait ...\n",
      "Data downloaded to C:\\Users\\snmar\\Geoespacial\\Proyecto\\Proyecto-GeoEspacial\\Entrega 1\\stats_mean.csv\n",
      "Computing statistics ...\n",
      "Generating URL ...\n",
      "Downloading data from https://earthengine.googleapis.com/v1/projects/earthengine-legacy/tables/8550ecae39259443b7c4d7855c4a514b-778de4b4daf3d2570adc74a880983601:getFeatures\n",
      "Please wait ...\n",
      "Data downloaded to C:\\Users\\snmar\\Geoespacial\\Proyecto\\Proyecto-GeoEspacial\\Entrega 1\\stats_stdDev.csv\n",
      "Computing statistics ...\n",
      "Generating URL ...\n",
      "Downloading data from https://earthengine.googleapis.com/v1/projects/earthengine-legacy/tables/b521c9985ff49a4e4e21b39de7323e51-4ac67e2d2ee37e812d7e57674ee979ab:getFeatures\n",
      "Please wait ...\n",
      "Data downloaded to C:\\Users\\snmar\\Geoespacial\\Proyecto\\Proyecto-GeoEspacial\\Entrega 1\\stats_mean.csv\n",
      "Computing statistics ...\n",
      "Generating URL ...\n",
      "Downloading data from https://earthengine.googleapis.com/v1/projects/earthengine-legacy/tables/3a4e8e45b893d985b760c1a69845f69d-838af8b6eb46e2db6cbe512f927a026f:getFeatures\n",
      "Please wait ...\n",
      "Data downloaded to C:\\Users\\snmar\\Geoespacial\\Proyecto\\Proyecto-GeoEspacial\\Entrega 1\\stats_stdDev.csv\n",
      "Computing statistics ...\n",
      "Generating URL ...\n",
      "Downloading data from https://earthengine.googleapis.com/v1/projects/earthengine-legacy/tables/24feff1f7950115ea1175f5fd5c93141-154484014c9e741a54271ae6cbb4c001:getFeatures\n",
      "Please wait ...\n",
      "Data downloaded to C:\\Users\\snmar\\Geoespacial\\Proyecto\\Proyecto-GeoEspacial\\Entrega 1\\stats_mean.csv\n",
      "Computing statistics ...\n",
      "Generating URL ...\n",
      "Downloading data from https://earthengine.googleapis.com/v1/projects/earthengine-legacy/tables/e98a541523108ebc55a766a7b30d8f23-14bd63333ae9bfac24d3a946bd4c6751:getFeatures\n",
      "Please wait ...\n",
      "Data downloaded to C:\\Users\\snmar\\Geoespacial\\Proyecto\\Proyecto-GeoEspacial\\Entrega 1\\stats_stdDev.csv\n",
      "Computing statistics ...\n",
      "Generating URL ...\n",
      "Downloading data from https://earthengine.googleapis.com/v1/projects/earthengine-legacy/tables/e6fa2b4c1e06107ebc8c4a0c1bdf1498-0e168b08e21e8f3f49ddca7d96d4f5b1:getFeatures\n",
      "Please wait ...\n",
      "Data downloaded to C:\\Users\\snmar\\Geoespacial\\Proyecto\\Proyecto-GeoEspacial\\Entrega 1\\stats_mean.csv\n",
      "Computing statistics ...\n",
      "Generating URL ...\n",
      "Downloading data from https://earthengine.googleapis.com/v1/projects/earthengine-legacy/tables/000cd6ea2e207d5d1c45e7c6584c3adc-b762bd08eea2121f9482b8aeea727e97:getFeatures\n",
      "Please wait ...\n",
      "Data downloaded to C:\\Users\\snmar\\Geoespacial\\Proyecto\\Proyecto-GeoEspacial\\Entrega 1\\stats_stdDev.csv\n",
      "Computing statistics ...\n",
      "Generating URL ...\n",
      "Downloading data from https://earthengine.googleapis.com/v1/projects/earthengine-legacy/tables/b53276f5b9df865942f6bf1062fa0581-5014b72b40ada23a7f9d57bfd5dc79f1:getFeatures\n",
      "Please wait ...\n",
      "Data downloaded to C:\\Users\\snmar\\Geoespacial\\Proyecto\\Proyecto-GeoEspacial\\Entrega 1\\stats_mean.csv\n",
      "Computing statistics ...\n",
      "Generating URL ...\n",
      "Downloading data from https://earthengine.googleapis.com/v1/projects/earthengine-legacy/tables/bd3780f82e685f09181f8bd9700e6aa3-4d416fc0ff4295decb2411bb4ae564a4:getFeatures\n",
      "Please wait ...\n",
      "Data downloaded to C:\\Users\\snmar\\Geoespacial\\Proyecto\\Proyecto-GeoEspacial\\Entrega 1\\stats_stdDev.csv\n",
      "Computing statistics ...\n",
      "Generating URL ...\n",
      "Downloading data from https://earthengine.googleapis.com/v1/projects/earthengine-legacy/tables/94583ed91505239e9721c12b53b332c6-2b8a58c6466bb949be440403e479eb0d:getFeatures\n",
      "Please wait ...\n",
      "Data downloaded to C:\\Users\\snmar\\Geoespacial\\Proyecto\\Proyecto-GeoEspacial\\Entrega 1\\stats_mean.csv\n",
      "Computing statistics ...\n",
      "Generating URL ...\n",
      "Downloading data from https://earthengine.googleapis.com/v1/projects/earthengine-legacy/tables/d466206accc44d73b4334338f57b2f85-0f0c36742a8d457e518b9704d067578c:getFeatures\n",
      "Please wait ...\n",
      "Data downloaded to C:\\Users\\snmar\\Geoespacial\\Proyecto\\Proyecto-GeoEspacial\\Entrega 1\\stats_stdDev.csv\n"
     ]
    }
   ],
   "source": [
    "data_values = {}\n",
    "\n",
    "for value in range(len(values_position)):\n",
    "    data_values[f'{value}'] = {} \n",
    "    for year in data_verano:\n",
    "        year = year[1]\n",
    "        if year[:4] == '2024':\n",
    "            continue\n",
    "        else:\n",
    "            ## media\n",
    "            \n",
    "            mean_outfile = 'stats_mean.csv' \n",
    "            mean_stats = geemap.zonal_statistics(test_collection[value][year[:4]].median().clip(values_position[value]), fc_images[f'{value}'][year[:4]], mean_outfile, stat_type='mean', scale=30)\n",
    "            mean_df = pd.read_csv(mean_outfile)\n",
    "            \n",
    "            type = 'mean'\n",
    "            mean_df.rename(columns={'B2': 'B2_%s'%type, 'B3': 'B3_%s'%type, 'B4' : 'B4_%s'%type, 'B5': 'B5_%s'%type, 'B6' : 'B6_%s'%type, 'B7': 'B7_%s'%type,\n",
    "                                    'B1': 'B1_%s'%type, 'B8': 'B8_%s'%type, 'B8/B6': 'B8/B6_%s'%type, 'B9' : 'B9_%s'%type, 'B10': 'B10_%s'%type, 'B11' : 'B11_%s'%type,\n",
    "                                'B11': 'B11_%s'%type, 'B12': 'B12_%s'%type, 'NDVI': 'NDVI_%s'%type, 'NDSI': 'NDSI_%s'%type},inplace=True)\n",
    "            data_values[f'{value}'][year[:4]] = mean_df\n",
    "            \n",
    "            ## desviación estándar\n",
    "            stddev_outfile = 'stats_stdDev.csv'\n",
    "            stddev_stats = geemap.zonal_statistics(test_collection[value][year[:4]].median().clip(values_position[value]), fc_images[f'{value}'][year[:4]], stddev_outfile, stat_type='STD', scale=30)\n",
    "            stddev_df = pd.read_csv(stddev_outfile)\n",
    "        \n",
    "            type = 'stdDev'\n",
    "            stddev_df.rename(columns={'B2': 'B2_%s'%type, 'B3': 'B3_%s'%type, 'B4' : 'B4_%s'%type, 'B5': 'B5_%s'%type, 'B6' : 'B6_%s'%type, 'B7': 'B7_%s'%type,\n",
    "                                    'B1': 'B1_%s'%type, 'B8': 'B8_%s'%type, 'B8/B6': 'B8/B6_%s'%type, 'B9' : 'B9_%s'%type, 'B10': 'B10_%s'%type, 'B11' : 'B11_%s'%type,\n",
    "                                'B11': 'B11_%s'%type, 'B12': 'B12_%s'%type, 'NDVI': 'NDVI_%s'%type, 'NDSI': 'NDSI_%s'%type},inplace=True)\n",
    "            data_values[f'{value}'][year[:4]] = data_values[f'{value}'][year[:4]].merge(stddev_df, on='label',how='left')"
   ]
  },
  {
   "cell_type": "code",
   "execution_count": 84,
   "id": "fb262aad-0ee7-43d5-82c5-95243bb21436",
   "metadata": {},
   "outputs": [
    {
     "data": {
      "text/html": [
       "\n",
       "            <style>\n",
       "                .geemap-dark {\n",
       "                    --jp-widgets-color: white;\n",
       "                    --jp-widgets-label-color: white;\n",
       "                    --jp-ui-font-color1: white;\n",
       "                    --jp-layout-color2: #454545;\n",
       "                    background-color: #383838;\n",
       "                }\n",
       "\n",
       "                .geemap-dark .jupyter-button {\n",
       "                    --jp-layout-color3: #383838;\n",
       "                }\n",
       "\n",
       "                .geemap-colab {\n",
       "                    background-color: var(--colab-primary-surface-color, white);\n",
       "                }\n",
       "\n",
       "                .geemap-colab .jupyter-button {\n",
       "                    --jp-layout-color3: var(--colab-primary-surface-color, white);\n",
       "                }\n",
       "            </style>\n",
       "            "
      ],
      "text/plain": [
       "<IPython.core.display.HTML object>"
      ]
     },
     "metadata": {},
     "output_type": "display_data"
    }
   ],
   "source": [
    "take = [a for a in columns_to_use]\n",
    "take.append('label')"
   ]
  },
  {
   "cell_type": "code",
   "execution_count": 85,
   "id": "75d5a53a-873e-4f25-a520-4d630fc97af5",
   "metadata": {
    "scrolled": true
   },
   "outputs": [
    {
     "data": {
      "text/html": [
       "\n",
       "            <style>\n",
       "                .geemap-dark {\n",
       "                    --jp-widgets-color: white;\n",
       "                    --jp-widgets-label-color: white;\n",
       "                    --jp-ui-font-color1: white;\n",
       "                    --jp-layout-color2: #454545;\n",
       "                    background-color: #383838;\n",
       "                }\n",
       "\n",
       "                .geemap-dark .jupyter-button {\n",
       "                    --jp-layout-color3: #383838;\n",
       "                }\n",
       "\n",
       "                .geemap-colab {\n",
       "                    background-color: var(--colab-primary-surface-color, white);\n",
       "                }\n",
       "\n",
       "                .geemap-colab .jupyter-button {\n",
       "                    --jp-layout-color3: var(--colab-primary-surface-color, white);\n",
       "                }\n",
       "            </style>\n",
       "            "
      ],
      "text/plain": [
       "<IPython.core.display.HTML object>"
      ]
     },
     "metadata": {},
     "output_type": "display_data"
    }
   ],
   "source": [
    "test_columns = columns_to_use"
   ]
  },
  {
   "cell_type": "markdown",
   "id": "0792d2e5-513e-4797-8a2a-907edc82abad",
   "metadata": {},
   "source": [
    "### Añadimos la informacion de las bandas a gdf de los clusters"
   ]
  },
  {
   "cell_type": "code",
   "execution_count": 86,
   "id": "7926f73a-10a4-4875-bda5-205058f946cc",
   "metadata": {},
   "outputs": [
    {
     "data": {
      "text/html": [
       "\n",
       "            <style>\n",
       "                .geemap-dark {\n",
       "                    --jp-widgets-color: white;\n",
       "                    --jp-widgets-label-color: white;\n",
       "                    --jp-ui-font-color1: white;\n",
       "                    --jp-layout-color2: #454545;\n",
       "                    background-color: #383838;\n",
       "                }\n",
       "\n",
       "                .geemap-dark .jupyter-button {\n",
       "                    --jp-layout-color3: #383838;\n",
       "                }\n",
       "\n",
       "                .geemap-colab {\n",
       "                    background-color: var(--colab-primary-surface-color, white);\n",
       "                }\n",
       "\n",
       "                .geemap-colab .jupyter-button {\n",
       "                    --jp-layout-color3: var(--colab-primary-surface-color, white);\n",
       "                }\n",
       "            </style>\n",
       "            "
      ],
      "text/plain": [
       "<IPython.core.display.HTML object>"
      ]
     },
     "metadata": {},
     "output_type": "display_data"
    }
   ],
   "source": [
    "final_result = {}\n",
    "\n",
    "for value in range(len(values_position)):\n",
    "    final_result[f'{value}'] = {} \n",
    "    for year in data_verano:\n",
    "        year = year[1]\n",
    "        if year[:4] == '2024':\n",
    "            continue\n",
    "        else:\n",
    "            gdf = data[f'{value}'][year[:4]].merge(data_values[f'{value}'][year[:4]][take],on='label',how='left')\n",
    "            final_result[f'{value}'][year[:4]] = gdf"
   ]
  },
  {
   "cell_type": "markdown",
   "id": "2a815a99-316d-4c85-84e9-06249e44ac8f",
   "metadata": {},
   "source": [
    "### Se aplica el modelo de clasificacion"
   ]
  },
  {
   "cell_type": "code",
   "execution_count": 87,
   "id": "bf130cca-8ed2-496f-a6a5-58e9d67f6bb8",
   "metadata": {},
   "outputs": [
    {
     "data": {
      "text/html": [
       "\n",
       "            <style>\n",
       "                .geemap-dark {\n",
       "                    --jp-widgets-color: white;\n",
       "                    --jp-widgets-label-color: white;\n",
       "                    --jp-ui-font-color1: white;\n",
       "                    --jp-layout-color2: #454545;\n",
       "                    background-color: #383838;\n",
       "                }\n",
       "\n",
       "                .geemap-dark .jupyter-button {\n",
       "                    --jp-layout-color3: #383838;\n",
       "                }\n",
       "\n",
       "                .geemap-colab {\n",
       "                    background-color: var(--colab-primary-surface-color, white);\n",
       "                }\n",
       "\n",
       "                .geemap-colab .jupyter-button {\n",
       "                    --jp-layout-color3: var(--colab-primary-surface-color, white);\n",
       "                }\n",
       "            </style>\n",
       "            "
      ],
      "text/plain": [
       "<IPython.core.display.HTML object>"
      ]
     },
     "metadata": {},
     "output_type": "display_data"
    }
   ],
   "source": [
    "\n",
    "for value in range(len(values_position)):\n",
    "    for year in data_verano:\n",
    "        year = year[1]\n",
    "        if year[:4] == '2024':\n",
    "            continue\n",
    "        else:\n",
    "            test_scaled = scaler.transform(final_result[f'{value}'][year[:4]][test_columns]) # Normalizacion de los datos de test\n",
    "            test_normalized = pd.DataFrame(test_scaled, columns=test_columns)\n",
    "            y_pred_result = clasificador.predict(test_normalized)\n",
    "            final_result[f'{value}'][year[:4]]['class_pred'] = y_pred_result\n"
   ]
  },
  {
   "cell_type": "markdown",
   "id": "afb08c4b-db84-4a53-997b-0ea11ebfbc9d",
   "metadata": {},
   "source": [
    "### Creacion de GIF para cada zona de clasificación"
   ]
  },
  {
   "cell_type": "markdown",
   "id": "a34c040f-1fee-48a1-8cbb-09223dc3174e",
   "metadata": {},
   "source": [
    "### Se realizan las observaciones a cada zona de testeo, para los años 2014-2023, luego se guarda un gif de cambio para cada zona"
   ]
  },
  {
   "cell_type": "code",
   "execution_count": 88,
   "id": "e66030e7-11d1-4718-8ffa-ec662da24a32",
   "metadata": {},
   "outputs": [
    {
     "data": {
      "text/html": [
       "\n",
       "            <style>\n",
       "                .geemap-dark {\n",
       "                    --jp-widgets-color: white;\n",
       "                    --jp-widgets-label-color: white;\n",
       "                    --jp-ui-font-color1: white;\n",
       "                    --jp-layout-color2: #454545;\n",
       "                    background-color: #383838;\n",
       "                }\n",
       "\n",
       "                .geemap-dark .jupyter-button {\n",
       "                    --jp-layout-color3: #383838;\n",
       "                }\n",
       "\n",
       "                .geemap-colab {\n",
       "                    background-color: var(--colab-primary-surface-color, white);\n",
       "                }\n",
       "\n",
       "                .geemap-colab .jupyter-button {\n",
       "                    --jp-layout-color3: var(--colab-primary-surface-color, white);\n",
       "                }\n",
       "            </style>\n",
       "            "
      ],
      "text/plain": [
       "<IPython.core.display.HTML object>"
      ]
     },
     "metadata": {},
     "output_type": "display_data"
    },
    {
     "data": {
      "application/vnd.jupyter.widget-view+json": {
       "model_id": "1e3238ba7a6b43cdb9969c81003b39ad",
       "version_major": 2,
       "version_minor": 0
      },
      "text/plain": [
       "RGB_geo.png.tif: |                                 | 0.00/288k (raw) [  0.0%] in 00:00 (eta:     ?)"
      ]
     },
     "metadata": {},
     "output_type": "display_data"
    },
    {
     "name": "stderr",
     "output_type": "stream",
     "text": [
      "There is no STAC entry for: None\n"
     ]
    },
    {
     "data": {
      "application/vnd.jupyter.widget-view+json": {
       "model_id": "64ff18111caf44fe95cfb5760ce8e952",
       "version_major": 2,
       "version_minor": 0
      },
      "text/plain": [
       "RGB_geo.png.tif: |                                 | 0.00/288k (raw) [  0.0%] in 00:00 (eta:     ?)"
      ]
     },
     "metadata": {},
     "output_type": "display_data"
    },
    {
     "data": {
      "application/vnd.jupyter.widget-view+json": {
       "model_id": "3667f50de40e4bde8cdf03a1c521f1cd",
       "version_major": 2,
       "version_minor": 0
      },
      "text/plain": [
       "RGB_geo.png.tif: |                                 | 0.00/288k (raw) [  0.0%] in 00:00 (eta:     ?)"
      ]
     },
     "metadata": {},
     "output_type": "display_data"
    },
    {
     "data": {
      "application/vnd.jupyter.widget-view+json": {
       "model_id": "d5bb1ab1c62d40828d83462547d9c9c6",
       "version_major": 2,
       "version_minor": 0
      },
      "text/plain": [
       "RGB_geo.png.tif: |                                 | 0.00/288k (raw) [  0.0%] in 00:00 (eta:     ?)"
      ]
     },
     "metadata": {},
     "output_type": "display_data"
    },
    {
     "data": {
      "application/vnd.jupyter.widget-view+json": {
       "model_id": "f7bfc0e8c0094ba19f8220c8a91da717",
       "version_major": 2,
       "version_minor": 0
      },
      "text/plain": [
       "RGB_geo.png.tif: |                                 | 0.00/288k (raw) [  0.0%] in 00:00 (eta:     ?)"
      ]
     },
     "metadata": {},
     "output_type": "display_data"
    },
    {
     "data": {
      "application/vnd.jupyter.widget-view+json": {
       "model_id": "7cf5e2ce6c8440feb9b4e4bd4f78b098",
       "version_major": 2,
       "version_minor": 0
      },
      "text/plain": [
       "RGB_geo.png.tif: |                                 | 0.00/288k (raw) [  0.0%] in 00:00 (eta:     ?)"
      ]
     },
     "metadata": {},
     "output_type": "display_data"
    },
    {
     "data": {
      "application/vnd.jupyter.widget-view+json": {
       "model_id": "edd0ec4e4fbf4b2aa39dbe41e126901f",
       "version_major": 2,
       "version_minor": 0
      },
      "text/plain": [
       "RGB_geo.png.tif: |                                 | 0.00/288k (raw) [  0.0%] in 00:00 (eta:     ?)"
      ]
     },
     "metadata": {},
     "output_type": "display_data"
    },
    {
     "data": {
      "application/vnd.jupyter.widget-view+json": {
       "model_id": "f0f0f58d7cde4da4b494ec08e9844068",
       "version_major": 2,
       "version_minor": 0
      },
      "text/plain": [
       "RGB_geo.png.tif: |                                 | 0.00/288k (raw) [  0.0%] in 00:00 (eta:     ?)"
      ]
     },
     "metadata": {},
     "output_type": "display_data"
    },
    {
     "data": {
      "application/vnd.jupyter.widget-view+json": {
       "model_id": "63ab98d152e64eb1a10a8c66ad43c414",
       "version_major": 2,
       "version_minor": 0
      },
      "text/plain": [
       "RGB_geo.png.tif: |                                 | 0.00/288k (raw) [  0.0%] in 00:00 (eta:     ?)"
      ]
     },
     "metadata": {},
     "output_type": "display_data"
    },
    {
     "data": {
      "application/vnd.jupyter.widget-view+json": {
       "model_id": "ae6df68db07b49e2a6958c16678347bc",
       "version_major": 2,
       "version_minor": 0
      },
      "text/plain": [
       "RGB_geo.png.tif: |                                 | 0.00/288k (raw) [  0.0%] in 00:00 (eta:     ?)"
      ]
     },
     "metadata": {},
     "output_type": "display_data"
    },
    {
     "name": "stdout",
     "output_type": "stream",
     "text": [
      "GIF guardado en resultado_0.gif\n"
     ]
    },
    {
     "data": {
      "application/vnd.jupyter.widget-view+json": {
       "model_id": "c04146be77d249b586d06971cfc6c014",
       "version_major": 2,
       "version_minor": 0
      },
      "text/plain": [
       "RGB_geo.png.tif: |                                 | 0.00/389k (raw) [  0.0%] in 00:00 (eta:     ?)"
      ]
     },
     "metadata": {},
     "output_type": "display_data"
    },
    {
     "data": {
      "application/vnd.jupyter.widget-view+json": {
       "model_id": "0c36fc09489f4d7b8e22829213b14940",
       "version_major": 2,
       "version_minor": 0
      },
      "text/plain": [
       "RGB_geo.png.tif: |                                 | 0.00/389k (raw) [  0.0%] in 00:00 (eta:     ?)"
      ]
     },
     "metadata": {},
     "output_type": "display_data"
    },
    {
     "data": {
      "application/vnd.jupyter.widget-view+json": {
       "model_id": "bfdd06e326e3421d8d8992c74bce23bc",
       "version_major": 2,
       "version_minor": 0
      },
      "text/plain": [
       "RGB_geo.png.tif: |                                 | 0.00/389k (raw) [  0.0%] in 00:00 (eta:     ?)"
      ]
     },
     "metadata": {},
     "output_type": "display_data"
    },
    {
     "data": {
      "application/vnd.jupyter.widget-view+json": {
       "model_id": "56461a93ff904ad9acfa58eeec798383",
       "version_major": 2,
       "version_minor": 0
      },
      "text/plain": [
       "RGB_geo.png.tif: |                                 | 0.00/389k (raw) [  0.0%] in 00:00 (eta:     ?)"
      ]
     },
     "metadata": {},
     "output_type": "display_data"
    },
    {
     "data": {
      "application/vnd.jupyter.widget-view+json": {
       "model_id": "e57dab90ea2945b3a321cd01af3d7d23",
       "version_major": 2,
       "version_minor": 0
      },
      "text/plain": [
       "RGB_geo.png.tif: |                                 | 0.00/389k (raw) [  0.0%] in 00:00 (eta:     ?)"
      ]
     },
     "metadata": {},
     "output_type": "display_data"
    },
    {
     "data": {
      "application/vnd.jupyter.widget-view+json": {
       "model_id": "be46c53b2b74414aa99a0a8b25cd477b",
       "version_major": 2,
       "version_minor": 0
      },
      "text/plain": [
       "RGB_geo.png.tif: |                                 | 0.00/389k (raw) [  0.0%] in 00:00 (eta:     ?)"
      ]
     },
     "metadata": {},
     "output_type": "display_data"
    },
    {
     "data": {
      "application/vnd.jupyter.widget-view+json": {
       "model_id": "c18fa68b44844b8291f64539bf562b78",
       "version_major": 2,
       "version_minor": 0
      },
      "text/plain": [
       "RGB_geo.png.tif: |                                 | 0.00/389k (raw) [  0.0%] in 00:00 (eta:     ?)"
      ]
     },
     "metadata": {},
     "output_type": "display_data"
    },
    {
     "data": {
      "application/vnd.jupyter.widget-view+json": {
       "model_id": "c4c05ef826444589acd54280475c2927",
       "version_major": 2,
       "version_minor": 0
      },
      "text/plain": [
       "RGB_geo.png.tif: |                                 | 0.00/389k (raw) [  0.0%] in 00:00 (eta:     ?)"
      ]
     },
     "metadata": {},
     "output_type": "display_data"
    },
    {
     "data": {
      "application/vnd.jupyter.widget-view+json": {
       "model_id": "d93b7ddf9c644745a0c878063774a219",
       "version_major": 2,
       "version_minor": 0
      },
      "text/plain": [
       "RGB_geo.png.tif: |                                 | 0.00/389k (raw) [  0.0%] in 00:00 (eta:     ?)"
      ]
     },
     "metadata": {},
     "output_type": "display_data"
    },
    {
     "data": {
      "application/vnd.jupyter.widget-view+json": {
       "model_id": "738aef4efa8d4cc8afe15a1f5d82d652",
       "version_major": 2,
       "version_minor": 0
      },
      "text/plain": [
       "RGB_geo.png.tif: |                                 | 0.00/389k (raw) [  0.0%] in 00:00 (eta:     ?)"
      ]
     },
     "metadata": {},
     "output_type": "display_data"
    },
    {
     "name": "stdout",
     "output_type": "stream",
     "text": [
      "GIF guardado en resultado_1.gif\n"
     ]
    },
    {
     "data": {
      "application/vnd.jupyter.widget-view+json": {
       "model_id": "9cb1f69204b44ec3a11be5ad136566a3",
       "version_major": 2,
       "version_minor": 0
      },
      "text/plain": [
       "RGB_geo.png.tif: |                                 | 0.00/289k (raw) [  0.0%] in 00:00 (eta:     ?)"
      ]
     },
     "metadata": {},
     "output_type": "display_data"
    },
    {
     "data": {
      "application/vnd.jupyter.widget-view+json": {
       "model_id": "558824d8c50342ee9b0d9a6e9eee1914",
       "version_major": 2,
       "version_minor": 0
      },
      "text/plain": [
       "RGB_geo.png.tif: |                                 | 0.00/289k (raw) [  0.0%] in 00:00 (eta:     ?)"
      ]
     },
     "metadata": {},
     "output_type": "display_data"
    },
    {
     "data": {
      "application/vnd.jupyter.widget-view+json": {
       "model_id": "bcb6d44a8dcc4e91b7542074e269bb60",
       "version_major": 2,
       "version_minor": 0
      },
      "text/plain": [
       "RGB_geo.png.tif: |                                 | 0.00/289k (raw) [  0.0%] in 00:00 (eta:     ?)"
      ]
     },
     "metadata": {},
     "output_type": "display_data"
    },
    {
     "data": {
      "application/vnd.jupyter.widget-view+json": {
       "model_id": "c837e043106e4d9ba264c2eeeab5733a",
       "version_major": 2,
       "version_minor": 0
      },
      "text/plain": [
       "RGB_geo.png.tif: |                                 | 0.00/289k (raw) [  0.0%] in 00:00 (eta:     ?)"
      ]
     },
     "metadata": {},
     "output_type": "display_data"
    },
    {
     "data": {
      "application/vnd.jupyter.widget-view+json": {
       "model_id": "af079cad98d346e4ab564339a22d4860",
       "version_major": 2,
       "version_minor": 0
      },
      "text/plain": [
       "RGB_geo.png.tif: |                                 | 0.00/289k (raw) [  0.0%] in 00:00 (eta:     ?)"
      ]
     },
     "metadata": {},
     "output_type": "display_data"
    },
    {
     "data": {
      "application/vnd.jupyter.widget-view+json": {
       "model_id": "aea1186cc07f449f83dc337c3243cefb",
       "version_major": 2,
       "version_minor": 0
      },
      "text/plain": [
       "RGB_geo.png.tif: |                                 | 0.00/289k (raw) [  0.0%] in 00:00 (eta:     ?)"
      ]
     },
     "metadata": {},
     "output_type": "display_data"
    },
    {
     "data": {
      "application/vnd.jupyter.widget-view+json": {
       "model_id": "6faf01e2304e46b7b4d5dad390d08372",
       "version_major": 2,
       "version_minor": 0
      },
      "text/plain": [
       "RGB_geo.png.tif: |                                 | 0.00/289k (raw) [  0.0%] in 00:00 (eta:     ?)"
      ]
     },
     "metadata": {},
     "output_type": "display_data"
    },
    {
     "data": {
      "application/vnd.jupyter.widget-view+json": {
       "model_id": "95ce716f922b459abc4ca5053c46a704",
       "version_major": 2,
       "version_minor": 0
      },
      "text/plain": [
       "RGB_geo.png.tif: |                                 | 0.00/289k (raw) [  0.0%] in 00:00 (eta:     ?)"
      ]
     },
     "metadata": {},
     "output_type": "display_data"
    },
    {
     "data": {
      "application/vnd.jupyter.widget-view+json": {
       "model_id": "afe81b2354a241408b64bc0969c112e9",
       "version_major": 2,
       "version_minor": 0
      },
      "text/plain": [
       "RGB_geo.png.tif: |                                 | 0.00/289k (raw) [  0.0%] in 00:00 (eta:     ?)"
      ]
     },
     "metadata": {},
     "output_type": "display_data"
    },
    {
     "data": {
      "application/vnd.jupyter.widget-view+json": {
       "model_id": "f37309ea3a5a4f0eb406b8b955194276",
       "version_major": 2,
       "version_minor": 0
      },
      "text/plain": [
       "RGB_geo.png.tif: |                                 | 0.00/289k (raw) [  0.0%] in 00:00 (eta:     ?)"
      ]
     },
     "metadata": {},
     "output_type": "display_data"
    },
    {
     "name": "stdout",
     "output_type": "stream",
     "text": [
      "GIF guardado en resultado_2.gif\n"
     ]
    },
    {
     "data": {
      "application/vnd.jupyter.widget-view+json": {
       "model_id": "530aad2790b641a69118c617eec74675",
       "version_major": 2,
       "version_minor": 0
      },
      "text/plain": [
       "RGB_geo.png.tif: |                                 | 0.00/343k (raw) [  0.0%] in 00:00 (eta:     ?)"
      ]
     },
     "metadata": {},
     "output_type": "display_data"
    },
    {
     "data": {
      "application/vnd.jupyter.widget-view+json": {
       "model_id": "945a6ebd64e849a997ebeae0935f5a19",
       "version_major": 2,
       "version_minor": 0
      },
      "text/plain": [
       "RGB_geo.png.tif: |                                 | 0.00/343k (raw) [  0.0%] in 00:00 (eta:     ?)"
      ]
     },
     "metadata": {},
     "output_type": "display_data"
    },
    {
     "data": {
      "application/vnd.jupyter.widget-view+json": {
       "model_id": "d5de26ba6917454b9dea3a91a46ff544",
       "version_major": 2,
       "version_minor": 0
      },
      "text/plain": [
       "RGB_geo.png.tif: |                                 | 0.00/343k (raw) [  0.0%] in 00:00 (eta:     ?)"
      ]
     },
     "metadata": {},
     "output_type": "display_data"
    },
    {
     "data": {
      "application/vnd.jupyter.widget-view+json": {
       "model_id": "e03310ed22834842a6d53eaf0cde9f96",
       "version_major": 2,
       "version_minor": 0
      },
      "text/plain": [
       "RGB_geo.png.tif: |                                 | 0.00/343k (raw) [  0.0%] in 00:00 (eta:     ?)"
      ]
     },
     "metadata": {},
     "output_type": "display_data"
    },
    {
     "data": {
      "application/vnd.jupyter.widget-view+json": {
       "model_id": "d5777a54b7e340a1946d3c96b2c0f98c",
       "version_major": 2,
       "version_minor": 0
      },
      "text/plain": [
       "RGB_geo.png.tif: |                                 | 0.00/343k (raw) [  0.0%] in 00:00 (eta:     ?)"
      ]
     },
     "metadata": {},
     "output_type": "display_data"
    },
    {
     "data": {
      "application/vnd.jupyter.widget-view+json": {
       "model_id": "a9134f1fca704e0bb8c1974841edfe44",
       "version_major": 2,
       "version_minor": 0
      },
      "text/plain": [
       "RGB_geo.png.tif: |                                 | 0.00/343k (raw) [  0.0%] in 00:00 (eta:     ?)"
      ]
     },
     "metadata": {},
     "output_type": "display_data"
    },
    {
     "data": {
      "application/vnd.jupyter.widget-view+json": {
       "model_id": "10f135b646e54d569fda1091d8e8f926",
       "version_major": 2,
       "version_minor": 0
      },
      "text/plain": [
       "RGB_geo.png.tif: |                                 | 0.00/343k (raw) [  0.0%] in 00:00 (eta:     ?)"
      ]
     },
     "metadata": {},
     "output_type": "display_data"
    },
    {
     "data": {
      "application/vnd.jupyter.widget-view+json": {
       "model_id": "e671c54f8e6f4242a796f61b7bb2ddbe",
       "version_major": 2,
       "version_minor": 0
      },
      "text/plain": [
       "RGB_geo.png.tif: |                                 | 0.00/343k (raw) [  0.0%] in 00:00 (eta:     ?)"
      ]
     },
     "metadata": {},
     "output_type": "display_data"
    },
    {
     "data": {
      "application/vnd.jupyter.widget-view+json": {
       "model_id": "fdb038ba07074aaa859de36e5b5c4a81",
       "version_major": 2,
       "version_minor": 0
      },
      "text/plain": [
       "RGB_geo.png.tif: |                                 | 0.00/343k (raw) [  0.0%] in 00:00 (eta:     ?)"
      ]
     },
     "metadata": {},
     "output_type": "display_data"
    },
    {
     "data": {
      "application/vnd.jupyter.widget-view+json": {
       "model_id": "2e5d3466885348b6b4304cdfe84c8778",
       "version_major": 2,
       "version_minor": 0
      },
      "text/plain": [
       "RGB_geo.png.tif: |                                 | 0.00/343k (raw) [  0.0%] in 00:00 (eta:     ?)"
      ]
     },
     "metadata": {},
     "output_type": "display_data"
    },
    {
     "name": "stdout",
     "output_type": "stream",
     "text": [
      "GIF guardado en resultado_3.gif\n"
     ]
    }
   ],
   "source": [
    "import os\n",
    "import imageio\n",
    "import matplotlib.pyplot as plt\n",
    "import geemap\n",
    "import shutil\n",
    "\n",
    "# Directorio temporal para almacenar las imágenes\n",
    "\n",
    "for pos in range(0, len(values_position)):\n",
    "    observacion = str(pos)\n",
    "    temp_dir = 'temp_images'\n",
    "    os.makedirs(temp_dir, exist_ok=True)\n",
    "    \n",
    "    # Rango de años de las imágenes\n",
    "    years = range(2014, 2024)\n",
    "    \n",
    "    # Generar y guardar cada imagen anual\n",
    "    for year in years:\n",
    "        fig, axes = plt.subplots(1, 2, figsize=(24, 10))  # Usamos 1 fila y 2 columnas\n",
    "        \n",
    "        m3 = geemap.Map()\n",
    "        m3.set_center(testing_locations[str(int(observacion) + 1)][1], testing_locations[str(int(observacion) + 1)][0], 12)\n",
    "        m3.add_layer(test_collection[int(observacion)][str(year)].median().clip(values_position[int(observacion)]), visualization, 'RGB_geo')\n",
    "        m3.layer_to_image(\"RGB_geo\", output=\"RGB_geo.png\", crs=\"EPSG:4326\", region=values_position[int(observacion)], scale=None)\n",
    "        \n",
    "        img = plt.imread(\"RGB_geo.png\")\n",
    "        axes[0].set_title(\"Imagen Original\")\n",
    "        axes[0].imshow(img)\n",
    "        axes[0].axis('off')\n",
    "        \n",
    "        final_result[observacion][str(year)].plot(column='class_pred', cmap='Reds', legend=True, ax=axes[1])\n",
    "        axes[1].set_title(f\"Resultado Clasificación {year}\")\n",
    "        axes[1].set_xlabel(\"Longitud\")\n",
    "        axes[1].set_ylabel(\"Latitud\")\n",
    "        \n",
    "        img_path = os.path.join(temp_dir, f'resultado_{observacion}_{year}.png')\n",
    "        plt.savefig(img_path, dpi=300)\n",
    "        plt.close(fig)\n",
    "    \n",
    "    # Crear el GIF\n",
    "    images = []\n",
    "    for year in years:\n",
    "        img_path = os.path.join(temp_dir, f'resultado_{observacion}_{year}.png')\n",
    "        images.append(imageio.imread(img_path))\n",
    "    \n",
    "    gif_path = f'resultado_{observacion}.gif'\n",
    "    imageio.mimsave(gif_path, images, duration=2000)  # Puedes ajustar la duración según sea necesario\n",
    "    \n",
    "    # Limpiar el directorio temporal\n",
    "    shutil.rmtree(temp_dir)\n",
    "    \n",
    "    print(f\"GIF guardado en {gif_path}\")"
   ]
  },
  {
   "cell_type": "code",
   "execution_count": 89,
   "id": "684c661d-515a-456c-9632-86a54ac51292",
   "metadata": {},
   "outputs": [
    {
     "data": {
      "text/html": [
       "\n",
       "            <style>\n",
       "                .geemap-dark {\n",
       "                    --jp-widgets-color: white;\n",
       "                    --jp-widgets-label-color: white;\n",
       "                    --jp-ui-font-color1: white;\n",
       "                    --jp-layout-color2: #454545;\n",
       "                    background-color: #383838;\n",
       "                }\n",
       "\n",
       "                .geemap-dark .jupyter-button {\n",
       "                    --jp-layout-color3: #383838;\n",
       "                }\n",
       "\n",
       "                .geemap-colab {\n",
       "                    background-color: var(--colab-primary-surface-color, white);\n",
       "                }\n",
       "\n",
       "                .geemap-colab .jupyter-button {\n",
       "                    --jp-layout-color3: var(--colab-primary-surface-color, white);\n",
       "                }\n",
       "            </style>\n",
       "            "
      ],
      "text/plain": [
       "<IPython.core.display.HTML object>"
      ]
     },
     "metadata": {},
     "output_type": "display_data"
    }
   ],
   "source": [
    "resultado = gdf_glaciares[(gdf_glaciares['REGION'] == 'ARICA Y PARINACOTA') & (gdf_glaciares['NOMBRE'] == 'VOLCAN PARINACOTA')].reset_index(drop=True)"
   ]
  },
  {
   "cell_type": "code",
   "execution_count": 90,
   "id": "127912ba-6370-4e08-96c3-e812eba1d3e2",
   "metadata": {},
   "outputs": [
    {
     "data": {
      "text/html": [
       "\n",
       "            <style>\n",
       "                .geemap-dark {\n",
       "                    --jp-widgets-color: white;\n",
       "                    --jp-widgets-label-color: white;\n",
       "                    --jp-ui-font-color1: white;\n",
       "                    --jp-layout-color2: #454545;\n",
       "                    background-color: #383838;\n",
       "                }\n",
       "\n",
       "                .geemap-dark .jupyter-button {\n",
       "                    --jp-layout-color3: #383838;\n",
       "                }\n",
       "\n",
       "                .geemap-colab {\n",
       "                    background-color: var(--colab-primary-surface-color, white);\n",
       "                }\n",
       "\n",
       "                .geemap-colab .jupyter-button {\n",
       "                    --jp-layout-color3: var(--colab-primary-surface-color, white);\n",
       "                }\n",
       "            </style>\n",
       "            "
      ],
      "text/plain": [
       "<IPython.core.display.HTML object>"
      ]
     },
     "metadata": {},
     "output_type": "display_data"
    }
   ],
   "source": [
    "resultado1 = gdf_glaciares[(gdf_glaciares['REGION'] == 'LIBERTADOR BERNARDO O HIGGINS') & (gdf_glaciares['NOMBRE'] == 'TINGUIRIRICA 1')].reset_index(drop=True)"
   ]
  },
  {
   "cell_type": "code",
   "execution_count": 91,
   "id": "7f94c6dd-f644-4435-bbcc-0d948042f58c",
   "metadata": {},
   "outputs": [
    {
     "data": {
      "text/html": [
       "\n",
       "            <style>\n",
       "                .geemap-dark {\n",
       "                    --jp-widgets-color: white;\n",
       "                    --jp-widgets-label-color: white;\n",
       "                    --jp-ui-font-color1: white;\n",
       "                    --jp-layout-color2: #454545;\n",
       "                    background-color: #383838;\n",
       "                }\n",
       "\n",
       "                .geemap-dark .jupyter-button {\n",
       "                    --jp-layout-color3: #383838;\n",
       "                }\n",
       "\n",
       "                .geemap-colab {\n",
       "                    background-color: var(--colab-primary-surface-color, white);\n",
       "                }\n",
       "\n",
       "                .geemap-colab .jupyter-button {\n",
       "                    --jp-layout-color3: var(--colab-primary-surface-color, white);\n",
       "                }\n",
       "            </style>\n",
       "            "
      ],
      "text/plain": [
       "<IPython.core.display.HTML object>"
      ]
     },
     "metadata": {},
     "output_type": "display_data"
    },
    {
     "data": {
      "text/plain": [
       "<Axes: >"
      ]
     },
     "execution_count": 91,
     "metadata": {},
     "output_type": "execute_result"
    },
    {
     "data": {
      "image/png": "[encoded data removed]",
      "text/plain": [
       "<Figure size 640x480 with 1 Axes>"
      ]
     },
     "metadata": {},
     "output_type": "display_data"
    }
   ],
   "source": [
    "resultado.plot()"
   ]
  },
  {
   "cell_type": "code",
   "execution_count": 92,
   "id": "cd6c85a9-dcae-47de-b47f-91f9d986e6bb",
   "metadata": {},
   "outputs": [
    {
     "data": {
      "text/html": [
       "\n",
       "            <style>\n",
       "                .geemap-dark {\n",
       "                    --jp-widgets-color: white;\n",
       "                    --jp-widgets-label-color: white;\n",
       "                    --jp-ui-font-color1: white;\n",
       "                    --jp-layout-color2: #454545;\n",
       "                    background-color: #383838;\n",
       "                }\n",
       "\n",
       "                .geemap-dark .jupyter-button {\n",
       "                    --jp-layout-color3: #383838;\n",
       "                }\n",
       "\n",
       "                .geemap-colab {\n",
       "                    background-color: var(--colab-primary-surface-color, white);\n",
       "                }\n",
       "\n",
       "                .geemap-colab .jupyter-button {\n",
       "                    --jp-layout-color3: var(--colab-primary-surface-color, white);\n",
       "                }\n",
       "            </style>\n",
       "            "
      ],
      "text/plain": [
       "<IPython.core.display.HTML object>"
      ]
     },
     "metadata": {},
     "output_type": "display_data"
    },
    {
     "data": {
      "text/plain": [
       "<Axes: >"
      ]
     },
     "execution_count": 92,
     "metadata": {},
     "output_type": "execute_result"
    },
    {
     "data": {
      "image/png": "[encoded data removed]",
      "text/plain": [
       "<Figure size 640x480 with 1 Axes>"
      ]
     },
     "metadata": {},
     "output_type": "display_data"
    }
   ],
   "source": [
    "resultado1.plot()"
   ]
  },
  {
   "cell_type": "code",
   "execution_count": 93,
   "id": "3cc31b1d-e4cd-4e80-b540-cb87fd521bf1",
   "metadata": {},
   "outputs": [
    {
     "data": {
      "text/html": [
       "\n",
       "            <style>\n",
       "                .geemap-dark {\n",
       "                    --jp-widgets-color: white;\n",
       "                    --jp-widgets-label-color: white;\n",
       "                    --jp-ui-font-color1: white;\n",
       "                    --jp-layout-color2: #454545;\n",
       "                    background-color: #383838;\n",
       "                }\n",
       "\n",
       "                .geemap-dark .jupyter-button {\n",
       "                    --jp-layout-color3: #383838;\n",
       "                }\n",
       "\n",
       "                .geemap-colab {\n",
       "                    background-color: var(--colab-primary-surface-color, white);\n",
       "                }\n",
       "\n",
       "                .geemap-colab .jupyter-button {\n",
       "                    --jp-layout-color3: var(--colab-primary-surface-color, white);\n",
       "                }\n",
       "            </style>\n",
       "            "
      ],
      "text/plain": [
       "<IPython.core.display.HTML object>"
      ]
     },
     "metadata": {},
     "output_type": "display_data"
    },
    {
     "data": {
      "text/plain": [
       "<Axes: >"
      ]
     },
     "execution_count": 93,
     "metadata": {},
     "output_type": "execute_result"
    },
    {
     "data": {
      "image/png": "[encoded data removed]",
      "text/plain": [
       "<Figure size 640x480 with 1 Axes>"
      ]
     },
     "metadata": {},
     "output_type": "display_data"
    }
   ],
   "source": [
    "analisis.plot()"
   ]
  },
  {
   "cell_type": "markdown",
   "id": "4ff11f8f-0ac8-4468-8d41-2f85804cac0c",
   "metadata": {},
   "source": [
    "### Calculo del area del glaciar"
   ]
  },
  {
   "cell_type": "code",
   "execution_count": 94,
   "id": "48aac84e-6a3b-4756-abb6-6f73d4647af9",
   "metadata": {},
   "outputs": [
    {
     "data": {
      "text/html": [
       "\n",
       "            <style>\n",
       "                .geemap-dark {\n",
       "                    --jp-widgets-color: white;\n",
       "                    --jp-widgets-label-color: white;\n",
       "                    --jp-ui-font-color1: white;\n",
       "                    --jp-layout-color2: #454545;\n",
       "                    background-color: #383838;\n",
       "                }\n",
       "\n",
       "                .geemap-dark .jupyter-button {\n",
       "                    --jp-layout-color3: #383838;\n",
       "                }\n",
       "\n",
       "                .geemap-colab {\n",
       "                    background-color: var(--colab-primary-surface-color, white);\n",
       "                }\n",
       "\n",
       "                .geemap-colab .jupyter-button {\n",
       "                    --jp-layout-color3: var(--colab-primary-surface-color, white);\n",
       "                }\n",
       "            </style>\n",
       "            "
      ],
      "text/plain": [
       "<IPython.core.display.HTML object>"
      ]
     },
     "metadata": {},
     "output_type": "display_data"
    }
   ],
   "source": [
    "aoi_observacion = aoi.buffer(100)"
   ]
  },
  {
   "cell_type": "code",
   "execution_count": 95,
   "id": "7372d4dc-17e9-4493-92c7-c2208f52dedf",
   "metadata": {},
   "outputs": [
    {
     "data": {
      "text/html": [
       "\n",
       "            <style>\n",
       "                .geemap-dark {\n",
       "                    --jp-widgets-color: white;\n",
       "                    --jp-widgets-label-color: white;\n",
       "                    --jp-ui-font-color1: white;\n",
       "                    --jp-layout-color2: #454545;\n",
       "                    background-color: #383838;\n",
       "                }\n",
       "\n",
       "                .geemap-dark .jupyter-button {\n",
       "                    --jp-layout-color3: #383838;\n",
       "                }\n",
       "\n",
       "                .geemap-colab {\n",
       "                    background-color: var(--colab-primary-surface-color, white);\n",
       "                }\n",
       "\n",
       "                .geemap-colab .jupyter-button {\n",
       "                    --jp-layout-color3: var(--colab-primary-surface-color, white);\n",
       "                }\n",
       "            </style>\n",
       "            "
      ],
      "text/plain": [
       "<IPython.core.display.HTML object>"
      ]
     },
     "metadata": {},
     "output_type": "display_data"
    },
    {
     "data": {
      "application/vnd.jupyter.widget-view+json": {
       "model_id": "396e4ebe464947ef84eedf1bb53c9d1b",
       "version_major": 2,
       "version_minor": 0
      },
      "text/plain": [
       "Map(center=[-28.364056553147115, -69.6095871859815], controls=(WidgetControl(options=['position', 'transparent…"
      ]
     },
     "execution_count": 95,
     "metadata": {},
     "output_type": "execute_result"
    }
   ],
   "source": [
    "Map1 = geemap.Map(center=[y[0], x[0]], zoom=12)\n",
    "\n",
    "# Iterar sobre las llaves del diccionario y agregar la primera imagen de cada lista al mapa\n",
    "for year, image_list in area_visual.items():\n",
    "    first_image = image_list[0]\n",
    "    second_image = image_list[1]\n",
    "    third_image = image_list[2]\n",
    "    \n",
    "    # Map.addLayer(first_image, {'bands': ['glacierPAN'w], 'min': 0, 'max': 1, 'palette': ['blue', 'white', 'green']}, f'{year} PAN Image')\n",
    "    # Map.addLayer(second_image, {'bands': ['glacierRED'], 'min': 0, 'max': 1, 'palette': ['blue', 'white', 'green']}, f'{year} RED Image')\n",
    "    Map1.addLayer(third_image.clip(aoi_observacion), {'bands': ['glacierPAN'], 'min': 0.4, 'max': 1, 'palette': ['blue', 'white', 'green']}, f'{year} PAN_threshold Image')\n",
    "    # Map.addLayer(visual[year][1], {}, f'{year} Brightness Image')\n",
    "\n",
    "\n",
    "Map1.add_layer(ee_multipolygon, {}, 'glaciar')\n",
    "Map1"
   ]
  },
  {
   "cell_type": "markdown",
   "id": "d0a7b057-ac08-48a2-976e-138014df3838",
   "metadata": {},
   "source": [
    "### Datos \"LANDSAT/LC08/C02/T1\""
   ]
  },
  {
   "cell_type": "code",
   "execution_count": 96,
   "id": "94a64a16-6d86-479f-a9cf-fcb455fe6495",
   "metadata": {},
   "outputs": [
    {
     "data": {
      "text/html": [
       "\n",
       "            <style>\n",
       "                .geemap-dark {\n",
       "                    --jp-widgets-color: white;\n",
       "                    --jp-widgets-label-color: white;\n",
       "                    --jp-ui-font-color1: white;\n",
       "                    --jp-layout-color2: #454545;\n",
       "                    background-color: #383838;\n",
       "                }\n",
       "\n",
       "                .geemap-dark .jupyter-button {\n",
       "                    --jp-layout-color3: #383838;\n",
       "                }\n",
       "\n",
       "                .geemap-colab {\n",
       "                    background-color: var(--colab-primary-surface-color, white);\n",
       "                }\n",
       "\n",
       "                .geemap-colab .jupyter-button {\n",
       "                    --jp-layout-color3: var(--colab-primary-surface-color, white);\n",
       "                }\n",
       "            </style>\n",
       "            "
      ],
      "text/plain": [
       "<IPython.core.display.HTML object>"
      ]
     },
     "metadata": {},
     "output_type": "display_data"
    }
   ],
   "source": [
    "data_verano = [(f'{a}-12-01', f'{a+1}-03-31') for a in range(2013, 2024)]"
   ]
  },
  {
   "cell_type": "code",
   "execution_count": 97,
   "id": "5b9966ff-1b59-47f7-b302-7ff54ce0a952",
   "metadata": {},
   "outputs": [
    {
     "data": {
      "text/html": [
       "\n",
       "            <style>\n",
       "                .geemap-dark {\n",
       "                    --jp-widgets-color: white;\n",
       "                    --jp-widgets-label-color: white;\n",
       "                    --jp-ui-font-color1: white;\n",
       "                    --jp-layout-color2: #454545;\n",
       "                    background-color: #383838;\n",
       "                }\n",
       "\n",
       "                .geemap-dark .jupyter-button {\n",
       "                    --jp-layout-color3: #383838;\n",
       "                }\n",
       "\n",
       "                .geemap-colab {\n",
       "                    background-color: var(--colab-primary-surface-color, white);\n",
       "                }\n",
       "\n",
       "                .geemap-colab .jupyter-button {\n",
       "                    --jp-layout-color3: var(--colab-primary-surface-color, white);\n",
       "                }\n",
       "            </style>\n",
       "            "
      ],
      "text/plain": [
       "<IPython.core.display.HTML object>"
      ]
     },
     "metadata": {},
     "output_type": "display_data"
    }
   ],
   "source": [
    "def extract_images_for_year_landsatT1_verano(extract, aoi_glaciar):\n",
    "\n",
    "    dataset_dict = {}\n",
    "    \n",
    "    for pos in range(len(extract)):\n",
    "        dataset = ee.ImageCollection(\"LANDSAT/LC08/C02/T1\").filterDate(extract[pos][0], extract[pos][1]).filter(ee.Filter.lt('CLOUD_COVER', 10)).filterBounds(aoi_glaciar)\n",
    "        dataset = dataset.map(calculate_ndsi_pure)\n",
    "        dataset = dataset.map(calculate_ndvi)\n",
    "        dataset = dataset.map(calculate_ndwi_pure)\n",
    "        dataset = dataset.map(add_band_B8_B6)\n",
    "        \n",
    "        \n",
    "        dataset_dict[extract[pos][1][:4]] = dataset\n",
    " \n",
    "    return dataset_dict\n",
    "\n",
    "def make_visual_verano(collection_years, aoi_glaciar, extract):\n",
    "\n",
    "    views_dict = {}\n",
    "\n",
    "    for pos in range(len(extract)):\n",
    "        views = []\n",
    "\n",
    "        collection = collection_years[extract[pos][1][:4]]\n",
    "\n",
    "        image_f = collection.first().clip(aoi_glaciar)\n",
    "        \n",
    "        image = collection.median().clip(aoi_glaciar)\n",
    "\n",
    "        toa_reflectance = calculate_toa_reflectance(image, image_f)\n",
    "        brightness_temp = calculate_brightness_temperature(image)\n",
    "        image_with_ndsi = calculate_ndsi(toa_reflectance)\n",
    "        image_with_ndvi = calculate_ndvi(image_with_ndsi)\n",
    "        image_with_ndgi = calculate_ndgi(toa_reflectance)\n",
    "        image_with_ndwi = calculate_ndwi(toa_reflectance)\n",
    "\n",
    "        views.append(toa_reflectance)\n",
    "        views.append(brightness_temp)\n",
    "        views.append(image_with_ndsi)\n",
    "        views.append(image_with_ndvi)\n",
    "        views.append(image_with_ndgi)\n",
    "        views.append(image_with_ndwi)\n",
    "        \n",
    "        \n",
    "        views_dict[extract[pos][1][:4]] = views\n",
    "\n",
    "    return views_dict\n",
    "    "
   ]
  },
  {
   "cell_type": "code",
   "execution_count": 98,
   "id": "5d7da780-b67e-4410-83e8-701e391a8b88",
   "metadata": {},
   "outputs": [
    {
     "data": {
      "text/html": [
       "\n",
       "            <style>\n",
       "                .geemap-dark {\n",
       "                    --jp-widgets-color: white;\n",
       "                    --jp-widgets-label-color: white;\n",
       "                    --jp-ui-font-color1: white;\n",
       "                    --jp-layout-color2: #454545;\n",
       "                    background-color: #383838;\n",
       "                }\n",
       "\n",
       "                .geemap-dark .jupyter-button {\n",
       "                    --jp-layout-color3: #383838;\n",
       "                }\n",
       "\n",
       "                .geemap-colab {\n",
       "                    background-color: var(--colab-primary-surface-color, white);\n",
       "                }\n",
       "\n",
       "                .geemap-colab .jupyter-button {\n",
       "                    --jp-layout-color3: var(--colab-primary-surface-color, white);\n",
       "                }\n",
       "            </style>\n",
       "            "
      ],
      "text/plain": [
       "<IPython.core.display.HTML object>"
      ]
     },
     "metadata": {},
     "output_type": "display_data"
    }
   ],
   "source": [
    "collection_years_verano = extract_images_for_year_landsatT1_verano(data_verano, aoi_glaciar)\n",
    "visual_verano = make_visual_verano(collection_years_verano, aoi_glaciar, data_verano)\n"
   ]
  },
  {
   "cell_type": "markdown",
   "id": "cf3ac490-17f5-4b80-b772-718552063be8",
   "metadata": {},
   "source": [
    "### Calculamos el filtro de las bandas de deteccion de nieve para el tiempo de verano en LANDSAT 8."
   ]
  },
  {
   "cell_type": "code",
   "execution_count": 99,
   "id": "1964591f-9045-4ba6-bb46-1487066e7357",
   "metadata": {},
   "outputs": [
    {
     "data": {
      "text/html": [
       "\n",
       "            <style>\n",
       "                .geemap-dark {\n",
       "                    --jp-widgets-color: white;\n",
       "                    --jp-widgets-label-color: white;\n",
       "                    --jp-ui-font-color1: white;\n",
       "                    --jp-layout-color2: #454545;\n",
       "                    background-color: #383838;\n",
       "                }\n",
       "\n",
       "                .geemap-dark .jupyter-button {\n",
       "                    --jp-layout-color3: #383838;\n",
       "                }\n",
       "\n",
       "                .geemap-colab {\n",
       "                    background-color: var(--colab-primary-surface-color, white);\n",
       "                }\n",
       "\n",
       "                .geemap-colab .jupyter-button {\n",
       "                    --jp-layout-color3: var(--colab-primary-surface-color, white);\n",
       "                }\n",
       "            </style>\n",
       "            "
      ],
      "text/plain": [
       "<IPython.core.display.HTML object>"
      ]
     },
     "metadata": {},
     "output_type": "display_data"
    }
   ],
   "source": [
    "def calculate_ndpan_verano(collection_years, extract):\n",
    "    views_dict = {}\n",
    "\n",
    "    for pos in range(len(extract)):\n",
    "        views = []\n",
    "\n",
    "        collection = collection_years[extract[pos][1][:4]]\n",
    "\n",
    "        image = collection.median().clip(aoi_glaciar)\n",
    "\n",
    "        diferencepan = image.normalizedDifference(['B8', 'B6']).rename('glacierPAN')\n",
    "        diferencered = image.normalizedDifference(['B4', 'B6']).rename('glacierRED')\n",
    "        diferenceNDSI = image.normalizedDifference(['B3', 'B6']).rename('glacierNDSI')\n",
    "\n",
    "        mask_pan = diferencepan.gte(0.4)\n",
    "        mask_red = diferencered.gte(0.4)\n",
    "        mask_NDSI = diferenceNDSI.gte(0.4)\n",
    "        \n",
    "        views.append(diferencepan)\n",
    "        views.append(diferencered)\n",
    "\n",
    "        diferencepan_filter = diferencepan.updateMask(mask_pan)\n",
    "        diferencered_filter = diferencered.updateMask(mask_red)\n",
    "        diferenceNDSI_filter = diferenceNDSI.updateMask(mask_NDSI)\n",
    "        \n",
    "        views.append(diferencepan_filter)\n",
    "        views.append(diferencered_filter)\n",
    "        views.append(diferenceNDSI_filter)\n",
    "        \n",
    "        views_dict[extract[pos][1][:4]] = views\n",
    "\n",
    "    return views_dict\n",
    "    \n",
    "    "
   ]
  },
  {
   "cell_type": "code",
   "execution_count": 100,
   "id": "b139f481-19f2-4f22-9533-44040161f408",
   "metadata": {},
   "outputs": [
    {
     "data": {
      "text/html": [
       "\n",
       "            <style>\n",
       "                .geemap-dark {\n",
       "                    --jp-widgets-color: white;\n",
       "                    --jp-widgets-label-color: white;\n",
       "                    --jp-ui-font-color1: white;\n",
       "                    --jp-layout-color2: #454545;\n",
       "                    background-color: #383838;\n",
       "                }\n",
       "\n",
       "                .geemap-dark .jupyter-button {\n",
       "                    --jp-layout-color3: #383838;\n",
       "                }\n",
       "\n",
       "                .geemap-colab {\n",
       "                    background-color: var(--colab-primary-surface-color, white);\n",
       "                }\n",
       "\n",
       "                .geemap-colab .jupyter-button {\n",
       "                    --jp-layout-color3: var(--colab-primary-surface-color, white);\n",
       "                }\n",
       "            </style>\n",
       "            "
      ],
      "text/plain": [
       "<IPython.core.display.HTML object>"
      ]
     },
     "metadata": {},
     "output_type": "display_data"
    }
   ],
   "source": [
    "area_glaciar_verano = calculate_ndpan_verano(collection_years_verano, data_verano)"
   ]
  },
  {
   "cell_type": "code",
   "execution_count": 101,
   "id": "b2e234e7-6913-468a-966c-bce3901a1cd5",
   "metadata": {},
   "outputs": [
    {
     "data": {
      "text/html": [
       "\n",
       "            <style>\n",
       "                .geemap-dark {\n",
       "                    --jp-widgets-color: white;\n",
       "                    --jp-widgets-label-color: white;\n",
       "                    --jp-ui-font-color1: white;\n",
       "                    --jp-layout-color2: #454545;\n",
       "                    background-color: #383838;\n",
       "                }\n",
       "\n",
       "                .geemap-dark .jupyter-button {\n",
       "                    --jp-layout-color3: #383838;\n",
       "                }\n",
       "\n",
       "                .geemap-colab {\n",
       "                    background-color: var(--colab-primary-surface-color, white);\n",
       "                }\n",
       "\n",
       "                .geemap-colab .jupyter-button {\n",
       "                    --jp-layout-color3: var(--colab-primary-surface-color, white);\n",
       "                }\n",
       "            </style>\n",
       "            "
      ],
      "text/plain": [
       "<IPython.core.display.HTML object>"
      ]
     },
     "metadata": {},
     "output_type": "display_data"
    },
    {
     "data": {
      "application/vnd.jupyter.widget-view+json": {
       "model_id": "08786a66903b42e69d66b7be93a3cbf2",
       "version_major": 2,
       "version_minor": 0
      },
      "text/plain": [
       "Map(center=[-28.364056553147115, -69.6095871859815], controls=(WidgetControl(options=['position', 'transparent…"
      ]
     },
     "execution_count": 101,
     "metadata": {},
     "output_type": "execute_result"
    }
   ],
   "source": [
    "Verano = geemap.Map(center=[y[0], x[0]], zoom=12)\n",
    "\n",
    "for year, image_list in area_glaciar_verano.items():\n",
    "    \n",
    "    third_image = image_list[2]\n",
    "    \n",
    "    Verano.addLayer(third_image.clip(aoi_observacion), {'bands': ['glacierPAN'], 'min': 0.4, 'max': 1, 'palette': ['blue', 'white', 'green']}, f'{year} PAN_threshold Image')\n",
    "\n",
    "Verano.add_layer(ee_multipolygon, {}, 'glaciar')\n",
    "Verano"
   ]
  },
  {
   "cell_type": "markdown",
   "id": "07ae4158-0146-4e78-a68e-40914679de0a",
   "metadata": {},
   "source": [
    "### Calculo del area de landsat 8 para las imagenes de verano"
   ]
  },
  {
   "cell_type": "code",
   "execution_count": 102,
   "id": "57e13981-788f-499c-a16c-268b49abe8be",
   "metadata": {},
   "outputs": [
    {
     "data": {
      "text/html": [
       "\n",
       "            <style>\n",
       "                .geemap-dark {\n",
       "                    --jp-widgets-color: white;\n",
       "                    --jp-widgets-label-color: white;\n",
       "                    --jp-ui-font-color1: white;\n",
       "                    --jp-layout-color2: #454545;\n",
       "                    background-color: #383838;\n",
       "                }\n",
       "\n",
       "                .geemap-dark .jupyter-button {\n",
       "                    --jp-layout-color3: #383838;\n",
       "                }\n",
       "\n",
       "                .geemap-colab {\n",
       "                    background-color: var(--colab-primary-surface-color, white);\n",
       "                }\n",
       "\n",
       "                .geemap-colab .jupyter-button {\n",
       "                    --jp-layout-color3: var(--colab-primary-surface-color, white);\n",
       "                }\n",
       "            </style>\n",
       "            "
      ],
      "text/plain": [
       "<IPython.core.display.HTML object>"
      ]
     },
     "metadata": {},
     "output_type": "display_data"
    }
   ],
   "source": [
    "area_calculado = {}\n",
    "\n",
    "for pos in range(len(data_verano)):\n",
    "    pixel_area = ee.Image.pixelArea()\n",
    "    \n",
    "    # Multiplicar el área del píxel por la máscara de la imagen para obtener el área de interés\n",
    "    masked_area_pan = pixel_area.updateMask(area_glaciar_verano[data_verano[pos][1][:4]][2])\n",
    "    masked_area_red = pixel_area.updateMask(area_glaciar_verano[data_verano[pos][1][:4]][3])\n",
    "    masked_area_NDSI = pixel_area.updateMask(area_glaciar_verano[data_verano[pos][1][:4]][4])\n",
    "    \n",
    "    # Reducir la imagen para obtener la suma total del área\n",
    "    area_reduction_pan = masked_area_pan.reduceRegion(\n",
    "        reducer=ee.Reducer.sum(),\n",
    "        geometry=area_glaciar_verano[data_verano[pos][1][:4]][2].geometry(),\n",
    "        scale=7.5,  # Tamaño del píxel en la misma unidad que la imagen, en este caso 1x1\n",
    "        maxPixels=1e10\n",
    "    )\n",
    "\n",
    "    area_reduction_red = masked_area_red.reduceRegion(\n",
    "        reducer=ee.Reducer.sum(),\n",
    "        geometry=area_glaciar_verano[data_verano[pos][1][:4]][3].geometry(),\n",
    "        scale=30,  # Tamaño del píxel en la misma unidad que la imagen, en este caso 1x1\n",
    "        maxPixels=1e10\n",
    "    )\n",
    "\n",
    "    area_reduction_NDSI = masked_area_NDSI.reduceRegion(\n",
    "        reducer=ee.Reducer.sum(),\n",
    "        geometry=area_glaciar_verano[data_verano[pos][1][:4]][4].geometry(),\n",
    "        scale=30,  # Tamaño del píxel en la misma unidad que la imagen, en este caso 1x1\n",
    "        maxPixels=1e10\n",
    "    )\n",
    "    \n",
    "    # Obtener el área total\n",
    "    total_area_pan = area_reduction_pan.getInfo()['area']\n",
    "    total_area_red = area_reduction_red.getInfo()['area']\n",
    "    total_area_NDSI = area_reduction_NDSI.getInfo()['area']\n",
    "    area_calculado[data_verano[pos][1][:4]] = [total_area_pan / 10**6, total_area_red / 10**6, total_area_NDSI / 10**6]\n",
    "    \n"
   ]
  },
  {
   "cell_type": "markdown",
   "id": "dc71c1d3-2458-4ddd-82d0-447a0750b3c1",
   "metadata": {},
   "source": [
    "### Datos \"LANDSAT/LE07/C02/T1\""
   ]
  },
  {
   "cell_type": "code",
   "execution_count": 103,
   "id": "0811962a-b0dc-4421-a090-d6c31ad9a4b6",
   "metadata": {},
   "outputs": [
    {
     "data": {
      "text/html": [
       "\n",
       "            <style>\n",
       "                .geemap-dark {\n",
       "                    --jp-widgets-color: white;\n",
       "                    --jp-widgets-label-color: white;\n",
       "                    --jp-ui-font-color1: white;\n",
       "                    --jp-layout-color2: #454545;\n",
       "                    background-color: #383838;\n",
       "                }\n",
       "\n",
       "                .geemap-dark .jupyter-button {\n",
       "                    --jp-layout-color3: #383838;\n",
       "                }\n",
       "\n",
       "                .geemap-colab {\n",
       "                    background-color: var(--colab-primary-surface-color, white);\n",
       "                }\n",
       "\n",
       "                .geemap-colab .jupyter-button {\n",
       "                    --jp-layout-color3: var(--colab-primary-surface-color, white);\n",
       "                }\n",
       "            </style>\n",
       "            "
      ],
      "text/plain": [
       "<IPython.core.display.HTML object>"
      ]
     },
     "metadata": {},
     "output_type": "display_data"
    }
   ],
   "source": [
    "data_verano_l7 = [(f'{a}-12-01', f'{a+1}-03-31') for a in range(1999, 2013)]"
   ]
  },
  {
   "cell_type": "code",
   "execution_count": 104,
   "id": "6678e48c-ab86-4a94-8935-2c7a86399139",
   "metadata": {},
   "outputs": [
    {
     "data": {
      "text/html": [
       "\n",
       "            <style>\n",
       "                .geemap-dark {\n",
       "                    --jp-widgets-color: white;\n",
       "                    --jp-widgets-label-color: white;\n",
       "                    --jp-ui-font-color1: white;\n",
       "                    --jp-layout-color2: #454545;\n",
       "                    background-color: #383838;\n",
       "                }\n",
       "\n",
       "                .geemap-dark .jupyter-button {\n",
       "                    --jp-layout-color3: #383838;\n",
       "                }\n",
       "\n",
       "                .geemap-colab {\n",
       "                    background-color: var(--colab-primary-surface-color, white);\n",
       "                }\n",
       "\n",
       "                .geemap-colab .jupyter-button {\n",
       "                    --jp-layout-color3: var(--colab-primary-surface-color, white);\n",
       "                }\n",
       "            </style>\n",
       "            "
      ],
      "text/plain": [
       "<IPython.core.display.HTML object>"
      ]
     },
     "metadata": {},
     "output_type": "display_data"
    }
   ],
   "source": [
    "def extract_images_for_year_landsat7T1_verano(extract, aoi_glaciar):\n",
    "\n",
    "    dataset_dict = {}\n",
    "    \n",
    "    for pos in range(len(extract)):\n",
    "        dataset = ee.ImageCollection(\"LANDSAT/LE07/C02/T1\").filterDate(extract[pos][0], extract[pos][1]).filter(ee.Filter.lt('CLOUD_COVER', 10)).filterBounds(aoi_glaciar)\n",
    "        dataset_dict[extract[pos][1][:4]] = dataset\n",
    " \n",
    "    return dataset_dict\n",
    "\n",
    "def make_visual_verano_L7(collection_years, aoi_glaciar, extract):\n",
    "\n",
    "    views_dict = {}\n",
    "\n",
    "    for pos in range(len(extract)):\n",
    "        views = []\n",
    "\n",
    "        collection = collection_years[extract[pos][1][:4]]\n",
    "\n",
    "        image_f = collection.first().clip(aoi_glaciar)\n",
    "        \n",
    "        image = collection.median().clip(aoi_glaciar)\n",
    "\n",
    "        views_dict[extract[pos][1][:4]] = views\n",
    "\n",
    "    return views_dict "
   ]
  },
  {
   "cell_type": "code",
   "execution_count": 105,
   "id": "acfc5b0c-f6de-4abb-a69a-c7f37cc86f95",
   "metadata": {},
   "outputs": [
    {
     "data": {
      "text/html": [
       "\n",
       "            <style>\n",
       "                .geemap-dark {\n",
       "                    --jp-widgets-color: white;\n",
       "                    --jp-widgets-label-color: white;\n",
       "                    --jp-ui-font-color1: white;\n",
       "                    --jp-layout-color2: #454545;\n",
       "                    background-color: #383838;\n",
       "                }\n",
       "\n",
       "                .geemap-dark .jupyter-button {\n",
       "                    --jp-layout-color3: #383838;\n",
       "                }\n",
       "\n",
       "                .geemap-colab {\n",
       "                    background-color: var(--colab-primary-surface-color, white);\n",
       "                }\n",
       "\n",
       "                .geemap-colab .jupyter-button {\n",
       "                    --jp-layout-color3: var(--colab-primary-surface-color, white);\n",
       "                }\n",
       "            </style>\n",
       "            "
      ],
      "text/plain": [
       "<IPython.core.display.HTML object>"
      ]
     },
     "metadata": {},
     "output_type": "display_data"
    }
   ],
   "source": [
    "collection_years_verano_l7 = extract_images_for_year_landsat7T1_verano(data_verano_l7, aoi_glaciar)\n",
    "visual_verano_l7 = make_visual_verano_L7(collection_years_verano_l7, aoi_glaciar, data_verano_l7)\n"
   ]
  },
  {
   "cell_type": "markdown",
   "id": "de1f401b-895b-458b-b87f-aaf57f92bc61",
   "metadata": {},
   "source": [
    "### Calculamos el filtro de las bandas de deteccion de nieve para el tiempo de verano en LANDSAT 7."
   ]
  },
  {
   "cell_type": "code",
   "execution_count": 106,
   "id": "a62bcdc3-ebc5-49d6-b9cb-b53fe8442d89",
   "metadata": {},
   "outputs": [
    {
     "data": {
      "text/html": [
       "\n",
       "            <style>\n",
       "                .geemap-dark {\n",
       "                    --jp-widgets-color: white;\n",
       "                    --jp-widgets-label-color: white;\n",
       "                    --jp-ui-font-color1: white;\n",
       "                    --jp-layout-color2: #454545;\n",
       "                    background-color: #383838;\n",
       "                }\n",
       "\n",
       "                .geemap-dark .jupyter-button {\n",
       "                    --jp-layout-color3: #383838;\n",
       "                }\n",
       "\n",
       "                .geemap-colab {\n",
       "                    background-color: var(--colab-primary-surface-color, white);\n",
       "                }\n",
       "\n",
       "                .geemap-colab .jupyter-button {\n",
       "                    --jp-layout-color3: var(--colab-primary-surface-color, white);\n",
       "                }\n",
       "            </style>\n",
       "            "
      ],
      "text/plain": [
       "<IPython.core.display.HTML object>"
      ]
     },
     "metadata": {},
     "output_type": "display_data"
    }
   ],
   "source": [
    "def calculate_ndpan_verano_l7(collection_years, extract):\n",
    "    views_dict = {}\n",
    "\n",
    "    for pos in range(len(extract)):\n",
    "        views = []\n",
    "\n",
    "        collection = collection_years[extract[pos][1][:4]]\n",
    "\n",
    "        image = collection.median().clip(aoi_glaciar)\n",
    "\n",
    "        \n",
    "        diferencepan = image.normalizedDifference(['B8', 'B5']).rename('glacierPAN')\n",
    "        diferencered = image.normalizedDifference(['B3', 'B5']).rename('glacierRED')\n",
    "        diferenceNDSI = image.normalizedDifference(['B2', 'B5']).rename('glacierNDSI')\n",
    "\n",
    "        mask_pan = diferencepan.gte(0.4)\n",
    "        mask_red = diferencered.gte(0.4)\n",
    "        mask_NDSI = diferenceNDSI.gte(0.4)\n",
    "        \n",
    "        views.append(diferencepan)\n",
    "        views.append(diferencered)\n",
    "\n",
    "\n",
    "        diferencepan_filter = diferencepan.updateMask(mask_pan)\n",
    "        diferencered_filter = diferencered.updateMask(mask_red)\n",
    "        diferenceNDSI_filter = diferenceNDSI.updateMask(mask_NDSI)\n",
    "        \n",
    "        views.append(diferencepan_filter)\n",
    "        views.append(diferencered_filter)\n",
    "        views.append(diferenceNDSI_filter)\n",
    "        \n",
    "        views_dict[extract[pos][1][:4]] = views\n",
    "\n",
    "    return views_dict\n",
    "    \n",
    "    "
   ]
  },
  {
   "cell_type": "code",
   "execution_count": 107,
   "id": "75122dad-34fb-4388-a11f-02acdcd9d006",
   "metadata": {
    "scrolled": true
   },
   "outputs": [
    {
     "data": {
      "text/html": [
       "\n",
       "            <style>\n",
       "                .geemap-dark {\n",
       "                    --jp-widgets-color: white;\n",
       "                    --jp-widgets-label-color: white;\n",
       "                    --jp-ui-font-color1: white;\n",
       "                    --jp-layout-color2: #454545;\n",
       "                    background-color: #383838;\n",
       "                }\n",
       "\n",
       "                .geemap-dark .jupyter-button {\n",
       "                    --jp-layout-color3: #383838;\n",
       "                }\n",
       "\n",
       "                .geemap-colab {\n",
       "                    background-color: var(--colab-primary-surface-color, white);\n",
       "                }\n",
       "\n",
       "                .geemap-colab .jupyter-button {\n",
       "                    --jp-layout-color3: var(--colab-primary-surface-color, white);\n",
       "                }\n",
       "            </style>\n",
       "            "
      ],
      "text/plain": [
       "<IPython.core.display.HTML object>"
      ]
     },
     "metadata": {},
     "output_type": "display_data"
    }
   ],
   "source": [
    "area_glaciar_verano_l7 = calculate_ndpan_verano_l7(collection_years_verano_l7, data_verano_l7)"
   ]
  },
  {
   "cell_type": "code",
   "execution_count": 108,
   "id": "dcd45ec2-4fbc-4678-84c4-95432ac0d12e",
   "metadata": {},
   "outputs": [
    {
     "data": {
      "text/html": [
       "\n",
       "            <style>\n",
       "                .geemap-dark {\n",
       "                    --jp-widgets-color: white;\n",
       "                    --jp-widgets-label-color: white;\n",
       "                    --jp-ui-font-color1: white;\n",
       "                    --jp-layout-color2: #454545;\n",
       "                    background-color: #383838;\n",
       "                }\n",
       "\n",
       "                .geemap-dark .jupyter-button {\n",
       "                    --jp-layout-color3: #383838;\n",
       "                }\n",
       "\n",
       "                .geemap-colab {\n",
       "                    background-color: var(--colab-primary-surface-color, white);\n",
       "                }\n",
       "\n",
       "                .geemap-colab .jupyter-button {\n",
       "                    --jp-layout-color3: var(--colab-primary-surface-color, white);\n",
       "                }\n",
       "            </style>\n",
       "            "
      ],
      "text/plain": [
       "<IPython.core.display.HTML object>"
      ]
     },
     "metadata": {},
     "output_type": "display_data"
    },
    {
     "data": {
      "application/vnd.jupyter.widget-view+json": {
       "model_id": "08786a66903b42e69d66b7be93a3cbf2",
       "version_major": 2,
       "version_minor": 0
      },
      "text/plain": [
       "Map(center=[-28.364056553147115, -69.6095871859815], controls=(WidgetControl(options=['position', 'transparent…"
      ]
     },
     "execution_count": 108,
     "metadata": {},
     "output_type": "execute_result"
    }
   ],
   "source": [
    "for year, image_list in area_glaciar_verano_l7.items():\n",
    "    third_image = image_list[2]\n",
    "\n",
    "    Verano.addLayer(third_image.clip(aoi_observacion), {'bands': ['glacierPAN'], 'min': 0.4, 'max': 1, 'palette': ['blue', 'white', 'green']}, f'{year} PAN_threshold Image')\n",
    "\n",
    "Verano.add_layer(ee_multipolygon, {}, 'glaciar')\n",
    "Verano"
   ]
  },
  {
   "cell_type": "markdown",
   "id": "5a49db92-821e-4b36-aa13-8e357f1b53e7",
   "metadata": {},
   "source": [
    "### Calculo del area de landsat 7 para las imagenes de verano"
   ]
  },
  {
   "cell_type": "code",
   "execution_count": 109,
   "id": "278c72c8-34f9-444c-a655-0af9fdceeb38",
   "metadata": {},
   "outputs": [
    {
     "data": {
      "text/html": [
       "\n",
       "            <style>\n",
       "                .geemap-dark {\n",
       "                    --jp-widgets-color: white;\n",
       "                    --jp-widgets-label-color: white;\n",
       "                    --jp-ui-font-color1: white;\n",
       "                    --jp-layout-color2: #454545;\n",
       "                    background-color: #383838;\n",
       "                }\n",
       "\n",
       "                .geemap-dark .jupyter-button {\n",
       "                    --jp-layout-color3: #383838;\n",
       "                }\n",
       "\n",
       "                .geemap-colab {\n",
       "                    background-color: var(--colab-primary-surface-color, white);\n",
       "                }\n",
       "\n",
       "                .geemap-colab .jupyter-button {\n",
       "                    --jp-layout-color3: var(--colab-primary-surface-color, white);\n",
       "                }\n",
       "            </style>\n",
       "            "
      ],
      "text/plain": [
       "<IPython.core.display.HTML object>"
      ]
     },
     "metadata": {},
     "output_type": "display_data"
    }
   ],
   "source": [
    "for pos in range(len(data_verano_l7)):\n",
    "    pixel_area = ee.Image.pixelArea()\n",
    "    \n",
    "    # Multiplicar el área del píxel por la máscara de la imagen para obtener el área de interés\n",
    "    masked_area_pan = pixel_area.updateMask(area_glaciar_verano_l7[data_verano_l7[pos][1][:4]][2])\n",
    "    masked_area_red = pixel_area.updateMask(area_glaciar_verano_l7[data_verano_l7[pos][1][:4]][3])\n",
    "    masked_area_NDSI = pixel_area.updateMask(area_glaciar_verano_l7[data_verano_l7[pos][1][:4]][4])\n",
    "    \n",
    "    \n",
    "    # Reducir la imagen para obtener la suma total del área\n",
    "    area_reduction_pan = masked_area_pan.reduceRegion(\n",
    "        reducer=ee.Reducer.sum(),\n",
    "        geometry=area_glaciar_verano_l7[data_verano_l7[pos][1][:4]][2].geometry(),\n",
    "        scale=7.5,  # Tamaño del píxel en la misma unidad que la imagen, en este caso 1x1\n",
    "        maxPixels=1e10\n",
    "    )\n",
    "\n",
    "    area_reduction_red = masked_area_red.reduceRegion(\n",
    "        reducer=ee.Reducer.sum(),\n",
    "        geometry=area_glaciar_verano_l7[data_verano_l7[pos][1][:4]][3].geometry(),\n",
    "        scale=30,  # Tamaño del píxel en la misma unidad que la imagen, en este caso 1x1\n",
    "        maxPixels=1e10\n",
    "    )\n",
    "\n",
    "    area_reduction_NDSI = masked_area_NDSI.reduceRegion(\n",
    "        reducer=ee.Reducer.sum(),\n",
    "        geometry=area_glaciar_verano_l7[data_verano_l7[pos][1][:4]][4].geometry(),\n",
    "        scale=30,  # Tamaño del píxel en la misma unidad que la imagen, en este caso 1x1\n",
    "        maxPixels=1e10\n",
    "    )\n",
    "    \n",
    "    # Obtener el área total\n",
    "    total_area_pan = area_reduction_pan.getInfo()['area']\n",
    "    total_area_red = area_reduction_red.getInfo()['area']\n",
    "    total_area_NDSI = area_reduction_NDSI.getInfo()['area']\n",
    "    area_calculado[data_verano_l7[pos][1][:4]] = [total_area_pan / 10**6, total_area_red / 10**6, total_area_NDSI / 10**6]\n"
   ]
  },
  {
   "cell_type": "markdown",
   "id": "2abf386d-9745-4c0f-89af-349b7d16c4b1",
   "metadata": {},
   "source": [
    "### Gif cambio del glaciar"
   ]
  },
  {
   "cell_type": "code",
   "execution_count": 110,
   "id": "a6c1231f-9ab8-4f60-b7c8-0e0b040201c3",
   "metadata": {},
   "outputs": [
    {
     "data": {
      "text/html": [
       "\n",
       "            <style>\n",
       "                .geemap-dark {\n",
       "                    --jp-widgets-color: white;\n",
       "                    --jp-widgets-label-color: white;\n",
       "                    --jp-ui-font-color1: white;\n",
       "                    --jp-layout-color2: #454545;\n",
       "                    background-color: #383838;\n",
       "                }\n",
       "\n",
       "                .geemap-dark .jupyter-button {\n",
       "                    --jp-layout-color3: #383838;\n",
       "                }\n",
       "\n",
       "                .geemap-colab {\n",
       "                    background-color: var(--colab-primary-surface-color, white);\n",
       "                }\n",
       "\n",
       "                .geemap-colab .jupyter-button {\n",
       "                    --jp-layout-color3: var(--colab-primary-surface-color, white);\n",
       "                }\n",
       "            </style>\n",
       "            "
      ],
      "text/plain": [
       "<IPython.core.display.HTML object>"
      ]
     },
     "metadata": {},
     "output_type": "display_data"
    }
   ],
   "source": [
    "nombres_bandas = ['glacierPAN', 'glacierRED', 'glacierNDSI']"
   ]
  },
  {
   "cell_type": "code",
   "execution_count": 111,
   "id": "5cc5306b-9907-4961-85df-2c9c5242d00d",
   "metadata": {},
   "outputs": [
    {
     "data": {
      "text/html": [
       "\n",
       "            <style>\n",
       "                .geemap-dark {\n",
       "                    --jp-widgets-color: white;\n",
       "                    --jp-widgets-label-color: white;\n",
       "                    --jp-ui-font-color1: white;\n",
       "                    --jp-layout-color2: #454545;\n",
       "                    background-color: #383838;\n",
       "                }\n",
       "\n",
       "                .geemap-dark .jupyter-button {\n",
       "                    --jp-layout-color3: #383838;\n",
       "                }\n",
       "\n",
       "                .geemap-colab {\n",
       "                    background-color: var(--colab-primary-surface-color, white);\n",
       "                }\n",
       "\n",
       "                .geemap-colab .jupyter-button {\n",
       "                    --jp-layout-color3: var(--colab-primary-surface-color, white);\n",
       "                }\n",
       "            </style>\n",
       "            "
      ],
      "text/plain": [
       "<IPython.core.display.HTML object>"
      ]
     },
     "metadata": {},
     "output_type": "display_data"
    },
    {
     "name": "stdout",
     "output_type": "stream",
     "text": [
      "Video URL for band 2: https://earthengine.googleapis.com/v1/projects/earthengine-legacy/videoThumbnails/21b19edad062861e54ec2d99d78625bb-25fe0c7a41ac134cf45192b1a89b0abc:getPixels\n",
      "GIF for band 2 has been downloaded successfully.\n",
      "Video URL for band 3: https://earthengine.googleapis.com/v1/projects/earthengine-legacy/videoThumbnails/10a8dab083cbfa4845011ea648fc0166-26475f18616db7569b313689d1a75a30:getPixels\n",
      "GIF for band 3 has been downloaded successfully.\n",
      "Video URL for band 4: https://earthengine.googleapis.com/v1/projects/earthengine-legacy/videoThumbnails/a8cc257db227aba97ac6c12397a8bb94-f5a83c08b8c8067aba2b5eec56570edd:getPixels\n",
      "GIF for band 4 has been downloaded successfully.\n"
     ]
    }
   ],
   "source": [
    "import requests\n",
    "\n",
    "for band in range(2, 5):\n",
    "    images_to_collection = []\n",
    "    for year in range(2000, 2025):\n",
    "        if year <= 2013:\n",
    "            images_to_collection.append(area_glaciar_verano_l7[str(year)][band])\n",
    "        else:\n",
    "            images_to_collection.append(area_glaciar_verano[str(year)][band])\n",
    "    \n",
    "    gif_glaciar = ee.ImageCollection(images_to_collection)\n",
    "    \n",
    "    videoArgs = {\n",
    "        'dimensions': 768,\n",
    "        'region': ee_multipolygon,\n",
    "        'framesPerSecond': 1,\n",
    "        'bands': nombres_bandas[band - 2],\n",
    "        'crs': 'EPSG:4326',\n",
    "        'min': 0.4,\n",
    "        'max': 1,\n",
    "        'palette': ['blue', 'white', 'green']\n",
    "    }\n",
    "    \n",
    "    video_url = gif_glaciar.getVideoThumbURL(videoArgs)\n",
    "    print(f\"Video URL for band {band}: {video_url}\")\n",
    "    \n",
    "    # Descargar el GIF\n",
    "    response = requests.get(video_url)\n",
    "    \n",
    "    if response.status_code == 200:\n",
    "        with open(f'glaciar_band_{band}.gif', 'wb') as f:\n",
    "            f.write(response.content)\n",
    "        print(f'GIF for band {band} has been downloaded successfully.')\n",
    "    else:\n",
    "        print(f'Failed to download GIF for band {band}. HTTP status code: {response.status_code}')\n"
   ]
  },
  {
   "cell_type": "code",
   "execution_count": 112,
   "id": "717ae5a5-aec1-4e7e-acfb-5b6952bed8ec",
   "metadata": {},
   "outputs": [
    {
     "data": {
      "text/html": [
       "\n",
       "            <style>\n",
       "                .geemap-dark {\n",
       "                    --jp-widgets-color: white;\n",
       "                    --jp-widgets-label-color: white;\n",
       "                    --jp-ui-font-color1: white;\n",
       "                    --jp-layout-color2: #454545;\n",
       "                    background-color: #383838;\n",
       "                }\n",
       "\n",
       "                .geemap-dark .jupyter-button {\n",
       "                    --jp-layout-color3: #383838;\n",
       "                }\n",
       "\n",
       "                .geemap-colab {\n",
       "                    background-color: var(--colab-primary-surface-color, white);\n",
       "                }\n",
       "\n",
       "                .geemap-colab .jupyter-button {\n",
       "                    --jp-layout-color3: var(--colab-primary-surface-color, white);\n",
       "                }\n",
       "            </style>\n",
       "            "
      ],
      "text/plain": [
       "<IPython.core.display.HTML object>"
      ]
     },
     "metadata": {},
     "output_type": "display_data"
    },
    {
     "data": {
      "image/png": "[encoded data removed]",
      "text/plain": [
       "<Figure size 1200x1000 with 1 Axes>"
      ]
     },
     "metadata": {},
     "output_type": "display_data"
    }
   ],
   "source": [
    "valores_verano_pan = []\n",
    "valores_verano_red = []\n",
    "valores_verano_NDSI = []\n",
    "anios_verano = list(range(2000, 2025)) \n",
    "for year in range(2000, 2025):\n",
    "    valores_verano_pan.append(area_calculado[str(year)][0])\n",
    "    valores_verano_red.append(area_calculado[str(year)][1])\n",
    "    valores_verano_NDSI.append(area_calculado[str(year)][2])\n",
    "    \n",
    "fig , ax = plt.subplots(figsize = (12, 10))\n",
    "ax.plot(anios_verano, valores_verano_pan, marker='o', label = 'PAN/SWIR')\n",
    "ax.plot(anios_verano, valores_verano_red, marker='o', label = 'RED/SWIR')\n",
    "ax.plot(anios_verano, valores_verano_NDSI, marker='o', label = 'GREEN/SWIR')\n",
    "\n",
    "plt.legend()\n",
    "plt.xlabel('Año')\n",
    "plt.ylabel('Area en Kilometros Cuadrados')\n",
    "plt.title('Gráfico de Area perido Verano Glaciar Potro Norte B y aquellos que estan a 800 mts')\n",
    "\n",
    "\n",
    "plt.grid(True)\n",
    "plt.xticks(range(2000, 2025, 1)) \n",
    "plt.xticks(rotation=45) \n",
    "plt.tight_layout() \n",
    "plt.show()"
   ]
  },
  {
   "cell_type": "markdown",
   "id": "13a8a28a-943c-462d-84e6-dc3cdf6aab0c",
   "metadata": {},
   "source": [
    "### Analisis area del modelo"
   ]
  },
  {
   "cell_type": "code",
   "execution_count": 113,
   "id": "27bee21c-8c65-438c-8c6b-23e6a12fa5ec",
   "metadata": {},
   "outputs": [
    {
     "data": {
      "text/html": [
       "\n",
       "            <style>\n",
       "                .geemap-dark {\n",
       "                    --jp-widgets-color: white;\n",
       "                    --jp-widgets-label-color: white;\n",
       "                    --jp-ui-font-color1: white;\n",
       "                    --jp-layout-color2: #454545;\n",
       "                    background-color: #383838;\n",
       "                }\n",
       "\n",
       "                .geemap-dark .jupyter-button {\n",
       "                    --jp-layout-color3: #383838;\n",
       "                }\n",
       "\n",
       "                .geemap-colab {\n",
       "                    background-color: var(--colab-primary-surface-color, white);\n",
       "                }\n",
       "\n",
       "                .geemap-colab .jupyter-button {\n",
       "                    --jp-layout-color3: var(--colab-primary-surface-color, white);\n",
       "                }\n",
       "            </style>\n",
       "            "
      ],
      "text/plain": [
       "<IPython.core.display.HTML object>"
      ]
     },
     "metadata": {},
     "output_type": "display_data"
    }
   ],
   "source": [
    "import json\n",
    "\n",
    "polygon_geojson = aoi_observacion.getInfo()\n",
    "\n",
    "with open('polygon.geojson', 'w') as f:\n",
    "    json.dump(polygon_geojson, f)\n",
    "\n",
    "# Cargar el GeoJSON en un GeoDataFrame\n",
    "gdf_poligono = gpd.read_file('polygon.geojson')"
   ]
  },
  {
   "cell_type": "code",
   "execution_count": 114,
   "id": "fb7a4628-78c0-4781-bfd3-e6b02bc6ec57",
   "metadata": {},
   "outputs": [
    {
     "data": {
      "text/html": [
       "\n",
       "            <style>\n",
       "                .geemap-dark {\n",
       "                    --jp-widgets-color: white;\n",
       "                    --jp-widgets-label-color: white;\n",
       "                    --jp-ui-font-color1: white;\n",
       "                    --jp-layout-color2: #454545;\n",
       "                    background-color: #383838;\n",
       "                }\n",
       "\n",
       "                .geemap-dark .jupyter-button {\n",
       "                    --jp-layout-color3: #383838;\n",
       "                }\n",
       "\n",
       "                .geemap-colab {\n",
       "                    background-color: var(--colab-primary-surface-color, white);\n",
       "                }\n",
       "\n",
       "                .geemap-colab .jupyter-button {\n",
       "                    --jp-layout-color3: var(--colab-primary-surface-color, white);\n",
       "                }\n",
       "            </style>\n",
       "            "
      ],
      "text/plain": [
       "<IPython.core.display.HTML object>"
      ]
     },
     "metadata": {},
     "output_type": "display_data"
    }
   ],
   "source": [
    "poligono_observar = gdf_poligono.to_crs(4326).iloc[0].geometry\n"
   ]
  },
  {
   "cell_type": "code",
   "execution_count": 115,
   "id": "4323cb8f-3375-4e5b-9d03-d09bea13131e",
   "metadata": {},
   "outputs": [
    {
     "data": {
      "text/html": [
       "\n",
       "            <style>\n",
       "                .geemap-dark {\n",
       "                    --jp-widgets-color: white;\n",
       "                    --jp-widgets-label-color: white;\n",
       "                    --jp-ui-font-color1: white;\n",
       "                    --jp-layout-color2: #454545;\n",
       "                    background-color: #383838;\n",
       "                }\n",
       "\n",
       "                .geemap-dark .jupyter-button {\n",
       "                    --jp-layout-color3: #383838;\n",
       "                }\n",
       "\n",
       "                .geemap-colab {\n",
       "                    background-color: var(--colab-primary-surface-color, white);\n",
       "                }\n",
       "\n",
       "                .geemap-colab .jupyter-button {\n",
       "                    --jp-layout-color3: var(--colab-primary-surface-color, white);\n",
       "                }\n",
       "            </style>\n",
       "            "
      ],
      "text/plain": [
       "<IPython.core.display.HTML object>"
      ]
     },
     "metadata": {},
     "output_type": "display_data"
    }
   ],
   "source": [
    "area_forest_tree_class = {}\n",
    "\n",
    "for year, dtf in final_result['3'].items():\n",
    "    area_est = final_result['3'][year][(final_result['3'][year].intersects(poligono_observar) == True) & (final_result['3'][year]['class_pred'] == 1)].to_crs(32719).geometry.area\n",
    "    area_forest_tree_class[str(int(year) + 1)] = area_est.sum() / 10**6"
   ]
  },
  {
   "cell_type": "code",
   "execution_count": 116,
   "id": "2176e97e-c7c8-469b-8a47-aa7fdfd53edb",
   "metadata": {},
   "outputs": [
    {
     "data": {
      "text/html": [
       "\n",
       "            <style>\n",
       "                .geemap-dark {\n",
       "                    --jp-widgets-color: white;\n",
       "                    --jp-widgets-label-color: white;\n",
       "                    --jp-ui-font-color1: white;\n",
       "                    --jp-layout-color2: #454545;\n",
       "                    background-color: #383838;\n",
       "                }\n",
       "\n",
       "                .geemap-dark .jupyter-button {\n",
       "                    --jp-layout-color3: #383838;\n",
       "                }\n",
       "\n",
       "                .geemap-colab {\n",
       "                    background-color: var(--colab-primary-surface-color, white);\n",
       "                }\n",
       "\n",
       "                .geemap-colab .jupyter-button {\n",
       "                    --jp-layout-color3: var(--colab-primary-surface-color, white);\n",
       "                }\n",
       "            </style>\n",
       "            "
      ],
      "text/plain": [
       "<IPython.core.display.HTML object>"
      ]
     },
     "metadata": {},
     "output_type": "display_data"
    },
    {
     "data": {
      "image/png": "[encoded data removed]",
      "text/plain": [
       "<Figure size 1200x1000 with 1 Axes>"
      ]
     },
     "metadata": {},
     "output_type": "display_data"
    }
   ],
   "source": [
    "valores = []\n",
    "anios = list(range(2015, 2025)) \n",
    "for year in range(2015, 2025):\n",
    "    valores.append(area_forest_tree_class[str(year)])\n",
    "    \n",
    "fig , ax = plt.subplots(figsize = (12, 10))\n",
    "ax.plot(anios_verano, valores_verano_pan, marker='o', label = 'PAN/SWIR')\n",
    "ax.plot(anios_verano, valores_verano_red, marker='o', label = 'RED/SWIR')\n",
    "ax.plot(anios_verano, valores_verano_NDSI, marker='o', label = 'GREEN/SWIR')\n",
    "ax.plot(anios, valores, marker='o', label='RandomForest Classificator')\n",
    "\n",
    "ax.legend()\n",
    "plt.xlabel('Año')\n",
    "plt.ylabel('Area en Kilometros Cuadrados')\n",
    "plt.title('Gráfico de Area Media Anual Glaciar Potro Norte B y glaciares a menos de 800 mts, RandomForest')\n",
    "\n",
    "\n",
    "plt.grid(True)\n",
    "plt.xticks(range(2000, 2025, 1)) \n",
    "plt.xticks(rotation=45) \n",
    "plt.tight_layout() \n",
    "plt.show()"
   ]
  },
  {
   "cell_type": "code",
   "execution_count": null,
   "id": "dc7ebd57-9b20-46c6-8aab-b99642321428",
   "metadata": {},
   "outputs": [],
   "source": []
  }
 ],
 "metadata": {
  "kernelspec": {
   "display_name": "Python 3 (ipykernel)",
   "language": "python",
   "name": "python3"
  },
  "language_info": {
   "codemirror_mode": {
    "name": "ipython",
    "version": 3
   },
   "file_extension": ".py",
   "mimetype": "text/x-python",
   "name": "python",
   "nbconvert_exporter": "python",
   "pygments_lexer": "ipython3",
   "version": "3.11.8"
  }
 },
 "nbformat": 4,
 "nbformat_minor": 5
}
