{
 "cells": [
  {
   "cell_type": "code",
   "execution_count": 1,
   "id": "0264d068-4170-46a1-b5b5-c1fba3f4908f",
   "metadata": {},
   "outputs": [],
   "source": [
    "import pandas as pd\n",
    "import geopandas as gpd\n",
    "import numpy as np\n",
    "import matplotlib.pyplot as plt\n",
    "import geemap,ee\n",
    "import matplotlib.colors as colors\n",
    "from shapely.geometry import shape, box, Polygon, mapping, Point\n",
    "from matplotlib import colors\n",
    "import shapely\n",
    "import matplotlib.patches as mpatches\n",
    "import contextily as ctx\n",
    "import geemap.colormaps as cm"
   ]
  },
  {
   "cell_type": "code",
   "execution_count": 2,
   "id": "40c581c2-3366-4bbc-94ff-8a107aab68ad",
   "metadata": {},
   "outputs": [
    {
     "data": {
      "text/html": [
       "\n",
       "            <style>\n",
       "                .geemap-dark {\n",
       "                    --jp-widgets-color: white;\n",
       "                    --jp-widgets-label-color: white;\n",
       "                    --jp-ui-font-color1: white;\n",
       "                    --jp-layout-color2: #454545;\n",
       "                    background-color: #383838;\n",
       "                }\n",
       "\n",
       "                .geemap-dark .jupyter-button {\n",
       "                    --jp-layout-color3: #383838;\n",
       "                }\n",
       "\n",
       "                .geemap-colab {\n",
       "                    background-color: var(--colab-primary-surface-color, white);\n",
       "                }\n",
       "\n",
       "                .geemap-colab .jupyter-button {\n",
       "                    --jp-layout-color3: var(--colab-primary-surface-color, white);\n",
       "                }\n",
       "            </style>\n",
       "            "
      ],
      "text/plain": [
       "<IPython.core.display.HTML object>"
      ]
     },
     "metadata": {},
     "output_type": "display_data"
    },
    {
     "data": {
      "text/plain": [
       "True"
      ]
     },
     "execution_count": 2,
     "metadata": {},
     "output_type": "execute_result"
    }
   ],
   "source": [
    "ee.Authenticate()"
   ]
  },
  {
   "cell_type": "code",
   "execution_count": 3,
   "id": "3bc94140-a821-4c5b-8248-fffe5dc958a7",
   "metadata": {},
   "outputs": [
    {
     "data": {
      "text/html": [
       "\n",
       "            <style>\n",
       "                .geemap-dark {\n",
       "                    --jp-widgets-color: white;\n",
       "                    --jp-widgets-label-color: white;\n",
       "                    --jp-ui-font-color1: white;\n",
       "                    --jp-layout-color2: #454545;\n",
       "                    background-color: #383838;\n",
       "                }\n",
       "\n",
       "                .geemap-dark .jupyter-button {\n",
       "                    --jp-layout-color3: #383838;\n",
       "                }\n",
       "\n",
       "                .geemap-colab {\n",
       "                    background-color: var(--colab-primary-surface-color, white);\n",
       "                }\n",
       "\n",
       "                .geemap-colab .jupyter-button {\n",
       "                    --jp-layout-color3: var(--colab-primary-surface-color, white);\n",
       "                }\n",
       "            </style>\n",
       "            "
      ],
      "text/plain": [
       "<IPython.core.display.HTML object>"
      ]
     },
     "metadata": {},
     "output_type": "display_data"
    }
   ],
   "source": [
    "ee.Initialize(project='ee-snmartinn31')"
   ]
  },
  {
   "cell_type": "code",
   "execution_count": 4,
   "id": "0b9c8e06-4875-49f7-a6be-d868d51a9d64",
   "metadata": {},
   "outputs": [
    {
     "data": {
      "text/html": [
       "\n",
       "            <style>\n",
       "                .geemap-dark {\n",
       "                    --jp-widgets-color: white;\n",
       "                    --jp-widgets-label-color: white;\n",
       "                    --jp-ui-font-color1: white;\n",
       "                    --jp-layout-color2: #454545;\n",
       "                    background-color: #383838;\n",
       "                }\n",
       "\n",
       "                .geemap-dark .jupyter-button {\n",
       "                    --jp-layout-color3: #383838;\n",
       "                }\n",
       "\n",
       "                .geemap-colab {\n",
       "                    background-color: var(--colab-primary-surface-color, white);\n",
       "                }\n",
       "\n",
       "                .geemap-colab .jupyter-button {\n",
       "                    --jp-layout-color3: var(--colab-primary-surface-color, white);\n",
       "                }\n",
       "            </style>\n",
       "            "
      ],
      "text/plain": [
       "<IPython.core.display.HTML object>"
      ]
     },
     "metadata": {},
     "output_type": "display_data"
    },
    {
     "name": "stderr",
     "output_type": "stream",
     "text": [
      "Cannot find header.dxf (GDAL_DATA is not defined)\n"
     ]
    }
   ],
   "source": [
    "rios = gpd.read_file('Masas_Lacustres/masas_lacustres.shp')"
   ]
  },
  {
   "cell_type": "code",
   "execution_count": 5,
   "id": "90ce4c2e-19b7-49de-8efa-f7506bfd2428",
   "metadata": {},
   "outputs": [
    {
     "data": {
      "text/html": [
       "\n",
       "            <style>\n",
       "                .geemap-dark {\n",
       "                    --jp-widgets-color: white;\n",
       "                    --jp-widgets-label-color: white;\n",
       "                    --jp-ui-font-color1: white;\n",
       "                    --jp-layout-color2: #454545;\n",
       "                    background-color: #383838;\n",
       "                }\n",
       "\n",
       "                .geemap-dark .jupyter-button {\n",
       "                    --jp-layout-color3: #383838;\n",
       "                }\n",
       "\n",
       "                .geemap-colab {\n",
       "                    background-color: var(--colab-primary-surface-color, white);\n",
       "                }\n",
       "\n",
       "                .geemap-colab .jupyter-button {\n",
       "                    --jp-layout-color3: var(--colab-primary-surface-color, white);\n",
       "                }\n",
       "            </style>\n",
       "            "
      ],
      "text/plain": [
       "<IPython.core.display.HTML object>"
      ]
     },
     "metadata": {},
     "output_type": "display_data"
    }
   ],
   "source": [
    "rios.to_crs(4326, inplace=True)"
   ]
  },
  {
   "cell_type": "code",
   "execution_count": 6,
   "id": "ec27c276-ab38-4a1a-ab5a-2edbb1daa786",
   "metadata": {},
   "outputs": [
    {
     "data": {
      "text/html": [
       "\n",
       "            <style>\n",
       "                .geemap-dark {\n",
       "                    --jp-widgets-color: white;\n",
       "                    --jp-widgets-label-color: white;\n",
       "                    --jp-ui-font-color1: white;\n",
       "                    --jp-layout-color2: #454545;\n",
       "                    background-color: #383838;\n",
       "                }\n",
       "\n",
       "                .geemap-dark .jupyter-button {\n",
       "                    --jp-layout-color3: #383838;\n",
       "                }\n",
       "\n",
       "                .geemap-colab {\n",
       "                    background-color: var(--colab-primary-surface-color, white);\n",
       "                }\n",
       "\n",
       "                .geemap-colab .jupyter-button {\n",
       "                    --jp-layout-color3: var(--colab-primary-surface-color, white);\n",
       "                }\n",
       "            </style>\n",
       "            "
      ],
      "text/plain": [
       "<IPython.core.display.HTML object>"
      ]
     },
     "metadata": {},
     "output_type": "display_data"
    },
    {
     "data": {
      "text/plain": [
       "<Axes: >"
      ]
     },
     "execution_count": 6,
     "metadata": {},
     "output_type": "execute_result"
    },
    {
     "data": {
      "image/png": "[encoded data removed]",
      "text/plain": [
       "<Figure size 640x480 with 1 Axes>"
      ]
     },
     "metadata": {},
     "output_type": "display_data"
    }
   ],
   "source": [
    "rios.plot()"
   ]
  },
  {
   "cell_type": "code",
   "execution_count": 7,
   "id": "4770e980-fd91-4b22-8f2d-08f155b1bd0f",
   "metadata": {},
   "outputs": [
    {
     "data": {
      "text/html": [
       "\n",
       "            <style>\n",
       "                .geemap-dark {\n",
       "                    --jp-widgets-color: white;\n",
       "                    --jp-widgets-label-color: white;\n",
       "                    --jp-ui-font-color1: white;\n",
       "                    --jp-layout-color2: #454545;\n",
       "                    background-color: #383838;\n",
       "                }\n",
       "\n",
       "                .geemap-dark .jupyter-button {\n",
       "                    --jp-layout-color3: #383838;\n",
       "                }\n",
       "\n",
       "                .geemap-colab {\n",
       "                    background-color: var(--colab-primary-surface-color, white);\n",
       "                }\n",
       "\n",
       "                .geemap-colab .jupyter-button {\n",
       "                    --jp-layout-color3: var(--colab-primary-surface-color, white);\n",
       "                }\n",
       "            </style>\n",
       "            "
      ],
      "text/plain": [
       "<IPython.core.display.HTML object>"
      ]
     },
     "metadata": {},
     "output_type": "display_data"
    }
   ],
   "source": [
    "glaciar = [[-73.2062204552081,-46.15011764265802],\n",
    "[-72.64454442981747,-46.15011764265802],\n",
    "[-72.64454442981747,-45.758670847843604],\n",
    "[-73.2062204552081,-45.758670847843604],\n",
    "[-73.2062204552081,-46.15011764265802]]"
   ]
  },
  {
   "cell_type": "code",
   "execution_count": 8,
   "id": "d64ff743-b3a8-4b27-96a5-b7b739b99a5c",
   "metadata": {},
   "outputs": [
    {
     "data": {
      "text/html": [
       "\n",
       "            <style>\n",
       "                .geemap-dark {\n",
       "                    --jp-widgets-color: white;\n",
       "                    --jp-widgets-label-color: white;\n",
       "                    --jp-ui-font-color1: white;\n",
       "                    --jp-layout-color2: #454545;\n",
       "                    background-color: #383838;\n",
       "                }\n",
       "\n",
       "                .geemap-dark .jupyter-button {\n",
       "                    --jp-layout-color3: #383838;\n",
       "                }\n",
       "\n",
       "                .geemap-colab {\n",
       "                    background-color: var(--colab-primary-surface-color, white);\n",
       "                }\n",
       "\n",
       "                .geemap-colab .jupyter-button {\n",
       "                    --jp-layout-color3: var(--colab-primary-surface-color, white);\n",
       "                }\n",
       "            </style>\n",
       "            "
      ],
      "text/plain": [
       "<IPython.core.display.HTML object>"
      ]
     },
     "metadata": {},
     "output_type": "display_data"
    }
   ],
   "source": [
    "def getAOI_latlon(dat):\n",
    "    aoi = ee.Geometry.Polygon(dat)\n",
    "    return(aoi)"
   ]
  },
  {
   "cell_type": "code",
   "execution_count": 9,
   "id": "76e2324c-6805-4407-ad55-ca0f06ce8933",
   "metadata": {},
   "outputs": [
    {
     "data": {
      "text/html": [
       "\n",
       "            <style>\n",
       "                .geemap-dark {\n",
       "                    --jp-widgets-color: white;\n",
       "                    --jp-widgets-label-color: white;\n",
       "                    --jp-ui-font-color1: white;\n",
       "                    --jp-layout-color2: #454545;\n",
       "                    background-color: #383838;\n",
       "                }\n",
       "\n",
       "                .geemap-dark .jupyter-button {\n",
       "                    --jp-layout-color3: #383838;\n",
       "                }\n",
       "\n",
       "                .geemap-colab {\n",
       "                    background-color: var(--colab-primary-surface-color, white);\n",
       "                }\n",
       "\n",
       "                .geemap-colab .jupyter-button {\n",
       "                    --jp-layout-color3: var(--colab-primary-surface-color, white);\n",
       "                }\n",
       "            </style>\n",
       "            "
      ],
      "text/plain": [
       "<IPython.core.display.HTML object>"
      ]
     },
     "metadata": {},
     "output_type": "display_data"
    },
    {
     "data": {
      "image/svg+xml": [
       "<svg xmlns=\"http://www.w3.org/2000/svg\" xmlns:xlink=\"http://www.w3.org/1999/xlink\" width=\"100.0\" height=\"100.0\" viewBox=\"-73.22868749622373 -46.17258468367364 0.6066101074218864 0.43638087684566074\" preserveAspectRatio=\"xMinYMin meet\"><g transform=\"matrix(1,0,0,-1,0,-91.90878849050162)\"><path fill-rule=\"evenodd\" fill=\"#66cc99\" stroke=\"#555555\" stroke-width=\"0.012132202148437727\" opacity=\"0.6\" d=\"M -73.2062204552081,-46.15011764265802 L -72.64454442981747,-46.15011764265802 L -72.64454442981747,-45.758670847843604 L -73.2062204552081,-45.758670847843604 L -73.2062204552081,-46.15011764265802 z\" /></g></svg>"
      ],
      "text/plain": [
       "<POLYGON ((-73.206 -46.15, -72.645 -46.15, -72.645 -45.759, -73.206 -45.759,...>"
      ]
     },
     "execution_count": 9,
     "metadata": {},
     "output_type": "execute_result"
    }
   ],
   "source": [
    "poligono_interes = Polygon(glaciar)\n",
    "poligono_interes"
   ]
  },
  {
   "cell_type": "code",
   "execution_count": 11,
   "id": "6d5ce5a4-7f36-4f06-930e-f5f74b3002bb",
   "metadata": {},
   "outputs": [
    {
     "data": {
      "text/html": [
       "\n",
       "            <style>\n",
       "                .geemap-dark {\n",
       "                    --jp-widgets-color: white;\n",
       "                    --jp-widgets-label-color: white;\n",
       "                    --jp-ui-font-color1: white;\n",
       "                    --jp-layout-color2: #454545;\n",
       "                    background-color: #383838;\n",
       "                }\n",
       "\n",
       "                .geemap-dark .jupyter-button {\n",
       "                    --jp-layout-color3: #383838;\n",
       "                }\n",
       "\n",
       "                .geemap-colab {\n",
       "                    background-color: var(--colab-primary-surface-color, white);\n",
       "                }\n",
       "\n",
       "                .geemap-colab .jupyter-button {\n",
       "                    --jp-layout-color3: var(--colab-primary-surface-color, white);\n",
       "                }\n",
       "            </style>\n",
       "            "
      ],
      "text/plain": [
       "<IPython.core.display.HTML object>"
      ]
     },
     "metadata": {},
     "output_type": "display_data"
    }
   ],
   "source": [
    "rios['glaciar'] = poligono_interes"
   ]
  },
  {
   "cell_type": "code",
   "execution_count": 12,
   "id": "c4db07f8-695a-4cec-9aa1-ae4d012c2ef0",
   "metadata": {},
   "outputs": [
    {
     "data": {
      "text/html": [
       "\n",
       "            <style>\n",
       "                .geemap-dark {\n",
       "                    --jp-widgets-color: white;\n",
       "                    --jp-widgets-label-color: white;\n",
       "                    --jp-ui-font-color1: white;\n",
       "                    --jp-layout-color2: #454545;\n",
       "                    background-color: #383838;\n",
       "                }\n",
       "\n",
       "                .geemap-dark .jupyter-button {\n",
       "                    --jp-layout-color3: #383838;\n",
       "                }\n",
       "\n",
       "                .geemap-colab {\n",
       "                    background-color: var(--colab-primary-surface-color, white);\n",
       "                }\n",
       "\n",
       "                .geemap-colab .jupyter-button {\n",
       "                    --jp-layout-color3: var(--colab-primary-surface-color, white);\n",
       "                }\n",
       "            </style>\n",
       "            "
      ],
      "text/plain": [
       "<IPython.core.display.HTML object>"
      ]
     },
     "metadata": {},
     "output_type": "display_data"
    }
   ],
   "source": [
    "rios.to_crs(4326, inplace=True)"
   ]
  },
  {
   "cell_type": "code",
   "execution_count": 13,
   "id": "aaab990f-dd19-4156-9f14-a628322d0be8",
   "metadata": {},
   "outputs": [
    {
     "data": {
      "text/html": [
       "\n",
       "            <style>\n",
       "                .geemap-dark {\n",
       "                    --jp-widgets-color: white;\n",
       "                    --jp-widgets-label-color: white;\n",
       "                    --jp-ui-font-color1: white;\n",
       "                    --jp-layout-color2: #454545;\n",
       "                    background-color: #383838;\n",
       "                }\n",
       "\n",
       "                .geemap-dark .jupyter-button {\n",
       "                    --jp-layout-color3: #383838;\n",
       "                }\n",
       "\n",
       "                .geemap-colab {\n",
       "                    background-color: var(--colab-primary-surface-color, white);\n",
       "                }\n",
       "\n",
       "                .geemap-colab .jupyter-button {\n",
       "                    --jp-layout-color3: var(--colab-primary-surface-color, white);\n",
       "                }\n",
       "            </style>\n",
       "            "
      ],
      "text/plain": [
       "<IPython.core.display.HTML object>"
      ]
     },
     "metadata": {},
     "output_type": "display_data"
    }
   ],
   "source": [
    "def lineas(row):\n",
    "    nearest_point, _ = shapely.ops.nearest_points(row['geometry_x'], row['geometry_y'])\n",
    "    return LineString([nearest_point, row['geometry_y']])"
   ]
  },
  {
   "cell_type": "code",
   "execution_count": 18,
   "id": "2ded678b-2761-4897-8769-5b74788c9e0a",
   "metadata": {},
   "outputs": [
    {
     "data": {
      "text/html": [
       "\n",
       "            <style>\n",
       "                .geemap-dark {\n",
       "                    --jp-widgets-color: white;\n",
       "                    --jp-widgets-label-color: white;\n",
       "                    --jp-ui-font-color1: white;\n",
       "                    --jp-layout-color2: #454545;\n",
       "                    background-color: #383838;\n",
       "                }\n",
       "\n",
       "                .geemap-dark .jupyter-button {\n",
       "                    --jp-layout-color3: #383838;\n",
       "                }\n",
       "\n",
       "                .geemap-colab {\n",
       "                    background-color: var(--colab-primary-surface-color, white);\n",
       "                }\n",
       "\n",
       "                .geemap-colab .jupyter-button {\n",
       "                    --jp-layout-color3: var(--colab-primary-surface-color, white);\n",
       "                }\n",
       "            </style>\n",
       "            "
      ],
      "text/plain": [
       "<IPython.core.display.HTML object>"
      ]
     },
     "metadata": {},
     "output_type": "display_data"
    }
   ],
   "source": [
    "def find_nearest_and_distance(row):\n",
    "    point1, point2 = shapely.ops.nearest_points(row['geometry'], row['glaciar'])\n",
    "    distance = point1.distance(point2)\n",
    "    return point1, point2, distance\n",
    "\n",
    "# Apply the function row-wise and expand the results into separate columns\n",
    "rios[['nearest_point', 'nearest_glaciar', 'distance']] = rios.apply(lambda row: pd.Series(find_nearest_and_distance(row)), axis=1)"
   ]
  },
  {
   "cell_type": "code",
   "execution_count": 28,
   "id": "405f92c0-e5d2-440b-92fc-d170e5f3b128",
   "metadata": {},
   "outputs": [
    {
     "data": {
      "text/html": [
       "\n",
       "            <style>\n",
       "                .geemap-dark {\n",
       "                    --jp-widgets-color: white;\n",
       "                    --jp-widgets-label-color: white;\n",
       "                    --jp-ui-font-color1: white;\n",
       "                    --jp-layout-color2: #454545;\n",
       "                    background-color: #383838;\n",
       "                }\n",
       "\n",
       "                .geemap-dark .jupyter-button {\n",
       "                    --jp-layout-color3: #383838;\n",
       "                }\n",
       "\n",
       "                .geemap-colab {\n",
       "                    background-color: var(--colab-primary-surface-color, white);\n",
       "                }\n",
       "\n",
       "                .geemap-colab .jupyter-button {\n",
       "                    --jp-layout-color3: var(--colab-primary-surface-color, white);\n",
       "                }\n",
       "            </style>\n",
       "            "
      ],
      "text/plain": [
       "<IPython.core.display.HTML object>"
      ]
     },
     "metadata": {},
     "output_type": "display_data"
    },
    {
     "data": {
      "text/html": [
       "<div>\n",
       "<style scoped>\n",
       "    .dataframe tbody tr th:only-of-type {\n",
       "        vertical-align: middle;\n",
       "    }\n",
       "\n",
       "    .dataframe tbody tr th {\n",
       "        vertical-align: top;\n",
       "    }\n",
       "\n",
       "    .dataframe thead th {\n",
       "        text-align: right;\n",
       "    }\n",
       "</style>\n",
       "<table border=\"1\" class=\"dataframe\">\n",
       "  <thead>\n",
       "    <tr style=\"text-align: right;\">\n",
       "      <th></th>\n",
       "      <th>objectid</th>\n",
       "      <th>st_area_sh</th>\n",
       "      <th>st_length_</th>\n",
       "      <th>Nombre</th>\n",
       "      <th>Tipo</th>\n",
       "      <th>geometry</th>\n",
       "      <th>glaciar</th>\n",
       "      <th>nearest_point</th>\n",
       "      <th>nearest_glaciar</th>\n",
       "      <th>distance</th>\n",
       "    </tr>\n",
       "  </thead>\n",
       "  <tbody>\n",
       "    <tr>\n",
       "      <th>16065</th>\n",
       "      <td>16517</td>\n",
       "      <td>6.826567e+05</td>\n",
       "      <td>7942.990377</td>\n",
       "      <td>Caja Rios</td>\n",
       "      <td>None</td>\n",
       "      <td>POLYGON ((-72.91440 -46.15712, -72.91595 -46.1...</td>\n",
       "      <td>POLYGON ((-73.2062204552081 -46.15011764265802...</td>\n",
       "      <td>POINT (-72.92851986260457 -46.15011764265802)</td>\n",
       "      <td>POINT (-72.92851986260457 -46.15011764265802)</td>\n",
       "      <td>0.000000</td>\n",
       "    </tr>\n",
       "    <tr>\n",
       "      <th>9107</th>\n",
       "      <td>9193</td>\n",
       "      <td>1.557294e+05</td>\n",
       "      <td>1717.710712</td>\n",
       "      <td>None</td>\n",
       "      <td>Laguna</td>\n",
       "      <td>POLYGON ((-73.04012 -46.11746, -73.04046 -46.1...</td>\n",
       "      <td>POLYGON ((-73.2062204552081 -46.15011764265802...</td>\n",
       "      <td>POINT (-73.04011825924826 -46.11745568480282)</td>\n",
       "      <td>POINT (-73.04011825924826 -46.11745568480282)</td>\n",
       "      <td>0.000000</td>\n",
       "    </tr>\n",
       "    <tr>\n",
       "      <th>9101</th>\n",
       "      <td>9187</td>\n",
       "      <td>4.411579e+04</td>\n",
       "      <td>889.845686</td>\n",
       "      <td>None</td>\n",
       "      <td>Laguna</td>\n",
       "      <td>POLYGON ((-72.98511 -46.11348, -72.98495 -46.1...</td>\n",
       "      <td>POLYGON ((-73.2062204552081 -46.15011764265802...</td>\n",
       "      <td>POINT (-72.98510700599547 -46.11348478845261)</td>\n",
       "      <td>POINT (-72.98510700599547 -46.11348478845261)</td>\n",
       "      <td>0.000000</td>\n",
       "    </tr>\n",
       "    <tr>\n",
       "      <th>9082</th>\n",
       "      <td>9168</td>\n",
       "      <td>1.139454e+05</td>\n",
       "      <td>1995.224499</td>\n",
       "      <td>None</td>\n",
       "      <td>Laguna</td>\n",
       "      <td>POLYGON ((-73.19650 -46.09706, -73.19684 -46.0...</td>\n",
       "      <td>POLYGON ((-73.2062204552081 -46.15011764265802...</td>\n",
       "      <td>POINT (-73.19650295141622 -46.09706217887345)</td>\n",
       "      <td>POINT (-73.19650295141622 -46.09706217887345)</td>\n",
       "      <td>0.000000</td>\n",
       "    </tr>\n",
       "    <tr>\n",
       "      <th>8623</th>\n",
       "      <td>8709</td>\n",
       "      <td>8.334272e+06</td>\n",
       "      <td>19870.297778</td>\n",
       "      <td>Laguna Vera</td>\n",
       "      <td>Laguna</td>\n",
       "      <td>POLYGON ((-72.78922 -45.71976, -72.78948 -45.7...</td>\n",
       "      <td>POLYGON ((-73.2062204552081 -46.15011764265802...</td>\n",
       "      <td>POINT (-72.76597380952644 -45.758670847843604)</td>\n",
       "      <td>POINT (-72.76597380952644 -45.758670847843604)</td>\n",
       "      <td>0.000000</td>\n",
       "    </tr>\n",
       "    <tr>\n",
       "      <th>...</th>\n",
       "      <td>...</td>\n",
       "      <td>...</td>\n",
       "      <td>...</td>\n",
       "      <td>...</td>\n",
       "      <td>...</td>\n",
       "      <td>...</td>\n",
       "      <td>...</td>\n",
       "      <td>...</td>\n",
       "      <td>...</td>\n",
       "      <td>...</td>\n",
       "    </tr>\n",
       "    <tr>\n",
       "      <th>9186</th>\n",
       "      <td>9272</td>\n",
       "      <td>6.915880e+04</td>\n",
       "      <td>1450.599060</td>\n",
       "      <td>None</td>\n",
       "      <td>Laguna</td>\n",
       "      <td>POLYGON ((-73.25600 -46.14243, -73.25641 -46.1...</td>\n",
       "      <td>POLYGON ((-73.2062204552081 -46.15011764265802...</td>\n",
       "      <td>POINT (-73.25241694864748 -46.14194869470353)</td>\n",
       "      <td>POINT (-73.2062204552081 -46.14194869470353)</td>\n",
       "      <td>0.046196</td>\n",
       "    </tr>\n",
       "    <tr>\n",
       "      <th>9298</th>\n",
       "      <td>9384</td>\n",
       "      <td>2.096330e+05</td>\n",
       "      <td>2684.851703</td>\n",
       "      <td>None</td>\n",
       "      <td>Laguna</td>\n",
       "      <td>POLYGON ((-73.22171 -46.19384, -73.22121 -46.1...</td>\n",
       "      <td>POLYGON ((-73.2062204552081 -46.15011764265802...</td>\n",
       "      <td>POINT (-73.22121387742206 -46.19387831515277)</td>\n",
       "      <td>POINT (-73.2062204552081 -46.15011764265802)</td>\n",
       "      <td>0.046258</td>\n",
       "    </tr>\n",
       "    <tr>\n",
       "      <th>8877</th>\n",
       "      <td>8963</td>\n",
       "      <td>9.746890e+04</td>\n",
       "      <td>1266.474814</td>\n",
       "      <td>None</td>\n",
       "      <td>Laguna</td>\n",
       "      <td>POLYGON ((-73.25447 -45.91682, -73.25486 -45.9...</td>\n",
       "      <td>POLYGON ((-73.2062204552081 -46.15011764265802...</td>\n",
       "      <td>POINT (-73.25330313757358 -45.91503557769844)</td>\n",
       "      <td>POINT (-73.2062204552081 -45.91503557769844)</td>\n",
       "      <td>0.047083</td>\n",
       "    </tr>\n",
       "    <tr>\n",
       "      <th>8626</th>\n",
       "      <td>8712</td>\n",
       "      <td>9.971107e+04</td>\n",
       "      <td>1538.721228</td>\n",
       "      <td>None</td>\n",
       "      <td>Laguna</td>\n",
       "      <td>POLYGON ((-73.13670 -45.71052, -73.13722 -45.7...</td>\n",
       "      <td>POLYGON ((-73.2062204552081 -46.15011764265802...</td>\n",
       "      <td>POINT (-73.13669977811243 -45.710518529409526)</td>\n",
       "      <td>POINT (-73.13669977811243 -45.758670847843604)</td>\n",
       "      <td>0.048152</td>\n",
       "    </tr>\n",
       "    <tr>\n",
       "      <th>8607</th>\n",
       "      <td>8693</td>\n",
       "      <td>5.401589e+05</td>\n",
       "      <td>3495.869992</td>\n",
       "      <td>Laguna del Paso</td>\n",
       "      <td>Laguna</td>\n",
       "      <td>POLYGON ((-72.94005 -45.70275, -72.93997 -45.7...</td>\n",
       "      <td>POLYGON ((-73.2062204552081 -46.15011764265802...</td>\n",
       "      <td>POINT (-72.94114561284566 -45.70838808782034)</td>\n",
       "      <td>POINT (-72.94114561284566 -45.758670847843604)</td>\n",
       "      <td>0.050283</td>\n",
       "    </tr>\n",
       "  </tbody>\n",
       "</table>\n",
       "<p>100 rows × 10 columns</p>\n",
       "</div>"
      ],
      "text/plain": [
       "       objectid    st_area_sh    st_length_           Nombre    Tipo  \\\n",
       "16065     16517  6.826567e+05   7942.990377        Caja Rios    None   \n",
       "9107       9193  1.557294e+05   1717.710712             None  Laguna   \n",
       "9101       9187  4.411579e+04    889.845686             None  Laguna   \n",
       "9082       9168  1.139454e+05   1995.224499             None  Laguna   \n",
       "8623       8709  8.334272e+06  19870.297778      Laguna Vera  Laguna   \n",
       "...         ...           ...           ...              ...     ...   \n",
       "9186       9272  6.915880e+04   1450.599060             None  Laguna   \n",
       "9298       9384  2.096330e+05   2684.851703             None  Laguna   \n",
       "8877       8963  9.746890e+04   1266.474814             None  Laguna   \n",
       "8626       8712  9.971107e+04   1538.721228             None  Laguna   \n",
       "8607       8693  5.401589e+05   3495.869992  Laguna del Paso  Laguna   \n",
       "\n",
       "                                                geometry  \\\n",
       "16065  POLYGON ((-72.91440 -46.15712, -72.91595 -46.1...   \n",
       "9107   POLYGON ((-73.04012 -46.11746, -73.04046 -46.1...   \n",
       "9101   POLYGON ((-72.98511 -46.11348, -72.98495 -46.1...   \n",
       "9082   POLYGON ((-73.19650 -46.09706, -73.19684 -46.0...   \n",
       "8623   POLYGON ((-72.78922 -45.71976, -72.78948 -45.7...   \n",
       "...                                                  ...   \n",
       "9186   POLYGON ((-73.25600 -46.14243, -73.25641 -46.1...   \n",
       "9298   POLYGON ((-73.22171 -46.19384, -73.22121 -46.1...   \n",
       "8877   POLYGON ((-73.25447 -45.91682, -73.25486 -45.9...   \n",
       "8626   POLYGON ((-73.13670 -45.71052, -73.13722 -45.7...   \n",
       "8607   POLYGON ((-72.94005 -45.70275, -72.93997 -45.7...   \n",
       "\n",
       "                                                 glaciar  \\\n",
       "16065  POLYGON ((-73.2062204552081 -46.15011764265802...   \n",
       "9107   POLYGON ((-73.2062204552081 -46.15011764265802...   \n",
       "9101   POLYGON ((-73.2062204552081 -46.15011764265802...   \n",
       "9082   POLYGON ((-73.2062204552081 -46.15011764265802...   \n",
       "8623   POLYGON ((-73.2062204552081 -46.15011764265802...   \n",
       "...                                                  ...   \n",
       "9186   POLYGON ((-73.2062204552081 -46.15011764265802...   \n",
       "9298   POLYGON ((-73.2062204552081 -46.15011764265802...   \n",
       "8877   POLYGON ((-73.2062204552081 -46.15011764265802...   \n",
       "8626   POLYGON ((-73.2062204552081 -46.15011764265802...   \n",
       "8607   POLYGON ((-73.2062204552081 -46.15011764265802...   \n",
       "\n",
       "                                        nearest_point  \\\n",
       "16065   POINT (-72.92851986260457 -46.15011764265802)   \n",
       "9107    POINT (-73.04011825924826 -46.11745568480282)   \n",
       "9101    POINT (-72.98510700599547 -46.11348478845261)   \n",
       "9082    POINT (-73.19650295141622 -46.09706217887345)   \n",
       "8623   POINT (-72.76597380952644 -45.758670847843604)   \n",
       "...                                               ...   \n",
       "9186    POINT (-73.25241694864748 -46.14194869470353)   \n",
       "9298    POINT (-73.22121387742206 -46.19387831515277)   \n",
       "8877    POINT (-73.25330313757358 -45.91503557769844)   \n",
       "8626   POINT (-73.13669977811243 -45.710518529409526)   \n",
       "8607    POINT (-72.94114561284566 -45.70838808782034)   \n",
       "\n",
       "                                      nearest_glaciar  distance  \n",
       "16065   POINT (-72.92851986260457 -46.15011764265802)  0.000000  \n",
       "9107    POINT (-73.04011825924826 -46.11745568480282)  0.000000  \n",
       "9101    POINT (-72.98510700599547 -46.11348478845261)  0.000000  \n",
       "9082    POINT (-73.19650295141622 -46.09706217887345)  0.000000  \n",
       "8623   POINT (-72.76597380952644 -45.758670847843604)  0.000000  \n",
       "...                                               ...       ...  \n",
       "9186     POINT (-73.2062204552081 -46.14194869470353)  0.046196  \n",
       "9298     POINT (-73.2062204552081 -46.15011764265802)  0.046258  \n",
       "8877     POINT (-73.2062204552081 -45.91503557769844)  0.047083  \n",
       "8626   POINT (-73.13669977811243 -45.758670847843604)  0.048152  \n",
       "8607   POINT (-72.94114561284566 -45.758670847843604)  0.050283  \n",
       "\n",
       "[100 rows x 10 columns]"
      ]
     },
     "execution_count": 28,
     "metadata": {},
     "output_type": "execute_result"
    }
   ],
   "source": [
    "rios.sort_values(by='distance')[:100]"
   ]
  },
  {
   "cell_type": "code",
   "execution_count": 29,
   "id": "25f08531-32ab-4994-8392-52ee6f47e475",
   "metadata": {},
   "outputs": [
    {
     "data": {
      "text/html": [
       "\n",
       "            <style>\n",
       "                .geemap-dark {\n",
       "                    --jp-widgets-color: white;\n",
       "                    --jp-widgets-label-color: white;\n",
       "                    --jp-ui-font-color1: white;\n",
       "                    --jp-layout-color2: #454545;\n",
       "                    background-color: #383838;\n",
       "                }\n",
       "\n",
       "                .geemap-dark .jupyter-button {\n",
       "                    --jp-layout-color3: #383838;\n",
       "                }\n",
       "\n",
       "                .geemap-colab {\n",
       "                    background-color: var(--colab-primary-surface-color, white);\n",
       "                }\n",
       "\n",
       "                .geemap-colab .jupyter-button {\n",
       "                    --jp-layout-color3: var(--colab-primary-surface-color, white);\n",
       "                }\n",
       "            </style>\n",
       "            "
      ],
      "text/plain": [
       "<IPython.core.display.HTML object>"
      ]
     },
     "metadata": {},
     "output_type": "display_data"
    },
    {
     "data": {
      "image/png": "[encoded data removed]",
      "text/plain": [
       "<Figure size 1200x800 with 1 Axes>"
      ]
     },
     "metadata": {},
     "output_type": "display_data"
    }
   ],
   "source": [
    "pos_x, pos_y = poligono_interes.boundary.xy\n",
    "\n",
    "\n",
    "fig, ax = plt.subplots(figsize=(12,8))\n",
    "rios.sort_values(by='distance')[:100].plot(color='blue', ax=ax)\n",
    "plt.plot(pos_x, pos_y)\n",
    "plt.show()"
   ]
  },
  {
   "cell_type": "code",
   "execution_count": null,
   "id": "ac0c7ef0-bd26-4856-b88e-ad3e245fdb02",
   "metadata": {},
   "outputs": [],
   "source": []
  },
  {
   "cell_type": "code",
   "execution_count": null,
   "id": "35348774-9150-40ea-b4ab-11f23f7f5c40",
   "metadata": {},
   "outputs": [],
   "source": []
  }
 ],
 "metadata": {
  "kernelspec": {
   "display_name": "Python 3 (ipykernel)",
   "language": "python",
   "name": "python3"
  },
  "language_info": {
   "codemirror_mode": {
    "name": "ipython",
    "version": 3
   },
   "file_extension": ".py",
   "mimetype": "text/x-python",
   "name": "python",
   "nbconvert_exporter": "python",
   "pygments_lexer": "ipython3",
   "version": "3.11.8"
  }
 },
 "nbformat": 4,
 "nbformat_minor": 5
}
